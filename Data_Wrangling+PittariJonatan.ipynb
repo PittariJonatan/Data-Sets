{
 "cells": [
  {
   "cell_type": "code",
   "execution_count": 1,
   "id": "226644ab",
   "metadata": {},
   "outputs": [],
   "source": [
    "import pandas as pd\n",
    "import numpy as np\n",
    "import matplotlib as mlp\n",
    "import matplotlib.pyplot as plt\n",
    "import seaborn as sns\n",
    "import os\n",
    "from sklearn.preprocessing import LabelEncoder\n",
    "from scipy.stats import chi2_contingency\n",
    "import warnings\n",
    "warnings.simplefilter(action='ignore', category=FutureWarning)\n",
    "from sklearn.model_selection import train_test_split\n",
    "from sklearn.metrics import matthews_corrcoef\n"
   ]
  },
  {
   "cell_type": "code",
   "execution_count": 2,
   "id": "decd6267",
   "metadata": {},
   "outputs": [],
   "source": [
    "url = 'https://raw.githubusercontent.com/PittariJonatan/Data-Sets/main/Airline%20Dataset%20Updated.csv'\n",
    "df = pd.read_csv(url, sep = ',')"
   ]
  },
  {
   "cell_type": "markdown",
   "id": "18cc7e0b",
   "metadata": {},
   "source": [
    "# Objetivo\n",
    "## Desarrollar un modelo predictivo para reducir el riesgo de cancelaciones, entonces \"Flight Status\" será la variable \"target\", y específicamente, vamos a querer predecir cuando un vuelo  tiene tendencia a ser del tipo de estado \"Cancelled\"."
   ]
  },
  {
   "cell_type": "markdown",
   "id": "aa7be117",
   "metadata": {},
   "source": [
    "### Contexto comercial\n",
    "\n",
    "Los datos de las aerolíneas tienen una inmensa importancia ya que ofrecen información sobre el funcionamiento y la eficiencia de la industria de la aviación. Proporciona información valiosa sobre rutas de vuelo, horarios, datos demográficos de los pasajeros y preferencias, que las aerolíneas pueden aprovechar para optimizar sus operaciones y mejorar las experiencias de los clientes. Al analizar datos sobre retrasos, cancelaciones y puntualidad, las aerolíneas pueden identificar tendencias e implementar estrategias para mejorar la puntualidad y mitigar las interrupciones. Además, los organismos reguladores y los encargados de formular políticas dependen de estos datos para garantizar los estándares de seguridad, hacer cumplir las regulaciones y tomar decisiones informadas sobre las políticas de aviación."
   ]
  },
  {
   "cell_type": "markdown",
   "id": "35971263",
   "metadata": {},
   "source": [
    "### Problema comercial\n",
    "\n",
    "Las cancelaciones de vuelos son un problema clave en la industria de la aviación. Los datos de las aerolíneas son esenciales para abordar este desafío y mejorar la eficiencia operativa, además de ser cruciales para reguladores, formuladores de políticas y analistas que buscan la seguridad y la toma de decisiones informadas."
   ]
  },
  {
   "cell_type": "markdown",
   "id": "a920085a",
   "metadata": {},
   "source": [
    "### Contexto analítico\n",
    "\n",
    "El data set posee información sobre 98619 filas, las cuales corresponden a un vuelo y pasajero específico, y 15 columnas las cuales detallamos brevemente a continuación:\n",
    "\n",
    "- Passenger ID: Identificador único para cada pasajero.\n",
    "- First Name: Nombre del pasajero.\n",
    "- Last Name: Apellido del pasajero.\n",
    "- Gender: Género del pasajero (por ejemplo, Masculino, Femenino).\n",
    "- Age: Edad del pasajero.\n",
    "- Nationality: Nacionalidad del pasajero.\n",
    "- Airport Name: Nombre del aeropuerto desde donde el pasajero abordó el vuelo.\n",
    "- Airport Country Code: Código del país donde se encuentra el aeropuerto.\n",
    "- Country Name: Nombre del país donde se encuentra el aeropuerto.\n",
    "- Airport Continent: Continente donde está situado el aeropuerto.\n",
    "- Continents: Continentes involucrados en la ruta del vuelo.\n",
    "- Departure Date: Fecha en que el vuelo partió.\n",
    "- Arrival Airport: Aeropuerto de destino del vuelo.\n",
    "- Pilot Name: Nombre del piloto que opera el vuelo.\n",
    "- Flight Status: Estado actual del vuelo (por ejemplo, a tiempo, retrasado, cancelado)."
   ]
  },
  {
   "cell_type": "code",
   "execution_count": 3,
   "id": "f5e05b0b",
   "metadata": {},
   "outputs": [
    {
     "data": {
      "text/html": [
       "<div>\n",
       "<style scoped>\n",
       "    .dataframe tbody tr th:only-of-type {\n",
       "        vertical-align: middle;\n",
       "    }\n",
       "\n",
       "    .dataframe tbody tr th {\n",
       "        vertical-align: top;\n",
       "    }\n",
       "\n",
       "    .dataframe thead th {\n",
       "        text-align: right;\n",
       "    }\n",
       "</style>\n",
       "<table border=\"1\" class=\"dataframe\">\n",
       "  <thead>\n",
       "    <tr style=\"text-align: right;\">\n",
       "      <th></th>\n",
       "      <th>Passenger ID</th>\n",
       "      <th>First Name</th>\n",
       "      <th>Last Name</th>\n",
       "      <th>Gender</th>\n",
       "      <th>Age</th>\n",
       "      <th>Nationality</th>\n",
       "      <th>Airport Name</th>\n",
       "      <th>Airport Country Code</th>\n",
       "      <th>Country Name</th>\n",
       "      <th>Airport Continent</th>\n",
       "      <th>Continents</th>\n",
       "      <th>Departure Date</th>\n",
       "      <th>Arrival Airport</th>\n",
       "      <th>Pilot Name</th>\n",
       "      <th>Flight Status</th>\n",
       "    </tr>\n",
       "  </thead>\n",
       "  <tbody>\n",
       "    <tr>\n",
       "      <th>0</th>\n",
       "      <td>ABVWIg</td>\n",
       "      <td>Edithe</td>\n",
       "      <td>Leggis</td>\n",
       "      <td>Female</td>\n",
       "      <td>62</td>\n",
       "      <td>Japan</td>\n",
       "      <td>Coldfoot Airport</td>\n",
       "      <td>US</td>\n",
       "      <td>United States</td>\n",
       "      <td>NAM</td>\n",
       "      <td>North America</td>\n",
       "      <td>6/28/2022</td>\n",
       "      <td>CXF</td>\n",
       "      <td>Edithe Leggis</td>\n",
       "      <td>On Time</td>\n",
       "    </tr>\n",
       "    <tr>\n",
       "      <th>1</th>\n",
       "      <td>jkXXAX</td>\n",
       "      <td>Elwood</td>\n",
       "      <td>Catt</td>\n",
       "      <td>Male</td>\n",
       "      <td>62</td>\n",
       "      <td>Nicaragua</td>\n",
       "      <td>Kugluktuk Airport</td>\n",
       "      <td>CA</td>\n",
       "      <td>Canada</td>\n",
       "      <td>NAM</td>\n",
       "      <td>North America</td>\n",
       "      <td>12/26/2022</td>\n",
       "      <td>YCO</td>\n",
       "      <td>Elwood Catt</td>\n",
       "      <td>On Time</td>\n",
       "    </tr>\n",
       "    <tr>\n",
       "      <th>2</th>\n",
       "      <td>CdUz2g</td>\n",
       "      <td>Darby</td>\n",
       "      <td>Felgate</td>\n",
       "      <td>Male</td>\n",
       "      <td>67</td>\n",
       "      <td>Russia</td>\n",
       "      <td>Grenoble-Isère Airport</td>\n",
       "      <td>FR</td>\n",
       "      <td>France</td>\n",
       "      <td>EU</td>\n",
       "      <td>Europe</td>\n",
       "      <td>1/18/2022</td>\n",
       "      <td>GNB</td>\n",
       "      <td>Darby Felgate</td>\n",
       "      <td>On Time</td>\n",
       "    </tr>\n",
       "    <tr>\n",
       "      <th>3</th>\n",
       "      <td>BRS38V</td>\n",
       "      <td>Dominica</td>\n",
       "      <td>Pyle</td>\n",
       "      <td>Female</td>\n",
       "      <td>71</td>\n",
       "      <td>China</td>\n",
       "      <td>Ottawa / Gatineau Airport</td>\n",
       "      <td>CA</td>\n",
       "      <td>Canada</td>\n",
       "      <td>NAM</td>\n",
       "      <td>North America</td>\n",
       "      <td>9/16/2022</td>\n",
       "      <td>YND</td>\n",
       "      <td>Dominica Pyle</td>\n",
       "      <td>Delayed</td>\n",
       "    </tr>\n",
       "    <tr>\n",
       "      <th>4</th>\n",
       "      <td>9kvTLo</td>\n",
       "      <td>Bay</td>\n",
       "      <td>Pencost</td>\n",
       "      <td>Male</td>\n",
       "      <td>21</td>\n",
       "      <td>China</td>\n",
       "      <td>Gillespie Field</td>\n",
       "      <td>US</td>\n",
       "      <td>United States</td>\n",
       "      <td>NAM</td>\n",
       "      <td>North America</td>\n",
       "      <td>2/25/2022</td>\n",
       "      <td>SEE</td>\n",
       "      <td>Bay Pencost</td>\n",
       "      <td>On Time</td>\n",
       "    </tr>\n",
       "  </tbody>\n",
       "</table>\n",
       "</div>"
      ],
      "text/plain": [
       "  Passenger ID First Name Last Name  Gender  Age Nationality  \\\n",
       "0       ABVWIg     Edithe    Leggis  Female   62       Japan   \n",
       "1       jkXXAX     Elwood      Catt    Male   62   Nicaragua   \n",
       "2       CdUz2g      Darby   Felgate    Male   67      Russia   \n",
       "3       BRS38V   Dominica      Pyle  Female   71       China   \n",
       "4       9kvTLo        Bay   Pencost    Male   21       China   \n",
       "\n",
       "                Airport Name Airport Country Code   Country Name  \\\n",
       "0           Coldfoot Airport                   US  United States   \n",
       "1          Kugluktuk Airport                   CA         Canada   \n",
       "2     Grenoble-Isère Airport                   FR         France   \n",
       "3  Ottawa / Gatineau Airport                   CA         Canada   \n",
       "4            Gillespie Field                   US  United States   \n",
       "\n",
       "  Airport Continent     Continents Departure Date Arrival Airport  \\\n",
       "0               NAM  North America      6/28/2022             CXF   \n",
       "1               NAM  North America     12/26/2022             YCO   \n",
       "2                EU         Europe      1/18/2022             GNB   \n",
       "3               NAM  North America      9/16/2022             YND   \n",
       "4               NAM  North America      2/25/2022             SEE   \n",
       "\n",
       "      Pilot Name Flight Status  \n",
       "0  Edithe Leggis       On Time  \n",
       "1    Elwood Catt       On Time  \n",
       "2  Darby Felgate       On Time  \n",
       "3  Dominica Pyle       Delayed  \n",
       "4    Bay Pencost       On Time  "
      ]
     },
     "execution_count": 3,
     "metadata": {},
     "output_type": "execute_result"
    }
   ],
   "source": [
    "df.head()"
   ]
  },
  {
   "cell_type": "markdown",
   "id": "08cf1ce2",
   "metadata": {},
   "source": [
    "#### Eliminamos las columnas First Name, Last Name y Pilot Name ya que no hay personas, ni pilotos con más de dos vuelos registrados. Son columnas que no agregaran un valor significativo a nuestro modelo predictivo. También dropeamos Airport Country Code y Airport Continent por una cuestión de redundancia con respecto a Country Name y Continents."
   ]
  },
  {
   "cell_type": "code",
   "execution_count": 4,
   "id": "e3bbd52c",
   "metadata": {},
   "outputs": [],
   "source": [
    "df = df.drop(columns= ['First Name', 'Last Name', 'Pilot Name', 'Airport Country Code', 'Airport Continent'])"
   ]
  },
  {
   "cell_type": "markdown",
   "id": "c1c29913",
   "metadata": {},
   "source": [
    "#### Convertimos la variable Departure Date a formato tiempo."
   ]
  },
  {
   "cell_type": "code",
   "execution_count": 5,
   "id": "638f487b",
   "metadata": {},
   "outputs": [],
   "source": [
    "df['Departure Date'] = pd.to_datetime(df['Departure Date'])"
   ]
  },
  {
   "cell_type": "markdown",
   "id": "eb01a3dd",
   "metadata": {},
   "source": [
    "#### Cambiamos la numeración de Passenger ID de un formato con código asignado para el registro del aeropuerto a un rango de números mas legibles y de fácil procesamiento en caso de ser requerido."
   ]
  },
  {
   "cell_type": "code",
   "execution_count": 6,
   "id": "9fb8d1a9",
   "metadata": {},
   "outputs": [],
   "source": [
    "df['Passenger ID'] = range(0, len(df))"
   ]
  },
  {
   "cell_type": "markdown",
   "id": "5cec9fc3",
   "metadata": {},
   "source": [
    "####  Primero, debemos separar el data set en una parte para entrenamiento del algoritmo (df_train) y otra para el testeo del mismo (df_test). Como pretendemos realizar una regresión logística para predecir una posible cancelación en este conjuntos de datos, tomamos Flight Status la convertimos en una variable binaria. Dado que solo apuntamos a los cancelados ( == 1 ), tomaremos los On Time y Delayed como un mismo conjunto ( == 0 ). Posteriormente dividimos los datos en conjuntos de entrenamiento y prueba."
   ]
  },
  {
   "cell_type": "code",
   "execution_count": 7,
   "id": "1efb0275",
   "metadata": {},
   "outputs": [],
   "source": [
    "df['Flight Status'] = df['Flight Status'].apply(lambda x: 1 if x == 'Cancelled' else 0)\n",
    "\n",
    "df_train, df_test = train_test_split(df, test_size=0.3, random_state=42)"
   ]
  },
  {
   "cell_type": "code",
   "execution_count": 8,
   "id": "b270353b",
   "metadata": {},
   "outputs": [
    {
     "data": {
      "text/html": [
       "<div>\n",
       "<style scoped>\n",
       "    .dataframe tbody tr th:only-of-type {\n",
       "        vertical-align: middle;\n",
       "    }\n",
       "\n",
       "    .dataframe tbody tr th {\n",
       "        vertical-align: top;\n",
       "    }\n",
       "\n",
       "    .dataframe thead th {\n",
       "        text-align: right;\n",
       "    }\n",
       "</style>\n",
       "<table border=\"1\" class=\"dataframe\">\n",
       "  <thead>\n",
       "    <tr style=\"text-align: right;\">\n",
       "      <th></th>\n",
       "      <th>Passenger ID</th>\n",
       "      <th>Gender</th>\n",
       "      <th>Age</th>\n",
       "      <th>Nationality</th>\n",
       "      <th>Airport Name</th>\n",
       "      <th>Country Name</th>\n",
       "      <th>Continents</th>\n",
       "      <th>Departure Date</th>\n",
       "      <th>Arrival Airport</th>\n",
       "      <th>Flight Status</th>\n",
       "    </tr>\n",
       "  </thead>\n",
       "  <tbody>\n",
       "    <tr>\n",
       "      <th>28204</th>\n",
       "      <td>28204</td>\n",
       "      <td>Male</td>\n",
       "      <td>61</td>\n",
       "      <td>Russia</td>\n",
       "      <td>Kabri Dehar Airport</td>\n",
       "      <td>Ethiopia</td>\n",
       "      <td>Africa</td>\n",
       "      <td>2022-09-07</td>\n",
       "      <td>ABK</td>\n",
       "      <td>0</td>\n",
       "    </tr>\n",
       "    <tr>\n",
       "      <th>6048</th>\n",
       "      <td>6048</td>\n",
       "      <td>Female</td>\n",
       "      <td>11</td>\n",
       "      <td>Portugal</td>\n",
       "      <td>Mornington Island Airport</td>\n",
       "      <td>Australia</td>\n",
       "      <td>Oceania</td>\n",
       "      <td>2022-02-15</td>\n",
       "      <td>ONG</td>\n",
       "      <td>1</td>\n",
       "    </tr>\n",
       "    <tr>\n",
       "      <th>67079</th>\n",
       "      <td>67079</td>\n",
       "      <td>Male</td>\n",
       "      <td>62</td>\n",
       "      <td>China</td>\n",
       "      <td>Dallas Fort Worth International Airport</td>\n",
       "      <td>United States</td>\n",
       "      <td>North America</td>\n",
       "      <td>2022-03-09</td>\n",
       "      <td>DFW</td>\n",
       "      <td>0</td>\n",
       "    </tr>\n",
       "    <tr>\n",
       "      <th>65825</th>\n",
       "      <td>65825</td>\n",
       "      <td>Female</td>\n",
       "      <td>49</td>\n",
       "      <td>Syria</td>\n",
       "      <td>Vinh Airport</td>\n",
       "      <td>Viet Nam</td>\n",
       "      <td>Asia</td>\n",
       "      <td>2022-07-10</td>\n",
       "      <td>VII</td>\n",
       "      <td>1</td>\n",
       "    </tr>\n",
       "    <tr>\n",
       "      <th>11010</th>\n",
       "      <td>11010</td>\n",
       "      <td>Female</td>\n",
       "      <td>72</td>\n",
       "      <td>Colombia</td>\n",
       "      <td>Jose Maria Velasco Ibarra Airport</td>\n",
       "      <td>Ecuador</td>\n",
       "      <td>South America</td>\n",
       "      <td>2022-01-20</td>\n",
       "      <td>MRR</td>\n",
       "      <td>1</td>\n",
       "    </tr>\n",
       "    <tr>\n",
       "      <th>...</th>\n",
       "      <td>...</td>\n",
       "      <td>...</td>\n",
       "      <td>...</td>\n",
       "      <td>...</td>\n",
       "      <td>...</td>\n",
       "      <td>...</td>\n",
       "      <td>...</td>\n",
       "      <td>...</td>\n",
       "      <td>...</td>\n",
       "      <td>...</td>\n",
       "    </tr>\n",
       "    <tr>\n",
       "      <th>6265</th>\n",
       "      <td>6265</td>\n",
       "      <td>Male</td>\n",
       "      <td>86</td>\n",
       "      <td>China</td>\n",
       "      <td>Moolawatana Airport</td>\n",
       "      <td>Australia</td>\n",
       "      <td>Oceania</td>\n",
       "      <td>2022-02-12</td>\n",
       "      <td>MWT</td>\n",
       "      <td>0</td>\n",
       "    </tr>\n",
       "    <tr>\n",
       "      <th>54886</th>\n",
       "      <td>54886</td>\n",
       "      <td>Male</td>\n",
       "      <td>43</td>\n",
       "      <td>Portugal</td>\n",
       "      <td>Minhas Air Base</td>\n",
       "      <td>Pakistan</td>\n",
       "      <td>Asia</td>\n",
       "      <td>2022-12-19</td>\n",
       "      <td>ATG</td>\n",
       "      <td>1</td>\n",
       "    </tr>\n",
       "    <tr>\n",
       "      <th>76820</th>\n",
       "      <td>76820</td>\n",
       "      <td>Female</td>\n",
       "      <td>15</td>\n",
       "      <td>Portugal</td>\n",
       "      <td>Boundary Airport</td>\n",
       "      <td>United States</td>\n",
       "      <td>North America</td>\n",
       "      <td>2022-06-26</td>\n",
       "      <td>BYA</td>\n",
       "      <td>0</td>\n",
       "    </tr>\n",
       "    <tr>\n",
       "      <th>860</th>\n",
       "      <td>860</td>\n",
       "      <td>Male</td>\n",
       "      <td>28</td>\n",
       "      <td>Indonesia</td>\n",
       "      <td>Sandstone Airport</td>\n",
       "      <td>Australia</td>\n",
       "      <td>Oceania</td>\n",
       "      <td>2022-01-03</td>\n",
       "      <td>NDS</td>\n",
       "      <td>0</td>\n",
       "    </tr>\n",
       "    <tr>\n",
       "      <th>15795</th>\n",
       "      <td>15795</td>\n",
       "      <td>Male</td>\n",
       "      <td>28</td>\n",
       "      <td>China</td>\n",
       "      <td>Ozona Municipal Airport</td>\n",
       "      <td>United States</td>\n",
       "      <td>North America</td>\n",
       "      <td>2022-11-29</td>\n",
       "      <td>OZA</td>\n",
       "      <td>0</td>\n",
       "    </tr>\n",
       "  </tbody>\n",
       "</table>\n",
       "<p>69033 rows × 10 columns</p>\n",
       "</div>"
      ],
      "text/plain": [
       "       Passenger ID  Gender  Age Nationality  \\\n",
       "28204         28204    Male   61      Russia   \n",
       "6048           6048  Female   11    Portugal   \n",
       "67079         67079    Male   62       China   \n",
       "65825         65825  Female   49       Syria   \n",
       "11010         11010  Female   72    Colombia   \n",
       "...             ...     ...  ...         ...   \n",
       "6265           6265    Male   86       China   \n",
       "54886         54886    Male   43    Portugal   \n",
       "76820         76820  Female   15    Portugal   \n",
       "860             860    Male   28   Indonesia   \n",
       "15795         15795    Male   28       China   \n",
       "\n",
       "                                  Airport Name   Country Name     Continents  \\\n",
       "28204                      Kabri Dehar Airport       Ethiopia         Africa   \n",
       "6048                 Mornington Island Airport      Australia        Oceania   \n",
       "67079  Dallas Fort Worth International Airport  United States  North America   \n",
       "65825                             Vinh Airport       Viet Nam           Asia   \n",
       "11010        Jose Maria Velasco Ibarra Airport        Ecuador  South America   \n",
       "...                                        ...            ...            ...   \n",
       "6265                       Moolawatana Airport      Australia        Oceania   \n",
       "54886                          Minhas Air Base       Pakistan           Asia   \n",
       "76820                         Boundary Airport  United States  North America   \n",
       "860                          Sandstone Airport      Australia        Oceania   \n",
       "15795                  Ozona Municipal Airport  United States  North America   \n",
       "\n",
       "      Departure Date Arrival Airport  Flight Status  \n",
       "28204     2022-09-07             ABK              0  \n",
       "6048      2022-02-15             ONG              1  \n",
       "67079     2022-03-09             DFW              0  \n",
       "65825     2022-07-10             VII              1  \n",
       "11010     2022-01-20             MRR              1  \n",
       "...              ...             ...            ...  \n",
       "6265      2022-02-12             MWT              0  \n",
       "54886     2022-12-19             ATG              1  \n",
       "76820     2022-06-26             BYA              0  \n",
       "860       2022-01-03             NDS              0  \n",
       "15795     2022-11-29             OZA              0  \n",
       "\n",
       "[69033 rows x 10 columns]"
      ]
     },
     "execution_count": 8,
     "metadata": {},
     "output_type": "execute_result"
    }
   ],
   "source": [
    "df_train"
   ]
  },
  {
   "cell_type": "markdown",
   "id": "a51bf069",
   "metadata": {},
   "source": [
    "#### Calculamos el valor de la correlación entre 'Age' y 'Flight Status'. El resultado es -0.003967036762306412, lo que indica que no hay una correlación lineal significativa entre la edad de los pasajeros y la probabilidad de que sus vuelos sean cancelados."
   ]
  },
  {
   "cell_type": "code",
   "execution_count": 9,
   "id": "bbb50c7d",
   "metadata": {},
   "outputs": [
    {
     "data": {
      "text/plain": [
       "-0.003967036762306412"
      ]
     },
     "execution_count": 9,
     "metadata": {},
     "output_type": "execute_result"
    }
   ],
   "source": [
    "correlation_matrix = df_train[['Age', 'Flight Status']].corr()\n",
    "correlation_age_target = correlation_matrix.loc['Age', 'Flight Status']\n",
    "correlation_age_target"
   ]
  },
  {
   "cell_type": "markdown",
   "id": "00d0bb62",
   "metadata": {},
   "source": [
    "#### Convertimos la variable Gender a formato binario para su posterior evaluación del coeficiente de correlación de Matthews con respecto a Flight Status. El resultado es un valor muy cercano a cero. Esto indica que, al menos dentro del conjunto de datos de entrenamiento, no hay una asociación significativa entre el género del pasajero y la probabilidad de que su vuelo sea cancelado."
   ]
  },
  {
   "cell_type": "code",
   "execution_count": 10,
   "id": "e4ee6fa1",
   "metadata": {},
   "outputs": [
    {
     "data": {
      "text/plain": [
       "0.0010416881963464795"
      ]
     },
     "execution_count": 10,
     "metadata": {},
     "output_type": "execute_result"
    }
   ],
   "source": [
    "df_train['Gender Encoded'] = df_train['Gender'].apply(lambda x: 1 if x == 'Female' else 0)\n",
    "\n",
    "phi_coefficient = matthews_corrcoef(df_train['Gender Encoded'], df_train['Flight Status'])\n",
    "phi_coefficient"
   ]
  },
  {
   "cell_type": "markdown",
   "id": "110beb30",
   "metadata": {},
   "source": [
    "#### Primero calculamos la tasa de cancelación por aeropuerto en el conj. entrenamiento. Posteriormente mapeamos la tasa de cancelaciones y calculamos la correlación existente entre la variable Airport Cancellation Rate con respecto a nuestro Target, es decir, Flight Status."
   ]
  },
  {
   "cell_type": "code",
   "execution_count": 11,
   "id": "e0c991b2",
   "metadata": {},
   "outputs": [
    {
     "data": {
      "text/plain": [
       "0.36304321806028744"
      ]
     },
     "execution_count": 11,
     "metadata": {},
     "output_type": "execute_result"
    }
   ],
   "source": [
    "airport_cancellation_rates = df_train.groupby('Airport Name')['Flight Status'].mean()\n",
    "\n",
    "df_train['Airport Cancellation Rate'] = df_train['Airport Name'].map(airport_cancellation_rates)\n",
    "\n",
    "correlation_airport_cancellation = df_train['Airport Cancellation Rate'].corr(df_train['Flight Status'])\n",
    "\n",
    "correlation_airport_cancellation"
   ]
  },
  {
   "cell_type": "markdown",
   "id": "5d72880b",
   "metadata": {},
   "source": [
    "#### Vemos una relación positiva moderada. Esto sugiere que existe una asociación estadísticamente significativa entre el aeropuerto de donde parte el vuelo y la probabilidad de que el vuelo sea cancelado. Airport Cancellation Rate podría ser un predictor útil para incluir en el modelo de regresión logística."
   ]
  },
  {
   "cell_type": "markdown",
   "id": "50960819",
   "metadata": {},
   "source": [
    "#### Procedemos a indagar la correlación entre Country Name y nuestra variable Target [Flight Status], para ello en una primera instancia calculamos la tasa de cancelación por país en df_train. Posteriormente mapeamos dicha tasa en una variable llamada [Country Cancellation Rate] y como último paso, calculamos la relacion entre dicha columna y nuestro objetivo."
   ]
  },
  {
   "cell_type": "code",
   "execution_count": 12,
   "id": "f0f9b9e0",
   "metadata": {},
   "outputs": [
    {
     "data": {
      "text/plain": [
       "0.05431774887736149"
      ]
     },
     "execution_count": 12,
     "metadata": {},
     "output_type": "execute_result"
    }
   ],
   "source": [
    "country_cancellation_rates = df_train.groupby('Country Name')['Flight Status'].mean()\n",
    "\n",
    "df_train['Country Cancellation Rate'] = df_train['Country Name'].map(country_cancellation_rates)\n",
    "\n",
    "correlation_country_cancellation = df_train['Country Cancellation Rate'].corr(df_train['Flight Status'])\n",
    "correlation_country_cancellation"
   ]
  },
  {
   "cell_type": "markdown",
   "id": "ada7bc00",
   "metadata": {},
   "source": [
    "#### El valor de correlación de 0.054, indica una correlación positiva, aunque bastante débil. Esto sugiere que hay una leve asociación entre el país desde el cual opera el vuelo y la probabilidad de que el vuelo sea cancelado. Aunque la tasa de cancelación de vuelos de un país tiene algún grado de relación con las cancelaciones de vuelos, no es un predictor fuerte por sí mismo."
   ]
  },
  {
   "cell_type": "markdown",
   "id": "8209fac1",
   "metadata": {},
   "source": [
    "#### Procedemos a indagar la correlación entre Continents y nuestra variable Target [Flight Status], para ello en una primera instancia calculamos la tasa de cancelación por país en df_train. Posteriormente mapeamos dicha tasa en una variable llamada [Continents Cancellation Rate] y como último paso, calculamos la relacion entre dicha columna y nuestro objetivo."
   ]
  },
  {
   "cell_type": "code",
   "execution_count": 13,
   "id": "2858f503",
   "metadata": {},
   "outputs": [
    {
     "data": {
      "text/plain": [
       "0.009946431396016754"
      ]
     },
     "execution_count": 13,
     "metadata": {},
     "output_type": "execute_result"
    }
   ],
   "source": [
    "continents_cancellation_rates = df_train.groupby('Continents')['Flight Status'].mean()\n",
    "\n",
    "df_train['Continents Cancellation Rate'] = df_train['Continents'].map(continents_cancellation_rates)\n",
    "\n",
    "correlation_continents_cancellation = df_train['Continents Cancellation Rate'].corr(df_train['Flight Status'])\n",
    "correlation_continents_cancellation"
   ]
  },
  {
   "cell_type": "markdown",
   "id": "749858dd",
   "metadata": {},
   "source": [
    "#### Una correlación de 0.0099 es muy cercana a cero, indicando que no hay una relación lineal fuerte entre el continente de salida del vuelo y la probabilidad de cancelación del vuelo según los datos del conjunto de entrenamiento."
   ]
  },
  {
   "cell_type": "markdown",
   "id": "8ce75abf",
   "metadata": {},
   "source": [
    "#### Evaluamos la correlación entre Nationality y nuestra variable Target [Flight Status], para ello en una primera instancia calculamos la tasa de cancelación por país en df_train. Posteriormente mapeamos dicha tasa en una variable llamada [Nationality Cancellation Rate] y como último paso, calculamos la relacion entre dicha columna y nuestro objetivo."
   ]
  },
  {
   "cell_type": "code",
   "execution_count": 14,
   "id": "dd665b33",
   "metadata": {},
   "outputs": [
    {
     "data": {
      "text/plain": [
       "0.05854617537804673"
      ]
     },
     "execution_count": 14,
     "metadata": {},
     "output_type": "execute_result"
    }
   ],
   "source": [
    "nationality_cancellation_rates = df_train.groupby('Nationality')['Flight Status'].mean()\n",
    "\n",
    "df_train['Nationality Cancellation Rate'] = df_train['Nationality'].map(nationality_cancellation_rates)\n",
    "\n",
    "correlation_nationality_cancellation = df_train['Nationality Cancellation Rate'].corr(df_train['Flight Status'])\n",
    "correlation_nationality_cancellation"
   ]
  },
  {
   "cell_type": "markdown",
   "id": "efbb940a",
   "metadata": {},
   "source": [
    "#### Un coeficiente de correlación de 0.058 sugiere una correlación positiva muy débil. Esto implica que hay una leve relación entre la nacionalidad y la probabilidad de que un vuelo sea cancelado, pero no es una relación fuerte."
   ]
  },
  {
   "cell_type": "code",
   "execution_count": 15,
   "id": "f15a039e",
   "metadata": {},
   "outputs": [
    {
     "data": {
      "text/html": [
       "<div>\n",
       "<style scoped>\n",
       "    .dataframe tbody tr th:only-of-type {\n",
       "        vertical-align: middle;\n",
       "    }\n",
       "\n",
       "    .dataframe tbody tr th {\n",
       "        vertical-align: top;\n",
       "    }\n",
       "\n",
       "    .dataframe thead th {\n",
       "        text-align: right;\n",
       "    }\n",
       "</style>\n",
       "<table border=\"1\" class=\"dataframe\">\n",
       "  <thead>\n",
       "    <tr style=\"text-align: right;\">\n",
       "      <th></th>\n",
       "      <th>Passenger ID</th>\n",
       "      <th>Gender</th>\n",
       "      <th>Age</th>\n",
       "      <th>Nationality</th>\n",
       "      <th>Airport Name</th>\n",
       "      <th>Country Name</th>\n",
       "      <th>Continents</th>\n",
       "      <th>Departure Date</th>\n",
       "      <th>Arrival Airport</th>\n",
       "      <th>Flight Status</th>\n",
       "      <th>Gender Encoded</th>\n",
       "      <th>Airport Cancellation Rate</th>\n",
       "      <th>Country Cancellation Rate</th>\n",
       "      <th>Continents Cancellation Rate</th>\n",
       "      <th>Nationality Cancellation Rate</th>\n",
       "    </tr>\n",
       "  </thead>\n",
       "  <tbody>\n",
       "    <tr>\n",
       "      <th>28204</th>\n",
       "      <td>28204</td>\n",
       "      <td>Male</td>\n",
       "      <td>61</td>\n",
       "      <td>Russia</td>\n",
       "      <td>Kabri Dehar Airport</td>\n",
       "      <td>Ethiopia</td>\n",
       "      <td>Africa</td>\n",
       "      <td>2022-09-07</td>\n",
       "      <td>ABK</td>\n",
       "      <td>0</td>\n",
       "      <td>0</td>\n",
       "      <td>0.714286</td>\n",
       "      <td>0.324397</td>\n",
       "      <td>0.334713</td>\n",
       "      <td>0.333909</td>\n",
       "    </tr>\n",
       "    <tr>\n",
       "      <th>6048</th>\n",
       "      <td>6048</td>\n",
       "      <td>Female</td>\n",
       "      <td>11</td>\n",
       "      <td>Portugal</td>\n",
       "      <td>Mornington Island Airport</td>\n",
       "      <td>Australia</td>\n",
       "      <td>Oceania</td>\n",
       "      <td>2022-02-15</td>\n",
       "      <td>ONG</td>\n",
       "      <td>1</td>\n",
       "      <td>1</td>\n",
       "      <td>0.333333</td>\n",
       "      <td>0.336877</td>\n",
       "      <td>0.331148</td>\n",
       "      <td>0.346287</td>\n",
       "    </tr>\n",
       "    <tr>\n",
       "      <th>67079</th>\n",
       "      <td>67079</td>\n",
       "      <td>Male</td>\n",
       "      <td>62</td>\n",
       "      <td>China</td>\n",
       "      <td>Dallas Fort Worth International Airport</td>\n",
       "      <td>United States</td>\n",
       "      <td>North America</td>\n",
       "      <td>2022-03-09</td>\n",
       "      <td>DFW</td>\n",
       "      <td>0</td>\n",
       "      <td>0</td>\n",
       "      <td>0.285714</td>\n",
       "      <td>0.332097</td>\n",
       "      <td>0.335957</td>\n",
       "      <td>0.334953</td>\n",
       "    </tr>\n",
       "    <tr>\n",
       "      <th>65825</th>\n",
       "      <td>65825</td>\n",
       "      <td>Female</td>\n",
       "      <td>49</td>\n",
       "      <td>Syria</td>\n",
       "      <td>Vinh Airport</td>\n",
       "      <td>Viet Nam</td>\n",
       "      <td>Asia</td>\n",
       "      <td>2022-07-10</td>\n",
       "      <td>VII</td>\n",
       "      <td>1</td>\n",
       "      <td>1</td>\n",
       "      <td>0.538462</td>\n",
       "      <td>0.324324</td>\n",
       "      <td>0.334769</td>\n",
       "      <td>0.374502</td>\n",
       "    </tr>\n",
       "    <tr>\n",
       "      <th>11010</th>\n",
       "      <td>11010</td>\n",
       "      <td>Female</td>\n",
       "      <td>72</td>\n",
       "      <td>Colombia</td>\n",
       "      <td>Jose Maria Velasco Ibarra Airport</td>\n",
       "      <td>Ecuador</td>\n",
       "      <td>South America</td>\n",
       "      <td>2022-01-20</td>\n",
       "      <td>MRR</td>\n",
       "      <td>1</td>\n",
       "      <td>1</td>\n",
       "      <td>0.714286</td>\n",
       "      <td>0.391089</td>\n",
       "      <td>0.347554</td>\n",
       "      <td>0.352614</td>\n",
       "    </tr>\n",
       "    <tr>\n",
       "      <th>...</th>\n",
       "      <td>...</td>\n",
       "      <td>...</td>\n",
       "      <td>...</td>\n",
       "      <td>...</td>\n",
       "      <td>...</td>\n",
       "      <td>...</td>\n",
       "      <td>...</td>\n",
       "      <td>...</td>\n",
       "      <td>...</td>\n",
       "      <td>...</td>\n",
       "      <td>...</td>\n",
       "      <td>...</td>\n",
       "      <td>...</td>\n",
       "      <td>...</td>\n",
       "      <td>...</td>\n",
       "    </tr>\n",
       "    <tr>\n",
       "      <th>6265</th>\n",
       "      <td>6265</td>\n",
       "      <td>Male</td>\n",
       "      <td>86</td>\n",
       "      <td>China</td>\n",
       "      <td>Moolawatana Airport</td>\n",
       "      <td>Australia</td>\n",
       "      <td>Oceania</td>\n",
       "      <td>2022-02-12</td>\n",
       "      <td>MWT</td>\n",
       "      <td>0</td>\n",
       "      <td>0</td>\n",
       "      <td>0.200000</td>\n",
       "      <td>0.336877</td>\n",
       "      <td>0.331148</td>\n",
       "      <td>0.334953</td>\n",
       "    </tr>\n",
       "    <tr>\n",
       "      <th>54886</th>\n",
       "      <td>54886</td>\n",
       "      <td>Male</td>\n",
       "      <td>43</td>\n",
       "      <td>Portugal</td>\n",
       "      <td>Minhas Air Base</td>\n",
       "      <td>Pakistan</td>\n",
       "      <td>Asia</td>\n",
       "      <td>2022-12-19</td>\n",
       "      <td>ATG</td>\n",
       "      <td>1</td>\n",
       "      <td>0</td>\n",
       "      <td>0.454545</td>\n",
       "      <td>0.344398</td>\n",
       "      <td>0.334769</td>\n",
       "      <td>0.346287</td>\n",
       "    </tr>\n",
       "    <tr>\n",
       "      <th>76820</th>\n",
       "      <td>76820</td>\n",
       "      <td>Female</td>\n",
       "      <td>15</td>\n",
       "      <td>Portugal</td>\n",
       "      <td>Boundary Airport</td>\n",
       "      <td>United States</td>\n",
       "      <td>North America</td>\n",
       "      <td>2022-06-26</td>\n",
       "      <td>BYA</td>\n",
       "      <td>0</td>\n",
       "      <td>1</td>\n",
       "      <td>0.428571</td>\n",
       "      <td>0.332097</td>\n",
       "      <td>0.335957</td>\n",
       "      <td>0.346287</td>\n",
       "    </tr>\n",
       "    <tr>\n",
       "      <th>860</th>\n",
       "      <td>860</td>\n",
       "      <td>Male</td>\n",
       "      <td>28</td>\n",
       "      <td>Indonesia</td>\n",
       "      <td>Sandstone Airport</td>\n",
       "      <td>Australia</td>\n",
       "      <td>Oceania</td>\n",
       "      <td>2022-01-03</td>\n",
       "      <td>NDS</td>\n",
       "      <td>0</td>\n",
       "      <td>0</td>\n",
       "      <td>0.166667</td>\n",
       "      <td>0.336877</td>\n",
       "      <td>0.331148</td>\n",
       "      <td>0.336216</td>\n",
       "    </tr>\n",
       "    <tr>\n",
       "      <th>15795</th>\n",
       "      <td>15795</td>\n",
       "      <td>Male</td>\n",
       "      <td>28</td>\n",
       "      <td>China</td>\n",
       "      <td>Ozona Municipal Airport</td>\n",
       "      <td>United States</td>\n",
       "      <td>North America</td>\n",
       "      <td>2022-11-29</td>\n",
       "      <td>OZA</td>\n",
       "      <td>0</td>\n",
       "      <td>0</td>\n",
       "      <td>0.100000</td>\n",
       "      <td>0.332097</td>\n",
       "      <td>0.335957</td>\n",
       "      <td>0.334953</td>\n",
       "    </tr>\n",
       "  </tbody>\n",
       "</table>\n",
       "<p>69033 rows × 15 columns</p>\n",
       "</div>"
      ],
      "text/plain": [
       "       Passenger ID  Gender  Age Nationality  \\\n",
       "28204         28204    Male   61      Russia   \n",
       "6048           6048  Female   11    Portugal   \n",
       "67079         67079    Male   62       China   \n",
       "65825         65825  Female   49       Syria   \n",
       "11010         11010  Female   72    Colombia   \n",
       "...             ...     ...  ...         ...   \n",
       "6265           6265    Male   86       China   \n",
       "54886         54886    Male   43    Portugal   \n",
       "76820         76820  Female   15    Portugal   \n",
       "860             860    Male   28   Indonesia   \n",
       "15795         15795    Male   28       China   \n",
       "\n",
       "                                  Airport Name   Country Name     Continents  \\\n",
       "28204                      Kabri Dehar Airport       Ethiopia         Africa   \n",
       "6048                 Mornington Island Airport      Australia        Oceania   \n",
       "67079  Dallas Fort Worth International Airport  United States  North America   \n",
       "65825                             Vinh Airport       Viet Nam           Asia   \n",
       "11010        Jose Maria Velasco Ibarra Airport        Ecuador  South America   \n",
       "...                                        ...            ...            ...   \n",
       "6265                       Moolawatana Airport      Australia        Oceania   \n",
       "54886                          Minhas Air Base       Pakistan           Asia   \n",
       "76820                         Boundary Airport  United States  North America   \n",
       "860                          Sandstone Airport      Australia        Oceania   \n",
       "15795                  Ozona Municipal Airport  United States  North America   \n",
       "\n",
       "      Departure Date Arrival Airport  Flight Status  Gender Encoded  \\\n",
       "28204     2022-09-07             ABK              0               0   \n",
       "6048      2022-02-15             ONG              1               1   \n",
       "67079     2022-03-09             DFW              0               0   \n",
       "65825     2022-07-10             VII              1               1   \n",
       "11010     2022-01-20             MRR              1               1   \n",
       "...              ...             ...            ...             ...   \n",
       "6265      2022-02-12             MWT              0               0   \n",
       "54886     2022-12-19             ATG              1               0   \n",
       "76820     2022-06-26             BYA              0               1   \n",
       "860       2022-01-03             NDS              0               0   \n",
       "15795     2022-11-29             OZA              0               0   \n",
       "\n",
       "       Airport Cancellation Rate  Country Cancellation Rate  \\\n",
       "28204                   0.714286                   0.324397   \n",
       "6048                    0.333333                   0.336877   \n",
       "67079                   0.285714                   0.332097   \n",
       "65825                   0.538462                   0.324324   \n",
       "11010                   0.714286                   0.391089   \n",
       "...                          ...                        ...   \n",
       "6265                    0.200000                   0.336877   \n",
       "54886                   0.454545                   0.344398   \n",
       "76820                   0.428571                   0.332097   \n",
       "860                     0.166667                   0.336877   \n",
       "15795                   0.100000                   0.332097   \n",
       "\n",
       "       Continents Cancellation Rate  Nationality Cancellation Rate  \n",
       "28204                      0.334713                       0.333909  \n",
       "6048                       0.331148                       0.346287  \n",
       "67079                      0.335957                       0.334953  \n",
       "65825                      0.334769                       0.374502  \n",
       "11010                      0.347554                       0.352614  \n",
       "...                             ...                            ...  \n",
       "6265                       0.331148                       0.334953  \n",
       "54886                      0.334769                       0.346287  \n",
       "76820                      0.335957                       0.346287  \n",
       "860                        0.331148                       0.336216  \n",
       "15795                      0.335957                       0.334953  \n",
       "\n",
       "[69033 rows x 15 columns]"
      ]
     },
     "execution_count": 15,
     "metadata": {},
     "output_type": "execute_result"
    }
   ],
   "source": [
    "df_train"
   ]
  },
  {
   "cell_type": "markdown",
   "id": "d9ce922a",
   "metadata": {},
   "source": [
    "#### Procedemos a combinar dos variables Nationality e Airport Name en una nueva Airport_Nationality. Posteriormente agrupamos dicha variable según el promedio de Flight Status y procedemos a mapear dicha variable en una columna llamada Airport_Nationality Cancellation Rate. Por último calculamos el coeficiente de correlación de dicha variable con respecto a nuestro target."
   ]
  },
  {
   "cell_type": "code",
   "execution_count": 16,
   "id": "a5a62d2a",
   "metadata": {},
   "outputs": [
    {
     "data": {
      "text/plain": [
       "0.9103423663244122"
      ]
     },
     "execution_count": 16,
     "metadata": {},
     "output_type": "execute_result"
    }
   ],
   "source": [
    "df_train['Airport_Nationality'] = df_train['Airport Name'] + \"_\" + df_train['Nationality']\n",
    "\n",
    "airport_nationality_cancellation_rates = df_train.groupby('Airport_Nationality')['Flight Status'].mean()\n",
    "\n",
    "df_train['Airport_Nationality Cancellation Rate'] = df_train['Airport_Nationality'].map(airport_nationality_cancellation_rates)\n",
    "\n",
    "correlation_airport_nationality_cancellation = df_train['Airport_Nationality Cancellation Rate'].corr(df_train['Flight Status'])\n",
    "correlation_airport_nationality_cancellation"
   ]
  },
  {
   "cell_type": "markdown",
   "id": "e5d83d6f",
   "metadata": {},
   "source": [
    "#### Desglozamos la variable Departure Date en dos variables nuevas, la primera Month para ver por número de mes el movimiento, y la segunda Week (mismo procedimiento pero por número de semana)."
   ]
  },
  {
   "cell_type": "code",
   "execution_count": 17,
   "id": "f5fc6ea3",
   "metadata": {},
   "outputs": [],
   "source": [
    "df_train['Departure Date'] = pd.to_datetime(df_train['Departure Date'])\n",
    "\n",
    "df_train['Month'] = df_train['Departure Date'].dt.month\n",
    "df_train['Week'] = df_train['Departure Date'].dt.isocalendar().week"
   ]
  },
  {
   "cell_type": "markdown",
   "id": "dd7d5b1a",
   "metadata": {},
   "source": [
    "#### Observamos la correlación directa que existe por un lado entre la variable Month y Flight Status, y luego el mismo procedimiento pero con Week y nuestro target."
   ]
  },
  {
   "cell_type": "code",
   "execution_count": 18,
   "id": "898ebe91",
   "metadata": {},
   "outputs": [
    {
     "name": "stdout",
     "output_type": "stream",
     "text": [
      "Correlation between Month and Flight Status: 0.004931293504924853\n",
      "Correlation between Week and Flight Status: 0.006064469222700486\n"
     ]
    }
   ],
   "source": [
    "correlation_month_target = df_train['Month'].corr(df_train['Flight Status'])\n",
    "print(\"Correlation between Month and Flight Status:\", correlation_month_target)\n",
    "\n",
    "correlation_week_target = df_train['Week'].corr(df_train['Flight Status'])\n",
    "print(\"Correlation between Week and Flight Status:\", correlation_week_target)"
   ]
  },
  {
   "cell_type": "markdown",
   "id": "3093fbd8",
   "metadata": {},
   "source": [
    "#### Las correlaciones que has encontrado entre 'Month' y 'Flight Status' (aproximadamente 0.0049) y entre 'Week' y 'Flight Status' (aproximadamente 0.0061) son muy bajas. Estos valores indican que no hay una relación lineal fuerte entre el mes o la semana del año de la fecha de salida y la probabilidad de que un vuelo sea cancelado."
   ]
  },
  {
   "cell_type": "code",
   "execution_count": 19,
   "id": "c2f1e4e0",
   "metadata": {},
   "outputs": [
    {
     "data": {
      "text/plain": [
       "0.9637032184658427"
      ]
     },
     "execution_count": 19,
     "metadata": {},
     "output_type": "execute_result"
    }
   ],
   "source": [
    "# Crear una nueva columna que combine 'Airport Name' y 'Week'\n",
    "df_train['Airport_Week'] = df_train['Airport Name'] + \"_\" + df_train['Week'].astype(str)\n",
    "\n",
    "# Calcular la tasa de cancelación para cada combinación única de 'Airport Name' y 'Week'\n",
    "airport_week_cancellation_rates = df_train.groupby('Airport_Week')['Flight Status'].mean()\n",
    "\n",
    "# Mapear la tasa de cancelación de vuelta al conjunto de entrenamiento\n",
    "df_train['Airport_Week Cancellation Rate'] = df_train['Airport_Week'].map(airport_week_cancellation_rates)\n",
    "\n",
    "# Calcular la correlación entre esta nueva característica y 'Flight Status'\n",
    "correlation_airport_week_cancellation = df_train['Airport_Week Cancellation Rate'].corr(df_train['Flight Status'])\n",
    "correlation_airport_week_cancellation"
   ]
  },
  {
   "cell_type": "code",
   "execution_count": 20,
   "id": "d4a6a4ae",
   "metadata": {},
   "outputs": [
    {
     "name": "stdout",
     "output_type": "stream",
     "text": [
      "Mean Accuracy: 0.9687685624428595\n",
      "Standard Deviation of Accuracy: 0.0007419101627997263\n"
     ]
    }
   ],
   "source": [
    "from sklearn.model_selection import cross_val_score, KFold\n",
    "from sklearn.linear_model import LogisticRegression\n",
    "\n",
    "# Asumiendo que df_train ya está preparado con las características y la variable objetivo\n",
    "X = df_train[['Airport_Week Cancellation Rate']]  # las características\n",
    "y = df_train['Flight Status']  # la variable objetivo\n",
    "\n",
    "# Inicializar el modelo de regresión logística\n",
    "model = LogisticRegression()\n",
    "\n",
    "# Configurar la validación cruzada K-Fold\n",
    "kf = KFold(n_splits=5, shuffle=True, random_state=42)\n",
    "\n",
    "# Calcular la precisión (accuracy) en cada pliegue usando cross_val_score\n",
    "scores = cross_val_score(model, X, y, cv=kf, scoring='accuracy')\n",
    "\n",
    "# Calcular la media y la desviación estándar de la precisión\n",
    "mean_accuracy = scores.mean()\n",
    "std_accuracy = scores.std()\n",
    "\n",
    "print(f\"Mean Accuracy: {mean_accuracy}\")\n",
    "print(f\"Standard Deviation of Accuracy: {std_accuracy}\")\n"
   ]
  },
  {
   "cell_type": "code",
   "execution_count": 21,
   "id": "8de5ba95",
   "metadata": {},
   "outputs": [
    {
     "data": {
      "text/html": [
       "<style>#sk-container-id-1 {color: black;}#sk-container-id-1 pre{padding: 0;}#sk-container-id-1 div.sk-toggleable {background-color: white;}#sk-container-id-1 label.sk-toggleable__label {cursor: pointer;display: block;width: 100%;margin-bottom: 0;padding: 0.3em;box-sizing: border-box;text-align: center;}#sk-container-id-1 label.sk-toggleable__label-arrow:before {content: \"▸\";float: left;margin-right: 0.25em;color: #696969;}#sk-container-id-1 label.sk-toggleable__label-arrow:hover:before {color: black;}#sk-container-id-1 div.sk-estimator:hover label.sk-toggleable__label-arrow:before {color: black;}#sk-container-id-1 div.sk-toggleable__content {max-height: 0;max-width: 0;overflow: hidden;text-align: left;background-color: #f0f8ff;}#sk-container-id-1 div.sk-toggleable__content pre {margin: 0.2em;color: black;border-radius: 0.25em;background-color: #f0f8ff;}#sk-container-id-1 input.sk-toggleable__control:checked~div.sk-toggleable__content {max-height: 200px;max-width: 100%;overflow: auto;}#sk-container-id-1 input.sk-toggleable__control:checked~label.sk-toggleable__label-arrow:before {content: \"▾\";}#sk-container-id-1 div.sk-estimator input.sk-toggleable__control:checked~label.sk-toggleable__label {background-color: #d4ebff;}#sk-container-id-1 div.sk-label input.sk-toggleable__control:checked~label.sk-toggleable__label {background-color: #d4ebff;}#sk-container-id-1 input.sk-hidden--visually {border: 0;clip: rect(1px 1px 1px 1px);clip: rect(1px, 1px, 1px, 1px);height: 1px;margin: -1px;overflow: hidden;padding: 0;position: absolute;width: 1px;}#sk-container-id-1 div.sk-estimator {font-family: monospace;background-color: #f0f8ff;border: 1px dotted black;border-radius: 0.25em;box-sizing: border-box;margin-bottom: 0.5em;}#sk-container-id-1 div.sk-estimator:hover {background-color: #d4ebff;}#sk-container-id-1 div.sk-parallel-item::after {content: \"\";width: 100%;border-bottom: 1px solid gray;flex-grow: 1;}#sk-container-id-1 div.sk-label:hover label.sk-toggleable__label {background-color: #d4ebff;}#sk-container-id-1 div.sk-serial::before {content: \"\";position: absolute;border-left: 1px solid gray;box-sizing: border-box;top: 0;bottom: 0;left: 50%;z-index: 0;}#sk-container-id-1 div.sk-serial {display: flex;flex-direction: column;align-items: center;background-color: white;padding-right: 0.2em;padding-left: 0.2em;position: relative;}#sk-container-id-1 div.sk-item {position: relative;z-index: 1;}#sk-container-id-1 div.sk-parallel {display: flex;align-items: stretch;justify-content: center;background-color: white;position: relative;}#sk-container-id-1 div.sk-item::before, #sk-container-id-1 div.sk-parallel-item::before {content: \"\";position: absolute;border-left: 1px solid gray;box-sizing: border-box;top: 0;bottom: 0;left: 50%;z-index: -1;}#sk-container-id-1 div.sk-parallel-item {display: flex;flex-direction: column;z-index: 1;position: relative;background-color: white;}#sk-container-id-1 div.sk-parallel-item:first-child::after {align-self: flex-end;width: 50%;}#sk-container-id-1 div.sk-parallel-item:last-child::after {align-self: flex-start;width: 50%;}#sk-container-id-1 div.sk-parallel-item:only-child::after {width: 0;}#sk-container-id-1 div.sk-dashed-wrapped {border: 1px dashed gray;margin: 0 0.4em 0.5em 0.4em;box-sizing: border-box;padding-bottom: 0.4em;background-color: white;}#sk-container-id-1 div.sk-label label {font-family: monospace;font-weight: bold;display: inline-block;line-height: 1.2em;}#sk-container-id-1 div.sk-label-container {text-align: center;}#sk-container-id-1 div.sk-container {/* jupyter's `normalize.less` sets `[hidden] { display: none; }` but bootstrap.min.css set `[hidden] { display: none !important; }` so we also need the `!important` here to be able to override the default hidden behavior on the sphinx rendered scikit-learn.org. See: https://github.com/scikit-learn/scikit-learn/issues/21755 */display: inline-block !important;position: relative;}#sk-container-id-1 div.sk-text-repr-fallback {display: none;}</style><div id=\"sk-container-id-1\" class=\"sk-top-container\"><div class=\"sk-text-repr-fallback\"><pre>LogisticRegression()</pre><b>In a Jupyter environment, please rerun this cell to show the HTML representation or trust the notebook. <br />On GitHub, the HTML representation is unable to render, please try loading this page with nbviewer.org.</b></div><div class=\"sk-container\" hidden><div class=\"sk-item\"><div class=\"sk-estimator sk-toggleable\"><input class=\"sk-toggleable__control sk-hidden--visually\" id=\"sk-estimator-id-1\" type=\"checkbox\" checked><label for=\"sk-estimator-id-1\" class=\"sk-toggleable__label sk-toggleable__label-arrow\">LogisticRegression</label><div class=\"sk-toggleable__content\"><pre>LogisticRegression()</pre></div></div></div></div></div>"
      ],
      "text/plain": [
       "LogisticRegression()"
      ]
     },
     "execution_count": 21,
     "metadata": {},
     "output_type": "execute_result"
    }
   ],
   "source": [
    "# Entrenar el modelo en todo el conjunto de datos de entrenamiento después de realizar la validación cruzada\n",
    "model = LogisticRegression()\n",
    "model.fit(X, y)  # Ajustar el modelo con todos los datos de entrenamiento\n"
   ]
  },
  {
   "cell_type": "code",
   "execution_count": 24,
   "id": "3e4f0f32",
   "metadata": {},
   "outputs": [
    {
     "name": "stdout",
     "output_type": "stream",
     "text": [
      "Accuracy on test set: 0.6552423443520584\n",
      "ROC AUC on test set: 0.5021205036428817\n",
      "              precision    recall  f1-score   support\n",
      "\n",
      "           0       0.67      0.96      0.79     19803\n",
      "           1       0.35      0.05      0.08      9783\n",
      "\n",
      "    accuracy                           0.66     29586\n",
      "   macro avg       0.51      0.50      0.44     29586\n",
      "weighted avg       0.56      0.66      0.56     29586\n",
      "\n"
     ]
    }
   ],
   "source": [
    "import pandas as pd\n",
    "from sklearn.model_selection import train_test_split\n",
    "from sklearn.linear_model import LogisticRegression\n",
    "from sklearn.metrics import accuracy_score, roc_auc_score, classification_report\n",
    "\n",
    "# Asegúrate de convertir 'Departure Date' a datetime y extraer la semana en df_test\n",
    "df_test['Week'] = pd.to_datetime(df_test['Departure Date']).dt.isocalendar().week\n",
    "\n",
    "# Crear la característica combinada 'Airport_Week' en df_test\n",
    "df_test['Airport_Week'] = df_test['Airport Name'] + \"_\" + df_test['Week'].astype(str)\n",
    "\n",
    "# Mapear las tasas de cancelación de 'df_train' a 'df_test'\n",
    "# Asegúrate de que 'airport_week_cancellation_rates' ha sido calculado en df_train\n",
    "df_test['Airport_Week Cancellation Rate'] = df_test['Airport_Week'].map(airport_week_cancellation_rates)\n",
    "\n",
    "# Llenar los valores faltantes en 'Airport_Week Cancellation Rate' con la tasa media de 'df_train'\n",
    "df_test['Airport_Week Cancellation Rate'].fillna(df_train['Airport_Week Cancellation Rate'].mean(), inplace=True)\n",
    "\n",
    "# Las características y la variable objetivo para la predicción\n",
    "X_test = df_test[['Airport_Week Cancellation Rate']]\n",
    "y_test = df_test['Flight Status']\n",
    "\n",
    "# Realizar predicciones con el modelo ya entrenado\n",
    "y_pred = model.predict(X_test)\n",
    "y_pred_proba = model.predict_proba(X_test)[:, 1]\n",
    "\n",
    "# Calcular las métricas de rendimiento\n",
    "accuracy = accuracy_score(y_test, y_pred)\n",
    "roc_auc = roc_auc_score(y_test, y_pred_proba)\n",
    "report = classification_report(y_test, y_pred)\n",
    "\n",
    "# Imprimir las métricas de rendimiento\n",
    "print(f'Accuracy on test set: {accuracy}')\n",
    "print(f'ROC AUC on test set: {roc_auc}')\n",
    "print(report)\n"
   ]
  },
  {
   "cell_type": "code",
   "execution_count": null,
   "id": "dff3a39f",
   "metadata": {},
   "outputs": [],
   "source": []
  }
 ],
 "metadata": {
  "kernelspec": {
   "display_name": "Python 3 (ipykernel)",
   "language": "python",
   "name": "python3"
  },
  "language_info": {
   "codemirror_mode": {
    "name": "ipython",
    "version": 3
   },
   "file_extension": ".py",
   "mimetype": "text/x-python",
   "name": "python",
   "nbconvert_exporter": "python",
   "pygments_lexer": "ipython3",
   "version": "3.11.5"
  }
 },
 "nbformat": 4,
 "nbformat_minor": 5
}
