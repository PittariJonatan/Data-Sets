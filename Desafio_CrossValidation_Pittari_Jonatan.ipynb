{
 "cells": [
  {
   "cell_type": "code",
   "execution_count": 1,
   "id": "3dbfff63",
   "metadata": {},
   "outputs": [],
   "source": [
    "import pandas as pd\n",
    "import numpy as np\n",
    "import matplotlib as mlp\n",
    "import matplotlib.pyplot as plt\n",
    "import seaborn as sns\n",
    "import os\n",
    "from sklearn.preprocessing import LabelEncoder\n",
    "from scipy.stats import chi2_contingency\n",
    "import warnings\n",
    "warnings.simplefilter(action='ignore', category=FutureWarning)\n",
    "from sklearn.model_selection import train_test_split\n",
    "from sklearn.metrics import matthews_corrcoef"
   ]
  },
  {
   "cell_type": "code",
   "execution_count": 2,
   "id": "843333c8",
   "metadata": {},
   "outputs": [],
   "source": [
    "url = 'https://raw.githubusercontent.com/PittariJonatan/Data-Sets/main/Airline%20Dataset%20Updated.csv'\n",
    "df = pd.read_csv(url, sep = ',')"
   ]
  },
  {
   "cell_type": "markdown",
   "id": "d746f60a",
   "metadata": {},
   "source": [
    "___"
   ]
  },
  {
   "cell_type": "markdown",
   "id": "f0766505",
   "metadata": {},
   "source": [
    "<h1 align=\"center\">Objetivo del análisis</h1>\n",
    "\n",
    "Desarrollar un modelo predictivo utilizando regresión logística para evaluar y reducir el riesgo de cancelaciones de vuelos. En este estudio, la variable objetivo o \"target\" será el \"Flight Status\", con un enfoque específico en predecir los vuelos que tienden a ser clasificados como \"Cancelled\".\n",
    "\n",
    "En este análisis, se empleará la regresión logística como la técnica principal para abordar la clasificación binaria de vuelos cancelados o no cancelados. La metodología se enfocará en la selección cuidadosa de características relevantes, la ingeniería de variables significativas y la exploración exhaustiva de los datos disponibles."
   ]
  },
  {
   "cell_type": "markdown",
   "id": "32c0379a",
   "metadata": {},
   "source": [
    "<h3 align=\"center\">Contexto comercial</h3>\n",
    "\n",
    "\n",
    "Los datos de las aerolíneas tienen una inmensa importancia ya que ofrecen información sobre el funcionamiento y la eficiencia de la industria de la aviación. Proporciona información valiosa sobre rutas de vuelo, horarios, datos demográficos de los pasajeros y preferencias, que las aerolíneas pueden aprovechar para optimizar sus operaciones y mejorar las experiencias de los clientes. Al analizar datos sobre retrasos, cancelaciones y puntualidad, las aerolíneas pueden identificar tendencias e implementar estrategias para mejorar la puntualidad y mitigar las interrupciones. Además, los organismos reguladores y los encargados de formular políticas dependen de estos datos para garantizar los estándares de seguridad, hacer cumplir las regulaciones y tomar decisiones informadas sobre las políticas de aviación."
   ]
  },
  {
   "cell_type": "markdown",
   "id": "29524ca3",
   "metadata": {},
   "source": [
    "<h3 align=\"center\">Problema comercial</h3>\n",
    "\n",
    "Las cancelaciones de vuelos son un problema clave en la industria de la aviación. Los datos de las aerolíneas son esenciales para abordar este desafío y mejorar la eficiencia operativa, además de ser cruciales para reguladores, formuladores de políticas y analistas que buscan la seguridad y la toma de decisiones informadas."
   ]
  },
  {
   "cell_type": "markdown",
   "id": "19c043c7",
   "metadata": {},
   "source": [
    "<h3 align=\"center\">Contexto analítico</h3>\n",
    "\n",
    "\n",
    "El data set posee información sobre 98619 filas, las cuales corresponden a un vuelo y pasajero específico, y 15 columnas las cuales detallamos brevemente a continuación:\n",
    "\n",
    "- Passenger ID: Identificador único para cada pasajero.\n",
    "- First Name: Nombre del pasajero.\n",
    "- Last Name: Apellido del pasajero.\n",
    "- Gender: Género del pasajero (por ejemplo, Masculino, Femenino).\n",
    "- Age: Edad del pasajero.\n",
    "- Nationality: Nacionalidad del pasajero.\n",
    "- Airport Name: Nombre del aeropuerto desde donde el pasajero abordó el vuelo.\n",
    "- Airport Country Code: Código del país donde se encuentra el aeropuerto.\n",
    "- Country Name: Nombre del país donde se encuentra el aeropuerto.\n",
    "- Airport Continent: Continente donde está situado el aeropuerto.\n",
    "- Continents: Continentes involucrados en la ruta del vuelo.\n",
    "- Departure Date: Fecha en que el vuelo partió.\n",
    "- Arrival Airport: Aeropuerto de destino del vuelo.\n",
    "- Pilot Name: Nombre del piloto que opera el vuelo.\n",
    "- Flight Status: Estado actual del vuelo (por ejemplo, a tiempo, retrasado, cancelado)."
   ]
  },
  {
   "cell_type": "code",
   "execution_count": 3,
   "id": "56c03ec6",
   "metadata": {},
   "outputs": [
    {
     "data": {
      "text/html": [
       "<div>\n",
       "<style scoped>\n",
       "    .dataframe tbody tr th:only-of-type {\n",
       "        vertical-align: middle;\n",
       "    }\n",
       "\n",
       "    .dataframe tbody tr th {\n",
       "        vertical-align: top;\n",
       "    }\n",
       "\n",
       "    .dataframe thead th {\n",
       "        text-align: right;\n",
       "    }\n",
       "</style>\n",
       "<table border=\"1\" class=\"dataframe\">\n",
       "  <thead>\n",
       "    <tr style=\"text-align: right;\">\n",
       "      <th></th>\n",
       "      <th>Passenger ID</th>\n",
       "      <th>First Name</th>\n",
       "      <th>Last Name</th>\n",
       "      <th>Gender</th>\n",
       "      <th>Age</th>\n",
       "      <th>Nationality</th>\n",
       "      <th>Airport Name</th>\n",
       "      <th>Airport Country Code</th>\n",
       "      <th>Country Name</th>\n",
       "      <th>Airport Continent</th>\n",
       "      <th>Continents</th>\n",
       "      <th>Departure Date</th>\n",
       "      <th>Arrival Airport</th>\n",
       "      <th>Pilot Name</th>\n",
       "      <th>Flight Status</th>\n",
       "    </tr>\n",
       "  </thead>\n",
       "  <tbody>\n",
       "    <tr>\n",
       "      <th>0</th>\n",
       "      <td>ABVWIg</td>\n",
       "      <td>Edithe</td>\n",
       "      <td>Leggis</td>\n",
       "      <td>Female</td>\n",
       "      <td>62</td>\n",
       "      <td>Japan</td>\n",
       "      <td>Coldfoot Airport</td>\n",
       "      <td>US</td>\n",
       "      <td>United States</td>\n",
       "      <td>NAM</td>\n",
       "      <td>North America</td>\n",
       "      <td>6/28/2022</td>\n",
       "      <td>CXF</td>\n",
       "      <td>Edithe Leggis</td>\n",
       "      <td>On Time</td>\n",
       "    </tr>\n",
       "    <tr>\n",
       "      <th>1</th>\n",
       "      <td>jkXXAX</td>\n",
       "      <td>Elwood</td>\n",
       "      <td>Catt</td>\n",
       "      <td>Male</td>\n",
       "      <td>62</td>\n",
       "      <td>Nicaragua</td>\n",
       "      <td>Kugluktuk Airport</td>\n",
       "      <td>CA</td>\n",
       "      <td>Canada</td>\n",
       "      <td>NAM</td>\n",
       "      <td>North America</td>\n",
       "      <td>12/26/2022</td>\n",
       "      <td>YCO</td>\n",
       "      <td>Elwood Catt</td>\n",
       "      <td>On Time</td>\n",
       "    </tr>\n",
       "    <tr>\n",
       "      <th>2</th>\n",
       "      <td>CdUz2g</td>\n",
       "      <td>Darby</td>\n",
       "      <td>Felgate</td>\n",
       "      <td>Male</td>\n",
       "      <td>67</td>\n",
       "      <td>Russia</td>\n",
       "      <td>Grenoble-Isère Airport</td>\n",
       "      <td>FR</td>\n",
       "      <td>France</td>\n",
       "      <td>EU</td>\n",
       "      <td>Europe</td>\n",
       "      <td>1/18/2022</td>\n",
       "      <td>GNB</td>\n",
       "      <td>Darby Felgate</td>\n",
       "      <td>On Time</td>\n",
       "    </tr>\n",
       "    <tr>\n",
       "      <th>3</th>\n",
       "      <td>BRS38V</td>\n",
       "      <td>Dominica</td>\n",
       "      <td>Pyle</td>\n",
       "      <td>Female</td>\n",
       "      <td>71</td>\n",
       "      <td>China</td>\n",
       "      <td>Ottawa / Gatineau Airport</td>\n",
       "      <td>CA</td>\n",
       "      <td>Canada</td>\n",
       "      <td>NAM</td>\n",
       "      <td>North America</td>\n",
       "      <td>9/16/2022</td>\n",
       "      <td>YND</td>\n",
       "      <td>Dominica Pyle</td>\n",
       "      <td>Delayed</td>\n",
       "    </tr>\n",
       "    <tr>\n",
       "      <th>4</th>\n",
       "      <td>9kvTLo</td>\n",
       "      <td>Bay</td>\n",
       "      <td>Pencost</td>\n",
       "      <td>Male</td>\n",
       "      <td>21</td>\n",
       "      <td>China</td>\n",
       "      <td>Gillespie Field</td>\n",
       "      <td>US</td>\n",
       "      <td>United States</td>\n",
       "      <td>NAM</td>\n",
       "      <td>North America</td>\n",
       "      <td>2/25/2022</td>\n",
       "      <td>SEE</td>\n",
       "      <td>Bay Pencost</td>\n",
       "      <td>On Time</td>\n",
       "    </tr>\n",
       "  </tbody>\n",
       "</table>\n",
       "</div>"
      ],
      "text/plain": [
       "  Passenger ID First Name Last Name  Gender  Age Nationality  \\\n",
       "0       ABVWIg     Edithe    Leggis  Female   62       Japan   \n",
       "1       jkXXAX     Elwood      Catt    Male   62   Nicaragua   \n",
       "2       CdUz2g      Darby   Felgate    Male   67      Russia   \n",
       "3       BRS38V   Dominica      Pyle  Female   71       China   \n",
       "4       9kvTLo        Bay   Pencost    Male   21       China   \n",
       "\n",
       "                Airport Name Airport Country Code   Country Name  \\\n",
       "0           Coldfoot Airport                   US  United States   \n",
       "1          Kugluktuk Airport                   CA         Canada   \n",
       "2     Grenoble-Isère Airport                   FR         France   \n",
       "3  Ottawa / Gatineau Airport                   CA         Canada   \n",
       "4            Gillespie Field                   US  United States   \n",
       "\n",
       "  Airport Continent     Continents Departure Date Arrival Airport  \\\n",
       "0               NAM  North America      6/28/2022             CXF   \n",
       "1               NAM  North America     12/26/2022             YCO   \n",
       "2                EU         Europe      1/18/2022             GNB   \n",
       "3               NAM  North America      9/16/2022             YND   \n",
       "4               NAM  North America      2/25/2022             SEE   \n",
       "\n",
       "      Pilot Name Flight Status  \n",
       "0  Edithe Leggis       On Time  \n",
       "1    Elwood Catt       On Time  \n",
       "2  Darby Felgate       On Time  \n",
       "3  Dominica Pyle       Delayed  \n",
       "4    Bay Pencost       On Time  "
      ]
     },
     "execution_count": 3,
     "metadata": {},
     "output_type": "execute_result"
    }
   ],
   "source": [
    "df.head()"
   ]
  },
  {
   "cell_type": "markdown",
   "id": "59ec3400",
   "metadata": {},
   "source": [
    "<h3 align=\"center\">Interrogantes</h3>\n",
    "\n",
    "\n",
    "- ¿Cuál es la tasa general de cancelación de vuelos en el conjunto de datos?\n",
    "\n",
    "- ¿Existen tendencias o patrones evidentes en las cancelaciones respecto a otras categorías de vuelo?\n",
    "\n",
    "- ¿Existe una relación entre la nacionalidad de los pasajeros y la frecuencia de cancelaciones de vuelos?\n",
    "\n",
    "- ¿El país donde se encuentra el aeropuerto de origen afecta la probabilidad de cancelación de vuelos?\n",
    "\n",
    "- ¿Hay alguna influencia de la edad o género de los pasajeros en la cancelación de vuelos?\n",
    "\n",
    "- ¿Existen diferencias significativas en la tendencia de cancelaciones entre los continentes involucrados en la ruta del vuelo?\n",
    "\n",
    "- ¿Las cancelaciones tienden a ocurrir en ciertas fechas o períodos específicos?\n",
    "\n",
    "- ¿Hay alguna relación entre el piloto a cargo y la probabilidad de cancelación de vuelos?\n",
    "\n",
    "- ¿El tamaño o la categoría del aeropuerto tienen impacto en la frecuencia de cancelaciones?"
   ]
  },
  {
   "cell_type": "markdown",
   "id": "be3468c7",
   "metadata": {},
   "source": [
    "___"
   ]
  },
  {
   "cell_type": "markdown",
   "id": "215d3035",
   "metadata": {},
   "source": [
    "<div style=\"text-align:center\">\n",
    "    <h1>Análisis Exploratorio - EDA</h1>\n",
    "</div>"
   ]
  },
  {
   "cell_type": "markdown",
   "id": "d5034719",
   "metadata": {},
   "source": [
    "___"
   ]
  },
  {
   "cell_type": "code",
   "execution_count": 4,
   "id": "5314db33",
   "metadata": {},
   "outputs": [],
   "source": [
    "# Creamos una copia de nuestro data set para conservar original y manipular copia.\n",
    "\n",
    "df_copy = df.copy()"
   ]
  },
  {
   "cell_type": "code",
   "execution_count": 5,
   "id": "36f9ad14",
   "metadata": {},
   "outputs": [
    {
     "name": "stdout",
     "output_type": "stream",
     "text": [
      "<class 'pandas.core.frame.DataFrame'>\n",
      "RangeIndex: 98619 entries, 0 to 98618\n",
      "Data columns (total 15 columns):\n",
      " #   Column                Non-Null Count  Dtype \n",
      "---  ------                --------------  ----- \n",
      " 0   Passenger ID          98619 non-null  object\n",
      " 1   First Name            98619 non-null  object\n",
      " 2   Last Name             98619 non-null  object\n",
      " 3   Gender                98619 non-null  object\n",
      " 4   Age                   98619 non-null  int64 \n",
      " 5   Nationality           98619 non-null  object\n",
      " 6   Airport Name          98619 non-null  object\n",
      " 7   Airport Country Code  98619 non-null  object\n",
      " 8   Country Name          98619 non-null  object\n",
      " 9   Airport Continent     98619 non-null  object\n",
      " 10  Continents            98619 non-null  object\n",
      " 11  Departure Date        98619 non-null  object\n",
      " 12  Arrival Airport       98619 non-null  object\n",
      " 13  Pilot Name            98619 non-null  object\n",
      " 14  Flight Status         98619 non-null  object\n",
      "dtypes: int64(1), object(14)\n",
      "memory usage: 11.3+ MB\n"
     ]
    }
   ],
   "source": [
    "# Comprobamos información en general.\n",
    "\n",
    "df_copy.info()"
   ]
  },
  {
   "cell_type": "code",
   "execution_count": 6,
   "id": "13d5a0dd",
   "metadata": {},
   "outputs": [
    {
     "data": {
      "text/plain": [
       "Passenger ID            0\n",
       "First Name              0\n",
       "Last Name               0\n",
       "Gender                  0\n",
       "Age                     0\n",
       "Nationality             0\n",
       "Airport Name            0\n",
       "Airport Country Code    0\n",
       "Country Name            0\n",
       "Airport Continent       0\n",
       "Continents              0\n",
       "Departure Date          0\n",
       "Arrival Airport         0\n",
       "Pilot Name              0\n",
       "Flight Status           0\n",
       "dtype: int64"
      ]
     },
     "execution_count": 6,
     "metadata": {},
     "output_type": "execute_result"
    }
   ],
   "source": [
    "# Comprobamos que no haya valores nulos en el data set. \n",
    "\n",
    "df_copy.isnull().sum()"
   ]
  },
  {
   "cell_type": "markdown",
   "id": "ed981adc",
   "metadata": {},
   "source": [
    "Procederemos, en esta instancia, a la reestructuración de df_copy con la finalidad de adaptar la información lo mejor posible para nuestro algoritmo de predicción final. Para ello, incursionaremos en análisis univariados y bivariados de cada una de sus variables en busca de anomalías significativas para incluir en el modelo."
   ]
  },
  {
   "cell_type": "code",
   "execution_count": 7,
   "id": "f19400bd",
   "metadata": {},
   "outputs": [],
   "source": [
    "# Mejoramos la legibilidad de ['Passanger ID'] para su posterior manipulación.\n",
    "\n",
    "df_copy['Passenger ID'] = range(1,len(df_copy) + 1)"
   ]
  },
  {
   "cell_type": "code",
   "execution_count": 8,
   "id": "74d64dd5",
   "metadata": {},
   "outputs": [],
   "source": [
    "# Consideramos que para este Target en específico, las columnas ['First Name', 'Last Name'] no son de relevancia para nuestro modelo a futuro.\n",
    "\n",
    "df_copy = df_copy.drop(['First Name', 'Last Name'], axis=1)"
   ]
  },
  {
   "cell_type": "code",
   "execution_count": 9,
   "id": "2532cd4a",
   "metadata": {},
   "outputs": [
    {
     "data": {
      "text/html": [
       "<div>\n",
       "<style scoped>\n",
       "    .dataframe tbody tr th:only-of-type {\n",
       "        vertical-align: middle;\n",
       "    }\n",
       "\n",
       "    .dataframe tbody tr th {\n",
       "        vertical-align: top;\n",
       "    }\n",
       "\n",
       "    .dataframe thead th {\n",
       "        text-align: right;\n",
       "    }\n",
       "</style>\n",
       "<table border=\"1\" class=\"dataframe\">\n",
       "  <thead>\n",
       "    <tr style=\"text-align: right;\">\n",
       "      <th></th>\n",
       "      <th>Passenger ID</th>\n",
       "      <th>Gender</th>\n",
       "      <th>Age</th>\n",
       "      <th>Nationality</th>\n",
       "      <th>Airport Name</th>\n",
       "      <th>Airport Country Code</th>\n",
       "      <th>Country Name</th>\n",
       "      <th>Airport Continent</th>\n",
       "      <th>Continents</th>\n",
       "      <th>Departure Date</th>\n",
       "      <th>Arrival Airport</th>\n",
       "      <th>Pilot Name</th>\n",
       "      <th>Flight Status</th>\n",
       "    </tr>\n",
       "  </thead>\n",
       "  <tbody>\n",
       "    <tr>\n",
       "      <th>0</th>\n",
       "      <td>1</td>\n",
       "      <td>Female</td>\n",
       "      <td>62</td>\n",
       "      <td>Japan</td>\n",
       "      <td>Coldfoot Airport</td>\n",
       "      <td>US</td>\n",
       "      <td>United States</td>\n",
       "      <td>NAM</td>\n",
       "      <td>North America</td>\n",
       "      <td>6/28/2022</td>\n",
       "      <td>CXF</td>\n",
       "      <td>Edithe Leggis</td>\n",
       "      <td>On Time</td>\n",
       "    </tr>\n",
       "    <tr>\n",
       "      <th>1</th>\n",
       "      <td>2</td>\n",
       "      <td>Male</td>\n",
       "      <td>62</td>\n",
       "      <td>Nicaragua</td>\n",
       "      <td>Kugluktuk Airport</td>\n",
       "      <td>CA</td>\n",
       "      <td>Canada</td>\n",
       "      <td>NAM</td>\n",
       "      <td>North America</td>\n",
       "      <td>12/26/2022</td>\n",
       "      <td>YCO</td>\n",
       "      <td>Elwood Catt</td>\n",
       "      <td>On Time</td>\n",
       "    </tr>\n",
       "    <tr>\n",
       "      <th>2</th>\n",
       "      <td>3</td>\n",
       "      <td>Male</td>\n",
       "      <td>67</td>\n",
       "      <td>Russia</td>\n",
       "      <td>Grenoble-Isère Airport</td>\n",
       "      <td>FR</td>\n",
       "      <td>France</td>\n",
       "      <td>EU</td>\n",
       "      <td>Europe</td>\n",
       "      <td>1/18/2022</td>\n",
       "      <td>GNB</td>\n",
       "      <td>Darby Felgate</td>\n",
       "      <td>On Time</td>\n",
       "    </tr>\n",
       "    <tr>\n",
       "      <th>3</th>\n",
       "      <td>4</td>\n",
       "      <td>Female</td>\n",
       "      <td>71</td>\n",
       "      <td>China</td>\n",
       "      <td>Ottawa / Gatineau Airport</td>\n",
       "      <td>CA</td>\n",
       "      <td>Canada</td>\n",
       "      <td>NAM</td>\n",
       "      <td>North America</td>\n",
       "      <td>9/16/2022</td>\n",
       "      <td>YND</td>\n",
       "      <td>Dominica Pyle</td>\n",
       "      <td>Delayed</td>\n",
       "    </tr>\n",
       "    <tr>\n",
       "      <th>4</th>\n",
       "      <td>5</td>\n",
       "      <td>Male</td>\n",
       "      <td>21</td>\n",
       "      <td>China</td>\n",
       "      <td>Gillespie Field</td>\n",
       "      <td>US</td>\n",
       "      <td>United States</td>\n",
       "      <td>NAM</td>\n",
       "      <td>North America</td>\n",
       "      <td>2/25/2022</td>\n",
       "      <td>SEE</td>\n",
       "      <td>Bay Pencost</td>\n",
       "      <td>On Time</td>\n",
       "    </tr>\n",
       "    <tr>\n",
       "      <th>...</th>\n",
       "      <td>...</td>\n",
       "      <td>...</td>\n",
       "      <td>...</td>\n",
       "      <td>...</td>\n",
       "      <td>...</td>\n",
       "      <td>...</td>\n",
       "      <td>...</td>\n",
       "      <td>...</td>\n",
       "      <td>...</td>\n",
       "      <td>...</td>\n",
       "      <td>...</td>\n",
       "      <td>...</td>\n",
       "      <td>...</td>\n",
       "    </tr>\n",
       "    <tr>\n",
       "      <th>98614</th>\n",
       "      <td>98615</td>\n",
       "      <td>Male</td>\n",
       "      <td>85</td>\n",
       "      <td>China</td>\n",
       "      <td>Hasvik Airport</td>\n",
       "      <td>NO</td>\n",
       "      <td>Norway</td>\n",
       "      <td>EU</td>\n",
       "      <td>Europe</td>\n",
       "      <td>12/11/2022</td>\n",
       "      <td>HAA</td>\n",
       "      <td>Gareth Mugford</td>\n",
       "      <td>Cancelled</td>\n",
       "    </tr>\n",
       "    <tr>\n",
       "      <th>98615</th>\n",
       "      <td>98616</td>\n",
       "      <td>Female</td>\n",
       "      <td>19</td>\n",
       "      <td>Russia</td>\n",
       "      <td>Ampampamena Airport</td>\n",
       "      <td>MG</td>\n",
       "      <td>Madagascar</td>\n",
       "      <td>AF</td>\n",
       "      <td>Africa</td>\n",
       "      <td>10/30/2022</td>\n",
       "      <td>IVA</td>\n",
       "      <td>Kasey Benedict</td>\n",
       "      <td>Cancelled</td>\n",
       "    </tr>\n",
       "    <tr>\n",
       "      <th>98616</th>\n",
       "      <td>98617</td>\n",
       "      <td>Male</td>\n",
       "      <td>65</td>\n",
       "      <td>Indonesia</td>\n",
       "      <td>Albacete-Los Llanos Airport</td>\n",
       "      <td>ES</td>\n",
       "      <td>Spain</td>\n",
       "      <td>EU</td>\n",
       "      <td>Europe</td>\n",
       "      <td>9/10/2022</td>\n",
       "      <td>ABC</td>\n",
       "      <td>Darrin Lucken</td>\n",
       "      <td>On Time</td>\n",
       "    </tr>\n",
       "    <tr>\n",
       "      <th>98617</th>\n",
       "      <td>98618</td>\n",
       "      <td>Female</td>\n",
       "      <td>34</td>\n",
       "      <td>China</td>\n",
       "      <td>Gagnoa Airport</td>\n",
       "      <td>CI</td>\n",
       "      <td>Côte d'Ivoire</td>\n",
       "      <td>AF</td>\n",
       "      <td>Africa</td>\n",
       "      <td>10/26/2022</td>\n",
       "      <td>GGN</td>\n",
       "      <td>Gayle Lievesley</td>\n",
       "      <td>Cancelled</td>\n",
       "    </tr>\n",
       "    <tr>\n",
       "      <th>98618</th>\n",
       "      <td>98619</td>\n",
       "      <td>Female</td>\n",
       "      <td>10</td>\n",
       "      <td>Poland</td>\n",
       "      <td>Yoshkar-Ola Airport</td>\n",
       "      <td>RU</td>\n",
       "      <td>Russian Federation</td>\n",
       "      <td>EU</td>\n",
       "      <td>Europe</td>\n",
       "      <td>4/16/2022</td>\n",
       "      <td>JOK</td>\n",
       "      <td>Wilhelmine Touret</td>\n",
       "      <td>Delayed</td>\n",
       "    </tr>\n",
       "  </tbody>\n",
       "</table>\n",
       "<p>98619 rows × 13 columns</p>\n",
       "</div>"
      ],
      "text/plain": [
       "       Passenger ID  Gender  Age Nationality                 Airport Name  \\\n",
       "0                 1  Female   62       Japan             Coldfoot Airport   \n",
       "1                 2    Male   62   Nicaragua            Kugluktuk Airport   \n",
       "2                 3    Male   67      Russia       Grenoble-Isère Airport   \n",
       "3                 4  Female   71       China    Ottawa / Gatineau Airport   \n",
       "4                 5    Male   21       China              Gillespie Field   \n",
       "...             ...     ...  ...         ...                          ...   \n",
       "98614         98615    Male   85       China               Hasvik Airport   \n",
       "98615         98616  Female   19      Russia          Ampampamena Airport   \n",
       "98616         98617    Male   65   Indonesia  Albacete-Los Llanos Airport   \n",
       "98617         98618  Female   34       China               Gagnoa Airport   \n",
       "98618         98619  Female   10      Poland          Yoshkar-Ola Airport   \n",
       "\n",
       "      Airport Country Code        Country Name Airport Continent  \\\n",
       "0                       US       United States               NAM   \n",
       "1                       CA              Canada               NAM   \n",
       "2                       FR              France                EU   \n",
       "3                       CA              Canada               NAM   \n",
       "4                       US       United States               NAM   \n",
       "...                    ...                 ...               ...   \n",
       "98614                   NO              Norway                EU   \n",
       "98615                   MG          Madagascar                AF   \n",
       "98616                   ES               Spain                EU   \n",
       "98617                   CI       Côte d'Ivoire                AF   \n",
       "98618                   RU  Russian Federation                EU   \n",
       "\n",
       "          Continents Departure Date Arrival Airport         Pilot Name  \\\n",
       "0      North America      6/28/2022             CXF      Edithe Leggis   \n",
       "1      North America     12/26/2022             YCO        Elwood Catt   \n",
       "2             Europe      1/18/2022             GNB      Darby Felgate   \n",
       "3      North America      9/16/2022             YND      Dominica Pyle   \n",
       "4      North America      2/25/2022             SEE        Bay Pencost   \n",
       "...              ...            ...             ...                ...   \n",
       "98614         Europe     12/11/2022             HAA     Gareth Mugford   \n",
       "98615         Africa     10/30/2022             IVA     Kasey Benedict   \n",
       "98616         Europe      9/10/2022             ABC      Darrin Lucken   \n",
       "98617         Africa     10/26/2022             GGN    Gayle Lievesley   \n",
       "98618         Europe      4/16/2022             JOK  Wilhelmine Touret   \n",
       "\n",
       "      Flight Status  \n",
       "0           On Time  \n",
       "1           On Time  \n",
       "2           On Time  \n",
       "3           Delayed  \n",
       "4           On Time  \n",
       "...             ...  \n",
       "98614     Cancelled  \n",
       "98615     Cancelled  \n",
       "98616       On Time  \n",
       "98617     Cancelled  \n",
       "98618       Delayed  \n",
       "\n",
       "[98619 rows x 13 columns]"
      ]
     },
     "execution_count": 9,
     "metadata": {},
     "output_type": "execute_result"
    }
   ],
   "source": [
    "df_copy"
   ]
  },
  {
   "cell_type": "markdown",
   "id": "877ca3c4",
   "metadata": {},
   "source": [
    "___"
   ]
  },
  {
   "cell_type": "markdown",
   "id": "d1110bc3",
   "metadata": {},
   "source": [
    "<center>\n",
    "\n",
    "### Segmento de variable ['Flight Status']\n",
    "\n",
    "</center>\n"
   ]
  },
  {
   "cell_type": "markdown",
   "id": "9d6d8a15",
   "metadata": {},
   "source": [
    "___"
   ]
  },
  {
   "cell_type": "code",
   "execution_count": 10,
   "id": "4180a037",
   "metadata": {},
   "outputs": [
    {
     "data": {
      "text/plain": [
       "Flight Status\n",
       "Cancelled    32942\n",
       "On Time      32846\n",
       "Delayed      32831\n",
       "Name: count, dtype: int64"
      ]
     },
     "execution_count": 10,
     "metadata": {},
     "output_type": "execute_result"
    }
   ],
   "source": [
    "# Inspeccionamos los valores alojados en ['Flight Status'].\n",
    "\n",
    "df_copy['Flight Status'].value_counts()"
   ]
  },
  {
   "cell_type": "markdown",
   "id": "5e48543d",
   "metadata": {},
   "source": [
    "Encontramos nuestra variable target y la seteamos de manera tal que nos sirva para continuar en nuestro análisis."
   ]
  },
  {
   "cell_type": "code",
   "execution_count": 11,
   "id": "548827d5",
   "metadata": {},
   "outputs": [],
   "source": [
    "# Declaramos Flight Status como nuestra variable target ['Status Target'], en donde trataremos todos los vuelos completados como 0 y 1 para todos aquellos que tuvieron cancelación confirmada. Posteriormente procederemos a eliminar la columna ['Flight Status'] ya que la codificamos de una manera mas acorde para el modelo a futuro.\n",
    "\n",
    "df_copy['Status Target'] = (df_copy['Flight Status']=='Cancelled').astype(int)\n",
    "df_copy = df_copy.drop(['Flight Status'], axis = 1)"
   ]
  },
  {
   "cell_type": "markdown",
   "id": "b3e06c8c",
   "metadata": {},
   "source": [
    "En el contexto de este análisis, es importante aclarar la representación de los estados de vuelo. Mientras que en variable \"Flight Status\" se mencionaron tres categorías ('On Time', 'Delayed', y 'Cancelled'), en el gráfico de distribución se simplificó esta información para destacar la probabilidad de cancelación. Se asignó el valor '0' a los vuelos que estuvieron 'On Time' o 'Delayed', interpretados como vuelos no cancelados, mientras que se asignó el valor '1' exclusivamente a los vuelos 'Cancelled', que denotan aquellos efectivamente cancelados. Esta simplificación permite una visualización clara de la proporción entre los vuelos cancelados y no cancelados, representados respectivamente por '1' y '0' en el gráfico."
   ]
  },
  {
   "cell_type": "code",
   "execution_count": 12,
   "id": "2abd2be5",
   "metadata": {},
   "outputs": [
    {
     "data": {
      "image/png": "[encoded data removed]",
      "text/plain": [
       "<Figure size 800x600 with 1 Axes>"
      ]
     },
     "metadata": {},
     "output_type": "display_data"
    }
   ],
   "source": [
    "sns.set(style=\"whitegrid\")\n",
    "\n",
    "plt.figure(figsize=(8, 6))\n",
    "sns.countplot(x='Status Target', data=df_copy, palette={0: 'green', 1: 'red'})\n",
    "\n",
    "plt.xlabel('Status Target')\n",
    "plt.ylabel('Count')\n",
    "plt.title('Distribución de Status Target')\n",
    "\n",
    "plt.show()"
   ]
  },
  {
   "cell_type": "markdown",
   "id": "d98730bf",
   "metadata": {},
   "source": [
    "_______"
   ]
  },
  {
   "cell_type": "markdown",
   "id": "f6908551",
   "metadata": {},
   "source": [
    "<center>\n",
    "\n",
    "### Segmento variable ['Arrival Airport']\n",
    "\n",
    "</center>\n",
    "\n",
    "\n"
   ]
  },
  {
   "cell_type": "markdown",
   "id": "b0cc9b46",
   "metadata": {},
   "source": [
    "___"
   ]
  },
  {
   "cell_type": "markdown",
   "id": "3e1c0790",
   "metadata": {},
   "source": [
    "En primer lugar, es importante mencionar que esta variable, en su estado original, está representada por códigos de tres letras mayúsculas, los cuales hacen referencia a aeropuertos específicos. Importaremos información relacionada con los nombres correspondientes a cada código desde un servidor externo. Posteriormente, llevaremos a cabo una operación de unión (join) con nuestro df_copy. Con este enfoque, buscamos verificar la precisión de los nombres de los aeropuertos y sustituir la columna de códigos por los nombres correspondientes."
   ]
  },
  {
   "cell_type": "code",
   "execution_count": 13,
   "id": "203fbd5d",
   "metadata": {},
   "outputs": [],
   "source": [
    "# Importamos datos de una Api, para corroborar ciertas incertidrumbres con ['Arrival Airport'].\n",
    "\n",
    "url2 = 'https://raw.githubusercontent.com/lxndrblz/Airports/main/airports.csv'\n",
    "api_1 = pd.read_csv(url2, sep=',')  "
   ]
  },
  {
   "cell_type": "code",
   "execution_count": 14,
   "id": "f560877a",
   "metadata": {},
   "outputs": [
    {
     "data": {
      "text/plain": [
       "9024"
      ]
     },
     "execution_count": 14,
     "metadata": {},
     "output_type": "execute_result"
    }
   ],
   "source": [
    "df['Arrival Airport'].nunique()\n"
   ]
  },
  {
   "cell_type": "code",
   "execution_count": 15,
   "id": "911436a8",
   "metadata": {},
   "outputs": [
    {
     "data": {
      "text/plain": [
       "9193"
      ]
     },
     "execution_count": 15,
     "metadata": {},
     "output_type": "execute_result"
    }
   ],
   "source": [
    "api_1['city_code'].nunique()"
   ]
  },
  {
   "cell_type": "code",
   "execution_count": 16,
   "id": "847c67e2",
   "metadata": {},
   "outputs": [
    {
     "data": {
      "text/html": [
       "<div>\n",
       "<style scoped>\n",
       "    .dataframe tbody tr th:only-of-type {\n",
       "        vertical-align: middle;\n",
       "    }\n",
       "\n",
       "    .dataframe tbody tr th {\n",
       "        vertical-align: top;\n",
       "    }\n",
       "\n",
       "    .dataframe thead th {\n",
       "        text-align: right;\n",
       "    }\n",
       "</style>\n",
       "<table border=\"1\" class=\"dataframe\">\n",
       "  <thead>\n",
       "    <tr style=\"text-align: right;\">\n",
       "      <th></th>\n",
       "      <th>code</th>\n",
       "      <th>time_zone_id</th>\n",
       "      <th>name</th>\n",
       "      <th>city_code</th>\n",
       "      <th>country_id</th>\n",
       "      <th>location</th>\n",
       "      <th>elevation</th>\n",
       "      <th>url</th>\n",
       "      <th>icao</th>\n",
       "      <th>city</th>\n",
       "      <th>county</th>\n",
       "      <th>state</th>\n",
       "    </tr>\n",
       "  </thead>\n",
       "  <tbody>\n",
       "    <tr>\n",
       "      <th>0</th>\n",
       "      <td>UGL</td>\n",
       "      <td>Antarctica/South_Pole</td>\n",
       "      <td>Union Glacier Blue-Ice Runway</td>\n",
       "      <td>UGL</td>\n",
       "      <td>AQ</td>\n",
       "      <td>POINT (-83.320833 -79.777778)</td>\n",
       "      <td>2461</td>\n",
       "      <td>NaN</td>\n",
       "      <td>SCGC</td>\n",
       "      <td>NaN</td>\n",
       "      <td>NaN</td>\n",
       "      <td>NaN</td>\n",
       "    </tr>\n",
       "    <tr>\n",
       "      <th>1</th>\n",
       "      <td>SXW</td>\n",
       "      <td>Pacific/Port_Moresby</td>\n",
       "      <td>Sauren</td>\n",
       "      <td>SXW</td>\n",
       "      <td>PG</td>\n",
       "      <td>POINT (148.95305 -5.971389)</td>\n",
       "      <td>177</td>\n",
       "      <td>NaN</td>\n",
       "      <td>AYSV</td>\n",
       "      <td>NaN</td>\n",
       "      <td>NaN</td>\n",
       "      <td>NaN</td>\n",
       "    </tr>\n",
       "    <tr>\n",
       "      <th>2</th>\n",
       "      <td>NDV</td>\n",
       "      <td>America/New_York</td>\n",
       "      <td>USN Heliport</td>\n",
       "      <td>NDV</td>\n",
       "      <td>US</td>\n",
       "      <td>POINT (-77 38.86667)</td>\n",
       "      <td>19</td>\n",
       "      <td>NaN</td>\n",
       "      <td>NaN</td>\n",
       "      <td>NaN</td>\n",
       "      <td>NaN</td>\n",
       "      <td>NaN</td>\n",
       "    </tr>\n",
       "    <tr>\n",
       "      <th>3</th>\n",
       "      <td>EAP</td>\n",
       "      <td>Europe/Zurich</td>\n",
       "      <td>EuroAirport Basel-Mulhouse-Freiburg Airport</td>\n",
       "      <td>EAP</td>\n",
       "      <td>CH</td>\n",
       "      <td>POINT (7.529167 47.59)</td>\n",
       "      <td>846</td>\n",
       "      <td>NaN</td>\n",
       "      <td>NaN</td>\n",
       "      <td>Basel</td>\n",
       "      <td>NaN</td>\n",
       "      <td>NaN</td>\n",
       "    </tr>\n",
       "    <tr>\n",
       "      <th>4</th>\n",
       "      <td>NET</td>\n",
       "      <td>America/Nassau</td>\n",
       "      <td>New Bight</td>\n",
       "      <td>NET</td>\n",
       "      <td>BS</td>\n",
       "      <td>POINT (-75.45763803663925 24.314824100000003)</td>\n",
       "      <td>36</td>\n",
       "      <td>NaN</td>\n",
       "      <td>NaN</td>\n",
       "      <td>NaN</td>\n",
       "      <td>NaN</td>\n",
       "      <td>NaN</td>\n",
       "    </tr>\n",
       "  </tbody>\n",
       "</table>\n",
       "</div>"
      ],
      "text/plain": [
       "  code           time_zone_id                                         name  \\\n",
       "0  UGL  Antarctica/South_Pole                Union Glacier Blue-Ice Runway   \n",
       "1  SXW   Pacific/Port_Moresby                                       Sauren   \n",
       "2  NDV       America/New_York                                 USN Heliport   \n",
       "3  EAP          Europe/Zurich  EuroAirport Basel-Mulhouse-Freiburg Airport   \n",
       "4  NET         America/Nassau                                    New Bight   \n",
       "\n",
       "  city_code country_id                                       location  \\\n",
       "0       UGL         AQ                  POINT (-83.320833 -79.777778)   \n",
       "1       SXW         PG                    POINT (148.95305 -5.971389)   \n",
       "2       NDV         US                           POINT (-77 38.86667)   \n",
       "3       EAP         CH                         POINT (7.529167 47.59)   \n",
       "4       NET         BS  POINT (-75.45763803663925 24.314824100000003)   \n",
       "\n",
       "   elevation  url  icao   city county state  \n",
       "0       2461  NaN  SCGC    NaN    NaN   NaN  \n",
       "1        177  NaN  AYSV    NaN    NaN   NaN  \n",
       "2         19  NaN   NaN    NaN    NaN   NaN  \n",
       "3        846  NaN   NaN  Basel    NaN   NaN  \n",
       "4         36  NaN   NaN    NaN    NaN   NaN  "
      ]
     },
     "execution_count": 16,
     "metadata": {},
     "output_type": "execute_result"
    }
   ],
   "source": [
    "api_1.head()"
   ]
  },
  {
   "cell_type": "code",
   "execution_count": 17,
   "id": "d0198f33",
   "metadata": {},
   "outputs": [
    {
     "data": {
      "text/html": [
       "<div>\n",
       "<style scoped>\n",
       "    .dataframe tbody tr th:only-of-type {\n",
       "        vertical-align: middle;\n",
       "    }\n",
       "\n",
       "    .dataframe tbody tr th {\n",
       "        vertical-align: top;\n",
       "    }\n",
       "\n",
       "    .dataframe thead th {\n",
       "        text-align: right;\n",
       "    }\n",
       "</style>\n",
       "<table border=\"1\" class=\"dataframe\">\n",
       "  <thead>\n",
       "    <tr style=\"text-align: right;\">\n",
       "      <th></th>\n",
       "      <th>Passenger ID</th>\n",
       "      <th>Gender</th>\n",
       "      <th>Age</th>\n",
       "      <th>Nationality</th>\n",
       "      <th>Airport Name</th>\n",
       "      <th>Airport Country Code</th>\n",
       "      <th>Country Name</th>\n",
       "      <th>Airport Continent</th>\n",
       "      <th>Continents</th>\n",
       "      <th>Departure Date</th>\n",
       "      <th>Arrival Airport</th>\n",
       "      <th>Pilot Name</th>\n",
       "      <th>Status Target</th>\n",
       "    </tr>\n",
       "  </thead>\n",
       "  <tbody>\n",
       "    <tr>\n",
       "      <th>0</th>\n",
       "      <td>1</td>\n",
       "      <td>Female</td>\n",
       "      <td>62</td>\n",
       "      <td>Japan</td>\n",
       "      <td>Coldfoot Airport</td>\n",
       "      <td>US</td>\n",
       "      <td>United States</td>\n",
       "      <td>NAM</td>\n",
       "      <td>North America</td>\n",
       "      <td>6/28/2022</td>\n",
       "      <td>CXF</td>\n",
       "      <td>Edithe Leggis</td>\n",
       "      <td>0</td>\n",
       "    </tr>\n",
       "    <tr>\n",
       "      <th>1</th>\n",
       "      <td>2</td>\n",
       "      <td>Male</td>\n",
       "      <td>62</td>\n",
       "      <td>Nicaragua</td>\n",
       "      <td>Kugluktuk Airport</td>\n",
       "      <td>CA</td>\n",
       "      <td>Canada</td>\n",
       "      <td>NAM</td>\n",
       "      <td>North America</td>\n",
       "      <td>12/26/2022</td>\n",
       "      <td>YCO</td>\n",
       "      <td>Elwood Catt</td>\n",
       "      <td>0</td>\n",
       "    </tr>\n",
       "    <tr>\n",
       "      <th>2</th>\n",
       "      <td>3</td>\n",
       "      <td>Male</td>\n",
       "      <td>67</td>\n",
       "      <td>Russia</td>\n",
       "      <td>Grenoble-Isère Airport</td>\n",
       "      <td>FR</td>\n",
       "      <td>France</td>\n",
       "      <td>EU</td>\n",
       "      <td>Europe</td>\n",
       "      <td>1/18/2022</td>\n",
       "      <td>GNB</td>\n",
       "      <td>Darby Felgate</td>\n",
       "      <td>0</td>\n",
       "    </tr>\n",
       "    <tr>\n",
       "      <th>3</th>\n",
       "      <td>4</td>\n",
       "      <td>Female</td>\n",
       "      <td>71</td>\n",
       "      <td>China</td>\n",
       "      <td>Ottawa / Gatineau Airport</td>\n",
       "      <td>CA</td>\n",
       "      <td>Canada</td>\n",
       "      <td>NAM</td>\n",
       "      <td>North America</td>\n",
       "      <td>9/16/2022</td>\n",
       "      <td>YND</td>\n",
       "      <td>Dominica Pyle</td>\n",
       "      <td>0</td>\n",
       "    </tr>\n",
       "    <tr>\n",
       "      <th>4</th>\n",
       "      <td>5</td>\n",
       "      <td>Male</td>\n",
       "      <td>21</td>\n",
       "      <td>China</td>\n",
       "      <td>Gillespie Field</td>\n",
       "      <td>US</td>\n",
       "      <td>United States</td>\n",
       "      <td>NAM</td>\n",
       "      <td>North America</td>\n",
       "      <td>2/25/2022</td>\n",
       "      <td>SEE</td>\n",
       "      <td>Bay Pencost</td>\n",
       "      <td>0</td>\n",
       "    </tr>\n",
       "    <tr>\n",
       "      <th>...</th>\n",
       "      <td>...</td>\n",
       "      <td>...</td>\n",
       "      <td>...</td>\n",
       "      <td>...</td>\n",
       "      <td>...</td>\n",
       "      <td>...</td>\n",
       "      <td>...</td>\n",
       "      <td>...</td>\n",
       "      <td>...</td>\n",
       "      <td>...</td>\n",
       "      <td>...</td>\n",
       "      <td>...</td>\n",
       "      <td>...</td>\n",
       "    </tr>\n",
       "    <tr>\n",
       "      <th>98614</th>\n",
       "      <td>98615</td>\n",
       "      <td>Male</td>\n",
       "      <td>85</td>\n",
       "      <td>China</td>\n",
       "      <td>Hasvik Airport</td>\n",
       "      <td>NO</td>\n",
       "      <td>Norway</td>\n",
       "      <td>EU</td>\n",
       "      <td>Europe</td>\n",
       "      <td>12/11/2022</td>\n",
       "      <td>HAA</td>\n",
       "      <td>Gareth Mugford</td>\n",
       "      <td>1</td>\n",
       "    </tr>\n",
       "    <tr>\n",
       "      <th>98615</th>\n",
       "      <td>98616</td>\n",
       "      <td>Female</td>\n",
       "      <td>19</td>\n",
       "      <td>Russia</td>\n",
       "      <td>Ampampamena Airport</td>\n",
       "      <td>MG</td>\n",
       "      <td>Madagascar</td>\n",
       "      <td>AF</td>\n",
       "      <td>Africa</td>\n",
       "      <td>10/30/2022</td>\n",
       "      <td>IVA</td>\n",
       "      <td>Kasey Benedict</td>\n",
       "      <td>1</td>\n",
       "    </tr>\n",
       "    <tr>\n",
       "      <th>98616</th>\n",
       "      <td>98617</td>\n",
       "      <td>Male</td>\n",
       "      <td>65</td>\n",
       "      <td>Indonesia</td>\n",
       "      <td>Albacete-Los Llanos Airport</td>\n",
       "      <td>ES</td>\n",
       "      <td>Spain</td>\n",
       "      <td>EU</td>\n",
       "      <td>Europe</td>\n",
       "      <td>9/10/2022</td>\n",
       "      <td>ABC</td>\n",
       "      <td>Darrin Lucken</td>\n",
       "      <td>0</td>\n",
       "    </tr>\n",
       "    <tr>\n",
       "      <th>98617</th>\n",
       "      <td>98618</td>\n",
       "      <td>Female</td>\n",
       "      <td>34</td>\n",
       "      <td>China</td>\n",
       "      <td>Gagnoa Airport</td>\n",
       "      <td>CI</td>\n",
       "      <td>Côte d'Ivoire</td>\n",
       "      <td>AF</td>\n",
       "      <td>Africa</td>\n",
       "      <td>10/26/2022</td>\n",
       "      <td>GGN</td>\n",
       "      <td>Gayle Lievesley</td>\n",
       "      <td>1</td>\n",
       "    </tr>\n",
       "    <tr>\n",
       "      <th>98618</th>\n",
       "      <td>98619</td>\n",
       "      <td>Female</td>\n",
       "      <td>10</td>\n",
       "      <td>Poland</td>\n",
       "      <td>Yoshkar-Ola Airport</td>\n",
       "      <td>RU</td>\n",
       "      <td>Russian Federation</td>\n",
       "      <td>EU</td>\n",
       "      <td>Europe</td>\n",
       "      <td>4/16/2022</td>\n",
       "      <td>JOK</td>\n",
       "      <td>Wilhelmine Touret</td>\n",
       "      <td>0</td>\n",
       "    </tr>\n",
       "  </tbody>\n",
       "</table>\n",
       "<p>98619 rows × 13 columns</p>\n",
       "</div>"
      ],
      "text/plain": [
       "       Passenger ID  Gender  Age Nationality                 Airport Name  \\\n",
       "0                 1  Female   62       Japan             Coldfoot Airport   \n",
       "1                 2    Male   62   Nicaragua            Kugluktuk Airport   \n",
       "2                 3    Male   67      Russia       Grenoble-Isère Airport   \n",
       "3                 4  Female   71       China    Ottawa / Gatineau Airport   \n",
       "4                 5    Male   21       China              Gillespie Field   \n",
       "...             ...     ...  ...         ...                          ...   \n",
       "98614         98615    Male   85       China               Hasvik Airport   \n",
       "98615         98616  Female   19      Russia          Ampampamena Airport   \n",
       "98616         98617    Male   65   Indonesia  Albacete-Los Llanos Airport   \n",
       "98617         98618  Female   34       China               Gagnoa Airport   \n",
       "98618         98619  Female   10      Poland          Yoshkar-Ola Airport   \n",
       "\n",
       "      Airport Country Code        Country Name Airport Continent  \\\n",
       "0                       US       United States               NAM   \n",
       "1                       CA              Canada               NAM   \n",
       "2                       FR              France                EU   \n",
       "3                       CA              Canada               NAM   \n",
       "4                       US       United States               NAM   \n",
       "...                    ...                 ...               ...   \n",
       "98614                   NO              Norway                EU   \n",
       "98615                   MG          Madagascar                AF   \n",
       "98616                   ES               Spain                EU   \n",
       "98617                   CI       Côte d'Ivoire                AF   \n",
       "98618                   RU  Russian Federation                EU   \n",
       "\n",
       "          Continents Departure Date Arrival Airport         Pilot Name  \\\n",
       "0      North America      6/28/2022             CXF      Edithe Leggis   \n",
       "1      North America     12/26/2022             YCO        Elwood Catt   \n",
       "2             Europe      1/18/2022             GNB      Darby Felgate   \n",
       "3      North America      9/16/2022             YND      Dominica Pyle   \n",
       "4      North America      2/25/2022             SEE        Bay Pencost   \n",
       "...              ...            ...             ...                ...   \n",
       "98614         Europe     12/11/2022             HAA     Gareth Mugford   \n",
       "98615         Africa     10/30/2022             IVA     Kasey Benedict   \n",
       "98616         Europe      9/10/2022             ABC      Darrin Lucken   \n",
       "98617         Africa     10/26/2022             GGN    Gayle Lievesley   \n",
       "98618         Europe      4/16/2022             JOK  Wilhelmine Touret   \n",
       "\n",
       "       Status Target  \n",
       "0                  0  \n",
       "1                  0  \n",
       "2                  0  \n",
       "3                  0  \n",
       "4                  0  \n",
       "...              ...  \n",
       "98614              1  \n",
       "98615              1  \n",
       "98616              0  \n",
       "98617              1  \n",
       "98618              0  \n",
       "\n",
       "[98619 rows x 13 columns]"
      ]
     },
     "execution_count": 17,
     "metadata": {},
     "output_type": "execute_result"
    }
   ],
   "source": [
    "df_copy"
   ]
  },
  {
   "cell_type": "code",
   "execution_count": 18,
   "id": "f1d836a1",
   "metadata": {},
   "outputs": [
    {
     "data": {
      "text/html": [
       "<div>\n",
       "<style scoped>\n",
       "    .dataframe tbody tr th:only-of-type {\n",
       "        vertical-align: middle;\n",
       "    }\n",
       "\n",
       "    .dataframe tbody tr th {\n",
       "        vertical-align: top;\n",
       "    }\n",
       "\n",
       "    .dataframe thead th {\n",
       "        text-align: right;\n",
       "    }\n",
       "</style>\n",
       "<table border=\"1\" class=\"dataframe\">\n",
       "  <thead>\n",
       "    <tr style=\"text-align: right;\">\n",
       "      <th></th>\n",
       "      <th>Passenger ID</th>\n",
       "      <th>Gender</th>\n",
       "      <th>Age</th>\n",
       "      <th>Nationality</th>\n",
       "      <th>Airport Name</th>\n",
       "      <th>Airport Country Code</th>\n",
       "      <th>Country Name</th>\n",
       "      <th>Airport Continent</th>\n",
       "      <th>Continents</th>\n",
       "      <th>Departure Date</th>\n",
       "      <th>Pilot Name</th>\n",
       "      <th>Status Target</th>\n",
       "      <th>Arrival Airport</th>\n",
       "    </tr>\n",
       "  </thead>\n",
       "  <tbody>\n",
       "    <tr>\n",
       "      <th>0</th>\n",
       "      <td>1</td>\n",
       "      <td>Female</td>\n",
       "      <td>62</td>\n",
       "      <td>Japan</td>\n",
       "      <td>Coldfoot Airport</td>\n",
       "      <td>US</td>\n",
       "      <td>United States</td>\n",
       "      <td>NAM</td>\n",
       "      <td>North America</td>\n",
       "      <td>6/28/2022</td>\n",
       "      <td>Edithe Leggis</td>\n",
       "      <td>0</td>\n",
       "      <td>Coldfoot</td>\n",
       "    </tr>\n",
       "    <tr>\n",
       "      <th>1</th>\n",
       "      <td>2</td>\n",
       "      <td>Male</td>\n",
       "      <td>62</td>\n",
       "      <td>Nicaragua</td>\n",
       "      <td>Kugluktuk Airport</td>\n",
       "      <td>CA</td>\n",
       "      <td>Canada</td>\n",
       "      <td>NAM</td>\n",
       "      <td>North America</td>\n",
       "      <td>12/26/2022</td>\n",
       "      <td>Elwood Catt</td>\n",
       "      <td>0</td>\n",
       "      <td>Kugluktuk Airport</td>\n",
       "    </tr>\n",
       "    <tr>\n",
       "      <th>2</th>\n",
       "      <td>3</td>\n",
       "      <td>Male</td>\n",
       "      <td>67</td>\n",
       "      <td>Russia</td>\n",
       "      <td>Grenoble-Isère Airport</td>\n",
       "      <td>FR</td>\n",
       "      <td>France</td>\n",
       "      <td>EU</td>\n",
       "      <td>Europe</td>\n",
       "      <td>1/18/2022</td>\n",
       "      <td>Darby Felgate</td>\n",
       "      <td>0</td>\n",
       "      <td>Grenoble-Isere Airport</td>\n",
       "    </tr>\n",
       "    <tr>\n",
       "      <th>3</th>\n",
       "      <td>4</td>\n",
       "      <td>Female</td>\n",
       "      <td>71</td>\n",
       "      <td>China</td>\n",
       "      <td>Ottawa / Gatineau Airport</td>\n",
       "      <td>CA</td>\n",
       "      <td>Canada</td>\n",
       "      <td>NAM</td>\n",
       "      <td>North America</td>\n",
       "      <td>9/16/2022</td>\n",
       "      <td>Dominica Pyle</td>\n",
       "      <td>0</td>\n",
       "      <td>Gatineau Airport</td>\n",
       "    </tr>\n",
       "    <tr>\n",
       "      <th>4</th>\n",
       "      <td>5</td>\n",
       "      <td>Male</td>\n",
       "      <td>21</td>\n",
       "      <td>China</td>\n",
       "      <td>Gillespie Field</td>\n",
       "      <td>US</td>\n",
       "      <td>United States</td>\n",
       "      <td>NAM</td>\n",
       "      <td>North America</td>\n",
       "      <td>2/25/2022</td>\n",
       "      <td>Bay Pencost</td>\n",
       "      <td>0</td>\n",
       "      <td>Gillespie Field</td>\n",
       "    </tr>\n",
       "    <tr>\n",
       "      <th>...</th>\n",
       "      <td>...</td>\n",
       "      <td>...</td>\n",
       "      <td>...</td>\n",
       "      <td>...</td>\n",
       "      <td>...</td>\n",
       "      <td>...</td>\n",
       "      <td>...</td>\n",
       "      <td>...</td>\n",
       "      <td>...</td>\n",
       "      <td>...</td>\n",
       "      <td>...</td>\n",
       "      <td>...</td>\n",
       "      <td>...</td>\n",
       "    </tr>\n",
       "    <tr>\n",
       "      <th>98614</th>\n",
       "      <td>98615</td>\n",
       "      <td>Male</td>\n",
       "      <td>85</td>\n",
       "      <td>China</td>\n",
       "      <td>Hasvik Airport</td>\n",
       "      <td>NO</td>\n",
       "      <td>Norway</td>\n",
       "      <td>EU</td>\n",
       "      <td>Europe</td>\n",
       "      <td>12/11/2022</td>\n",
       "      <td>Gareth Mugford</td>\n",
       "      <td>1</td>\n",
       "      <td>Hasvik Airport</td>\n",
       "    </tr>\n",
       "    <tr>\n",
       "      <th>98615</th>\n",
       "      <td>98616</td>\n",
       "      <td>Female</td>\n",
       "      <td>19</td>\n",
       "      <td>Russia</td>\n",
       "      <td>Ampampamena Airport</td>\n",
       "      <td>MG</td>\n",
       "      <td>Madagascar</td>\n",
       "      <td>AF</td>\n",
       "      <td>Africa</td>\n",
       "      <td>10/30/2022</td>\n",
       "      <td>Kasey Benedict</td>\n",
       "      <td>1</td>\n",
       "      <td>Ambanja</td>\n",
       "    </tr>\n",
       "    <tr>\n",
       "      <th>98616</th>\n",
       "      <td>98617</td>\n",
       "      <td>Male</td>\n",
       "      <td>65</td>\n",
       "      <td>Indonesia</td>\n",
       "      <td>Albacete-Los Llanos Airport</td>\n",
       "      <td>ES</td>\n",
       "      <td>Spain</td>\n",
       "      <td>EU</td>\n",
       "      <td>Europe</td>\n",
       "      <td>9/10/2022</td>\n",
       "      <td>Darrin Lucken</td>\n",
       "      <td>0</td>\n",
       "      <td>Los Llanos</td>\n",
       "    </tr>\n",
       "    <tr>\n",
       "      <th>98617</th>\n",
       "      <td>98618</td>\n",
       "      <td>Female</td>\n",
       "      <td>34</td>\n",
       "      <td>China</td>\n",
       "      <td>Gagnoa Airport</td>\n",
       "      <td>CI</td>\n",
       "      <td>Côte d'Ivoire</td>\n",
       "      <td>AF</td>\n",
       "      <td>Africa</td>\n",
       "      <td>10/26/2022</td>\n",
       "      <td>Gayle Lievesley</td>\n",
       "      <td>1</td>\n",
       "      <td>Gagnoa</td>\n",
       "    </tr>\n",
       "    <tr>\n",
       "      <th>98618</th>\n",
       "      <td>98619</td>\n",
       "      <td>Female</td>\n",
       "      <td>10</td>\n",
       "      <td>Poland</td>\n",
       "      <td>Yoshkar-Ola Airport</td>\n",
       "      <td>RU</td>\n",
       "      <td>Russian Federation</td>\n",
       "      <td>EU</td>\n",
       "      <td>Europe</td>\n",
       "      <td>4/16/2022</td>\n",
       "      <td>Wilhelmine Touret</td>\n",
       "      <td>0</td>\n",
       "      <td>Yoshkar-Ola Airport</td>\n",
       "    </tr>\n",
       "  </tbody>\n",
       "</table>\n",
       "<p>98619 rows × 13 columns</p>\n",
       "</div>"
      ],
      "text/plain": [
       "       Passenger ID  Gender  Age Nationality                 Airport Name  \\\n",
       "0                 1  Female   62       Japan             Coldfoot Airport   \n",
       "1                 2    Male   62   Nicaragua            Kugluktuk Airport   \n",
       "2                 3    Male   67      Russia       Grenoble-Isère Airport   \n",
       "3                 4  Female   71       China    Ottawa / Gatineau Airport   \n",
       "4                 5    Male   21       China              Gillespie Field   \n",
       "...             ...     ...  ...         ...                          ...   \n",
       "98614         98615    Male   85       China               Hasvik Airport   \n",
       "98615         98616  Female   19      Russia          Ampampamena Airport   \n",
       "98616         98617    Male   65   Indonesia  Albacete-Los Llanos Airport   \n",
       "98617         98618  Female   34       China               Gagnoa Airport   \n",
       "98618         98619  Female   10      Poland          Yoshkar-Ola Airport   \n",
       "\n",
       "      Airport Country Code        Country Name Airport Continent  \\\n",
       "0                       US       United States               NAM   \n",
       "1                       CA              Canada               NAM   \n",
       "2                       FR              France                EU   \n",
       "3                       CA              Canada               NAM   \n",
       "4                       US       United States               NAM   \n",
       "...                    ...                 ...               ...   \n",
       "98614                   NO              Norway                EU   \n",
       "98615                   MG          Madagascar                AF   \n",
       "98616                   ES               Spain                EU   \n",
       "98617                   CI       Côte d'Ivoire                AF   \n",
       "98618                   RU  Russian Federation                EU   \n",
       "\n",
       "          Continents Departure Date         Pilot Name  Status Target  \\\n",
       "0      North America      6/28/2022      Edithe Leggis              0   \n",
       "1      North America     12/26/2022        Elwood Catt              0   \n",
       "2             Europe      1/18/2022      Darby Felgate              0   \n",
       "3      North America      9/16/2022      Dominica Pyle              0   \n",
       "4      North America      2/25/2022        Bay Pencost              0   \n",
       "...              ...            ...                ...            ...   \n",
       "98614         Europe     12/11/2022     Gareth Mugford              1   \n",
       "98615         Africa     10/30/2022     Kasey Benedict              1   \n",
       "98616         Europe      9/10/2022      Darrin Lucken              0   \n",
       "98617         Africa     10/26/2022    Gayle Lievesley              1   \n",
       "98618         Europe      4/16/2022  Wilhelmine Touret              0   \n",
       "\n",
       "              Arrival Airport  \n",
       "0                    Coldfoot  \n",
       "1           Kugluktuk Airport  \n",
       "2      Grenoble-Isere Airport  \n",
       "3            Gatineau Airport  \n",
       "4             Gillespie Field  \n",
       "...                       ...  \n",
       "98614          Hasvik Airport  \n",
       "98615                 Ambanja  \n",
       "98616              Los Llanos  \n",
       "98617                  Gagnoa  \n",
       "98618     Yoshkar-Ola Airport  \n",
       "\n",
       "[98619 rows x 13 columns]"
      ]
     },
     "execution_count": 18,
     "metadata": {},
     "output_type": "execute_result"
    }
   ],
   "source": [
    "# Joineamos la columna ['name'] de api_1 con nuestro df_copy a través de la columna ['Arrival Airport'] en donde se encuentra el aeropuerto de llegada.\n",
    "\n",
    "df_copy = pd.merge(df_copy, api_1[['code', 'name']], \n",
    "                   how='left', left_on='Arrival Airport', right_on='code')\n",
    "\n",
    "\n",
    "df_copy = df_copy.drop(columns=['code'])\n",
    "df_copy = df_copy.drop(columns=['Arrival Airport'])\n",
    "\n",
    "df_copy = df_copy.rename(columns={'name': 'Arrival Airport'})\n",
    "df_copy"
   ]
  },
  {
   "cell_type": "markdown",
   "id": "6c6a05f1",
   "metadata": {},
   "source": [
    "Finalizando la revisión de las columnas ['Airport Name'] y ['Arrival Airport'], realizamos un proceso de joineo utilizando un servicio de API pública que proporciona el código IATA internacional. Observamos que en ambos casos, estos códigos coinciden con las columnas ['code'] y ['name'] del registro correspondiente. Con esto, podemos afirmar que la columna ['Airport Name'] no se refiere al punto de partida del viaje, sino más bien al lugar de llegada. Al confirmar que ['Arrival Airport'] es igual a ['Airport Name'], procedimos a eliminar la columna ['Arrival Airport'], ya que se considera información redundante para nuestro modelo predictivo."
   ]
  },
  {
   "cell_type": "markdown",
   "id": "bea81d36",
   "metadata": {},
   "source": [
    "___"
   ]
  },
  {
   "cell_type": "markdown",
   "id": "8f7e0d72",
   "metadata": {},
   "source": [
    "<center>\n",
    "\n",
    "### Segmento variable ['Airport Name']\n",
    "\n",
    "</center>\n"
   ]
  },
  {
   "cell_type": "markdown",
   "id": "d5664efb",
   "metadata": {},
   "source": [
    "___"
   ]
  },
  {
   "cell_type": "code",
   "execution_count": 19,
   "id": "85853dca",
   "metadata": {},
   "outputs": [
    {
     "data": {
      "text/plain": [
       "9062"
      ]
     },
     "execution_count": 19,
     "metadata": {},
     "output_type": "execute_result"
    }
   ],
   "source": [
    "# Observemos primero la cantidad de aeropuertos registrados en df_copy.\n",
    "\n",
    "df_copy['Airport Name'].nunique()"
   ]
  },
  {
   "cell_type": "code",
   "execution_count": 20,
   "id": "3f9994cc",
   "metadata": {
    "scrolled": true
   },
   "outputs": [
    {
     "data": {
      "text/plain": [
       "count    9062.000000\n",
       "mean       10.882697\n",
       "std         3.478763\n",
       "min         1.000000\n",
       "25%         9.000000\n",
       "50%        11.000000\n",
       "75%        13.000000\n",
       "max        43.000000\n",
       "Name: count, dtype: float64"
      ]
     },
     "execution_count": 20,
     "metadata": {},
     "output_type": "execute_result"
    }
   ],
   "source": [
    "# Comenzamos a explorar la composición de dicha variable.\n",
    "\n",
    "df_copy['Airport Name'].value_counts().describe()"
   ]
  },
  {
   "cell_type": "code",
   "execution_count": 21,
   "id": "2d7be4d9",
   "metadata": {},
   "outputs": [],
   "source": [
    "# En esta parte, buscaremos obtener la cuenta de registros por aeropuerto y filtrar los nombres de aeropuertos que tienen menos de 5 registros.\n",
    "airport_counts = df_copy['Airport Name'].value_counts()\n",
    "\n",
    "airports_to_remove = airport_counts[airport_counts < 5].index\n",
    "\n",
    "df_copy = df_copy[~df_copy['Airport Name'].isin(airports_to_remove)]"
   ]
  },
  {
   "cell_type": "markdown",
   "id": "c96566ec",
   "metadata": {},
   "source": [
    "Eliminamos todos aquellos Aeropuertos registrados en nuestro df_copy con menos de 5 vuelos registrados, ya que consideramos que no son significativos en volúmen para nuestro análisis."
   ]
  },
  {
   "cell_type": "code",
   "execution_count": 22,
   "id": "ffa0c2ef",
   "metadata": {},
   "outputs": [
    {
     "data": {
      "text/plain": [
       "0.7469528626718102"
      ]
     },
     "execution_count": 22,
     "metadata": {},
     "output_type": "execute_result"
    }
   ],
   "source": [
    "# Creamos variable ['cancelled_airports_counts'] para determinar si existe una correlación fuerte entre la cantidad de cancelacionces con respecto al aeropuerto.\n",
    "\n",
    "cancelled_airports_counts = df_copy[df_copy['Status Target'] == 1]['Airport Name'].value_counts()\n",
    "\n",
    "\n",
    "correlation = df_copy.groupby('Airport Name')['Status Target'].mean().corr(cancelled_airports_counts)\n",
    "correlation"
   ]
  },
  {
   "cell_type": "markdown",
   "id": "6619cabe",
   "metadata": {},
   "source": [
    "Como observamos anteriormente, la cantidad de cancelaciones presenta una correlación significativa con la variable ['Airport Name'] (que, recordemos, indica el lugar de origen del vuelo). Procederemos a evaluar esta relación mediante la creación de una nueva columna llamada ['Cancellation Percentage per Airport'], la cual calculará el porcentaje de cancelaciones para cada aeropuerto en relación con el total de vuelos del mismo."
   ]
  },
  {
   "cell_type": "code",
   "execution_count": 23,
   "id": "aabbbc30",
   "metadata": {},
   "outputs": [
    {
     "name": "stderr",
     "output_type": "stream",
     "text": [
      "C:\\Users\\Jona\\AppData\\Local\\Temp\\ipykernel_8160\\498804383.py:1: SettingWithCopyWarning: \n",
      "A value is trying to be set on a copy of a slice from a DataFrame.\n",
      "Try using .loc[row_indexer,col_indexer] = value instead\n",
      "\n",
      "See the caveats in the documentation: https://pandas.pydata.org/pandas-docs/stable/user_guide/indexing.html#returning-a-view-versus-a-copy\n",
      "  df_copy['Cancellation Percentage per Airport'] = (df_copy.groupby('Airport Name')['Status Target'].transform('mean') * 100).round(2)\n"
     ]
    },
    {
     "data": {
      "text/html": [
       "<div>\n",
       "<style scoped>\n",
       "    .dataframe tbody tr th:only-of-type {\n",
       "        vertical-align: middle;\n",
       "    }\n",
       "\n",
       "    .dataframe tbody tr th {\n",
       "        vertical-align: top;\n",
       "    }\n",
       "\n",
       "    .dataframe thead th {\n",
       "        text-align: right;\n",
       "    }\n",
       "</style>\n",
       "<table border=\"1\" class=\"dataframe\">\n",
       "  <thead>\n",
       "    <tr style=\"text-align: right;\">\n",
       "      <th></th>\n",
       "      <th>Airport Name</th>\n",
       "      <th>Cancellation Percentage per Airport</th>\n",
       "    </tr>\n",
       "  </thead>\n",
       "  <tbody>\n",
       "    <tr>\n",
       "      <th>0</th>\n",
       "      <td>Coldfoot Airport</td>\n",
       "      <td>18.18</td>\n",
       "    </tr>\n",
       "    <tr>\n",
       "      <th>1</th>\n",
       "      <td>Kugluktuk Airport</td>\n",
       "      <td>22.22</td>\n",
       "    </tr>\n",
       "    <tr>\n",
       "      <th>2</th>\n",
       "      <td>Grenoble-Isère Airport</td>\n",
       "      <td>26.67</td>\n",
       "    </tr>\n",
       "    <tr>\n",
       "      <th>3</th>\n",
       "      <td>Ottawa / Gatineau Airport</td>\n",
       "      <td>42.86</td>\n",
       "    </tr>\n",
       "    <tr>\n",
       "      <th>4</th>\n",
       "      <td>Gillespie Field</td>\n",
       "      <td>45.45</td>\n",
       "    </tr>\n",
       "    <tr>\n",
       "      <th>...</th>\n",
       "      <td>...</td>\n",
       "      <td>...</td>\n",
       "    </tr>\n",
       "    <tr>\n",
       "      <th>98614</th>\n",
       "      <td>Hasvik Airport</td>\n",
       "      <td>22.22</td>\n",
       "    </tr>\n",
       "    <tr>\n",
       "      <th>98615</th>\n",
       "      <td>Ampampamena Airport</td>\n",
       "      <td>21.43</td>\n",
       "    </tr>\n",
       "    <tr>\n",
       "      <th>98616</th>\n",
       "      <td>Albacete-Los Llanos Airport</td>\n",
       "      <td>46.15</td>\n",
       "    </tr>\n",
       "    <tr>\n",
       "      <th>98617</th>\n",
       "      <td>Gagnoa Airport</td>\n",
       "      <td>20.00</td>\n",
       "    </tr>\n",
       "    <tr>\n",
       "      <th>98618</th>\n",
       "      <td>Yoshkar-Ola Airport</td>\n",
       "      <td>33.33</td>\n",
       "    </tr>\n",
       "  </tbody>\n",
       "</table>\n",
       "<p>98073 rows × 2 columns</p>\n",
       "</div>"
      ],
      "text/plain": [
       "                      Airport Name  Cancellation Percentage per Airport\n",
       "0                 Coldfoot Airport                                18.18\n",
       "1                Kugluktuk Airport                                22.22\n",
       "2           Grenoble-Isère Airport                                26.67\n",
       "3        Ottawa / Gatineau Airport                                42.86\n",
       "4                  Gillespie Field                                45.45\n",
       "...                            ...                                  ...\n",
       "98614               Hasvik Airport                                22.22\n",
       "98615          Ampampamena Airport                                21.43\n",
       "98616  Albacete-Los Llanos Airport                                46.15\n",
       "98617               Gagnoa Airport                                20.00\n",
       "98618          Yoshkar-Ola Airport                                33.33\n",
       "\n",
       "[98073 rows x 2 columns]"
      ]
     },
     "execution_count": 23,
     "metadata": {},
     "output_type": "execute_result"
    }
   ],
   "source": [
    "df_copy['Cancellation Percentage per Airport'] = (df_copy.groupby('Airport Name')['Status Target'].transform('mean') * 100).round(2)\n",
    "\n",
    "df_copy[['Airport Name', 'Cancellation Percentage per Airport']]"
   ]
  },
  {
   "cell_type": "code",
   "execution_count": 24,
   "id": "5489902f",
   "metadata": {
    "scrolled": true
   },
   "outputs": [
    {
     "data": {
      "text/plain": [
       "330"
      ]
     },
     "execution_count": 24,
     "metadata": {},
     "output_type": "execute_result"
    }
   ],
   "source": [
    "# Filtraremos los aeropuertos con un porcentaje de cancelación mayor al 60%\n",
    "\n",
    "high_cancelation_airports = df_copy[df_copy['Cancellation Percentage per Airport'] > 60]\n",
    "\n",
    "count_high_cancelation_airports = high_cancelation_airports['Airport Name'].nunique()\n",
    "\n",
    "count_high_cancelation_airports"
   ]
  },
  {
   "cell_type": "markdown",
   "id": "edf72adb",
   "metadata": {},
   "source": [
    "___"
   ]
  },
  {
   "cell_type": "markdown",
   "id": "06fc759d",
   "metadata": {},
   "source": [
    "<center>\n",
    "\n",
    "### Segmento variable ['Pilot Name']\n",
    "\n",
    "</center>\n"
   ]
  },
  {
   "cell_type": "markdown",
   "id": "42efa4ff",
   "metadata": {},
   "source": [
    "___"
   ]
  },
  {
   "cell_type": "code",
   "execution_count": 25,
   "id": "3d300c54",
   "metadata": {},
   "outputs": [
    {
     "data": {
      "text/plain": [
       "0            Edithe Leggis\n",
       "1              Elwood Catt\n",
       "2            Darby Felgate\n",
       "3            Dominica Pyle\n",
       "4              Bay Pencost\n",
       "               ...        \n",
       "98614       Gareth Mugford\n",
       "98615       Kasey Benedict\n",
       "98616        Darrin Lucken\n",
       "98617      Gayle Lievesley\n",
       "98618    Wilhelmine Touret\n",
       "Name: Pilot Name, Length: 98073, dtype: object"
      ]
     },
     "execution_count": 25,
     "metadata": {},
     "output_type": "execute_result"
    }
   ],
   "source": [
    "# Observamos el contenido de ['Pilot Name'].\n",
    "\n",
    "df_copy['Pilot Name']"
   ]
  },
  {
   "cell_type": "code",
   "execution_count": 26,
   "id": "390989f4",
   "metadata": {},
   "outputs": [
    {
     "data": {
      "text/plain": [
       "2"
      ]
     },
     "execution_count": 26,
     "metadata": {},
     "output_type": "execute_result"
    }
   ],
   "source": [
    "# Controlamos la cantidad máxima de vuelos que posee registrado cada piloto en este data set.\n",
    "\n",
    "max_flights_per_pilot = df_copy.groupby('Pilot Name')['Passenger ID'].count().max()\n",
    "\n",
    "max_flights_per_pilot\n"
   ]
  },
  {
   "cell_type": "code",
   "execution_count": 27,
   "id": "03ada8d9",
   "metadata": {},
   "outputs": [],
   "source": [
    "# Eliminamos la columna ['Pilot Name'] ya que como máximo un piloto llego a tener dos vuelos, no es una variable significativa para nuestro modelo a futuro.\n",
    "\n",
    "df_copy = df_copy.drop(['Pilot Name'], axis=1)"
   ]
  },
  {
   "cell_type": "markdown",
   "id": "d740461f",
   "metadata": {},
   "source": [
    "___"
   ]
  },
  {
   "cell_type": "markdown",
   "id": "010416b1",
   "metadata": {},
   "source": [
    "#### Drop de columnas no significativas y renombramiento de otras en busca de una mejor legibilidad."
   ]
  },
  {
   "cell_type": "code",
   "execution_count": 28,
   "id": "39dac0eb",
   "metadata": {},
   "outputs": [],
   "source": [
    "# Renombramos la columna ['Country Name'] por ['Country'] para mayor entendimiento y practicidad.\n",
    "\n",
    "df_copy.rename(columns = {'Country Name':'Country'}, inplace = True)"
   ]
  },
  {
   "cell_type": "code",
   "execution_count": 29,
   "id": "f6cb00b7",
   "metadata": {},
   "outputs": [],
   "source": [
    "# Eliminamos la columna ['Airport Country Code'], dado que tomaremos esta misma como información redundante.\n",
    "\n",
    "df_copy = df_copy.drop(['Airport Country Code'], axis = 1)"
   ]
  },
  {
   "cell_type": "code",
   "execution_count": 30,
   "id": "a4935eaf",
   "metadata": {},
   "outputs": [],
   "source": [
    "# Eliminamos la columna ['Airport Continent'], dado que tomaremos esta misma como información redundante.\n",
    "\n",
    "df_copy = df_copy.drop(['Airport Continent'], axis = 1)"
   ]
  },
  {
   "cell_type": "markdown",
   "id": "c6ec3fa8",
   "metadata": {},
   "source": [
    "___"
   ]
  },
  {
   "cell_type": "code",
   "execution_count": 31,
   "id": "31444eb0",
   "metadata": {},
   "outputs": [
    {
     "data": {
      "text/html": [
       "<div>\n",
       "<style scoped>\n",
       "    .dataframe tbody tr th:only-of-type {\n",
       "        vertical-align: middle;\n",
       "    }\n",
       "\n",
       "    .dataframe tbody tr th {\n",
       "        vertical-align: top;\n",
       "    }\n",
       "\n",
       "    .dataframe thead th {\n",
       "        text-align: right;\n",
       "    }\n",
       "</style>\n",
       "<table border=\"1\" class=\"dataframe\">\n",
       "  <thead>\n",
       "    <tr style=\"text-align: right;\">\n",
       "      <th></th>\n",
       "      <th>Passenger ID</th>\n",
       "      <th>Gender</th>\n",
       "      <th>Age</th>\n",
       "      <th>Nationality</th>\n",
       "      <th>Airport Name</th>\n",
       "      <th>Country</th>\n",
       "      <th>Continents</th>\n",
       "      <th>Departure Date</th>\n",
       "      <th>Status Target</th>\n",
       "      <th>Arrival Airport</th>\n",
       "      <th>Cancellation Percentage per Airport</th>\n",
       "    </tr>\n",
       "  </thead>\n",
       "  <tbody>\n",
       "    <tr>\n",
       "      <th>0</th>\n",
       "      <td>1</td>\n",
       "      <td>Female</td>\n",
       "      <td>62</td>\n",
       "      <td>Japan</td>\n",
       "      <td>Coldfoot Airport</td>\n",
       "      <td>United States</td>\n",
       "      <td>North America</td>\n",
       "      <td>6/28/2022</td>\n",
       "      <td>0</td>\n",
       "      <td>Coldfoot</td>\n",
       "      <td>18.18</td>\n",
       "    </tr>\n",
       "    <tr>\n",
       "      <th>1</th>\n",
       "      <td>2</td>\n",
       "      <td>Male</td>\n",
       "      <td>62</td>\n",
       "      <td>Nicaragua</td>\n",
       "      <td>Kugluktuk Airport</td>\n",
       "      <td>Canada</td>\n",
       "      <td>North America</td>\n",
       "      <td>12/26/2022</td>\n",
       "      <td>0</td>\n",
       "      <td>Kugluktuk Airport</td>\n",
       "      <td>22.22</td>\n",
       "    </tr>\n",
       "    <tr>\n",
       "      <th>2</th>\n",
       "      <td>3</td>\n",
       "      <td>Male</td>\n",
       "      <td>67</td>\n",
       "      <td>Russia</td>\n",
       "      <td>Grenoble-Isère Airport</td>\n",
       "      <td>France</td>\n",
       "      <td>Europe</td>\n",
       "      <td>1/18/2022</td>\n",
       "      <td>0</td>\n",
       "      <td>Grenoble-Isere Airport</td>\n",
       "      <td>26.67</td>\n",
       "    </tr>\n",
       "    <tr>\n",
       "      <th>3</th>\n",
       "      <td>4</td>\n",
       "      <td>Female</td>\n",
       "      <td>71</td>\n",
       "      <td>China</td>\n",
       "      <td>Ottawa / Gatineau Airport</td>\n",
       "      <td>Canada</td>\n",
       "      <td>North America</td>\n",
       "      <td>9/16/2022</td>\n",
       "      <td>0</td>\n",
       "      <td>Gatineau Airport</td>\n",
       "      <td>42.86</td>\n",
       "    </tr>\n",
       "    <tr>\n",
       "      <th>4</th>\n",
       "      <td>5</td>\n",
       "      <td>Male</td>\n",
       "      <td>21</td>\n",
       "      <td>China</td>\n",
       "      <td>Gillespie Field</td>\n",
       "      <td>United States</td>\n",
       "      <td>North America</td>\n",
       "      <td>2/25/2022</td>\n",
       "      <td>0</td>\n",
       "      <td>Gillespie Field</td>\n",
       "      <td>45.45</td>\n",
       "    </tr>\n",
       "    <tr>\n",
       "      <th>...</th>\n",
       "      <td>...</td>\n",
       "      <td>...</td>\n",
       "      <td>...</td>\n",
       "      <td>...</td>\n",
       "      <td>...</td>\n",
       "      <td>...</td>\n",
       "      <td>...</td>\n",
       "      <td>...</td>\n",
       "      <td>...</td>\n",
       "      <td>...</td>\n",
       "      <td>...</td>\n",
       "    </tr>\n",
       "    <tr>\n",
       "      <th>98614</th>\n",
       "      <td>98615</td>\n",
       "      <td>Male</td>\n",
       "      <td>85</td>\n",
       "      <td>China</td>\n",
       "      <td>Hasvik Airport</td>\n",
       "      <td>Norway</td>\n",
       "      <td>Europe</td>\n",
       "      <td>12/11/2022</td>\n",
       "      <td>1</td>\n",
       "      <td>Hasvik Airport</td>\n",
       "      <td>22.22</td>\n",
       "    </tr>\n",
       "    <tr>\n",
       "      <th>98615</th>\n",
       "      <td>98616</td>\n",
       "      <td>Female</td>\n",
       "      <td>19</td>\n",
       "      <td>Russia</td>\n",
       "      <td>Ampampamena Airport</td>\n",
       "      <td>Madagascar</td>\n",
       "      <td>Africa</td>\n",
       "      <td>10/30/2022</td>\n",
       "      <td>1</td>\n",
       "      <td>Ambanja</td>\n",
       "      <td>21.43</td>\n",
       "    </tr>\n",
       "    <tr>\n",
       "      <th>98616</th>\n",
       "      <td>98617</td>\n",
       "      <td>Male</td>\n",
       "      <td>65</td>\n",
       "      <td>Indonesia</td>\n",
       "      <td>Albacete-Los Llanos Airport</td>\n",
       "      <td>Spain</td>\n",
       "      <td>Europe</td>\n",
       "      <td>9/10/2022</td>\n",
       "      <td>0</td>\n",
       "      <td>Los Llanos</td>\n",
       "      <td>46.15</td>\n",
       "    </tr>\n",
       "    <tr>\n",
       "      <th>98617</th>\n",
       "      <td>98618</td>\n",
       "      <td>Female</td>\n",
       "      <td>34</td>\n",
       "      <td>China</td>\n",
       "      <td>Gagnoa Airport</td>\n",
       "      <td>Côte d'Ivoire</td>\n",
       "      <td>Africa</td>\n",
       "      <td>10/26/2022</td>\n",
       "      <td>1</td>\n",
       "      <td>Gagnoa</td>\n",
       "      <td>20.00</td>\n",
       "    </tr>\n",
       "    <tr>\n",
       "      <th>98618</th>\n",
       "      <td>98619</td>\n",
       "      <td>Female</td>\n",
       "      <td>10</td>\n",
       "      <td>Poland</td>\n",
       "      <td>Yoshkar-Ola Airport</td>\n",
       "      <td>Russian Federation</td>\n",
       "      <td>Europe</td>\n",
       "      <td>4/16/2022</td>\n",
       "      <td>0</td>\n",
       "      <td>Yoshkar-Ola Airport</td>\n",
       "      <td>33.33</td>\n",
       "    </tr>\n",
       "  </tbody>\n",
       "</table>\n",
       "<p>98073 rows × 11 columns</p>\n",
       "</div>"
      ],
      "text/plain": [
       "       Passenger ID  Gender  Age Nationality                 Airport Name  \\\n",
       "0                 1  Female   62       Japan             Coldfoot Airport   \n",
       "1                 2    Male   62   Nicaragua            Kugluktuk Airport   \n",
       "2                 3    Male   67      Russia       Grenoble-Isère Airport   \n",
       "3                 4  Female   71       China    Ottawa / Gatineau Airport   \n",
       "4                 5    Male   21       China              Gillespie Field   \n",
       "...             ...     ...  ...         ...                          ...   \n",
       "98614         98615    Male   85       China               Hasvik Airport   \n",
       "98615         98616  Female   19      Russia          Ampampamena Airport   \n",
       "98616         98617    Male   65   Indonesia  Albacete-Los Llanos Airport   \n",
       "98617         98618  Female   34       China               Gagnoa Airport   \n",
       "98618         98619  Female   10      Poland          Yoshkar-Ola Airport   \n",
       "\n",
       "                  Country     Continents Departure Date  Status Target  \\\n",
       "0           United States  North America      6/28/2022              0   \n",
       "1                  Canada  North America     12/26/2022              0   \n",
       "2                  France         Europe      1/18/2022              0   \n",
       "3                  Canada  North America      9/16/2022              0   \n",
       "4           United States  North America      2/25/2022              0   \n",
       "...                   ...            ...            ...            ...   \n",
       "98614              Norway         Europe     12/11/2022              1   \n",
       "98615          Madagascar         Africa     10/30/2022              1   \n",
       "98616               Spain         Europe      9/10/2022              0   \n",
       "98617       Côte d'Ivoire         Africa     10/26/2022              1   \n",
       "98618  Russian Federation         Europe      4/16/2022              0   \n",
       "\n",
       "              Arrival Airport  Cancellation Percentage per Airport  \n",
       "0                    Coldfoot                                18.18  \n",
       "1           Kugluktuk Airport                                22.22  \n",
       "2      Grenoble-Isere Airport                                26.67  \n",
       "3            Gatineau Airport                                42.86  \n",
       "4             Gillespie Field                                45.45  \n",
       "...                       ...                                  ...  \n",
       "98614          Hasvik Airport                                22.22  \n",
       "98615                 Ambanja                                21.43  \n",
       "98616              Los Llanos                                46.15  \n",
       "98617                  Gagnoa                                20.00  \n",
       "98618     Yoshkar-Ola Airport                                33.33  \n",
       "\n",
       "[98073 rows x 11 columns]"
      ]
     },
     "execution_count": 31,
     "metadata": {},
     "output_type": "execute_result"
    }
   ],
   "source": [
    "df_copy"
   ]
  },
  {
   "cell_type": "markdown",
   "id": "85082cf9",
   "metadata": {},
   "source": [
    "___"
   ]
  },
  {
   "cell_type": "markdown",
   "id": "e5a60693",
   "metadata": {},
   "source": [
    "<h3 align=\"center\">Segmento variable ['Continents']</h3>\n"
   ]
  },
  {
   "cell_type": "markdown",
   "id": "e8dc2d2b",
   "metadata": {},
   "source": [
    "___"
   ]
  },
  {
   "cell_type": "code",
   "execution_count": 32,
   "id": "6059943d",
   "metadata": {},
   "outputs": [
    {
     "data": {
      "text/plain": [
       "Continents\n",
       "North America    31878\n",
       "Asia             18561\n",
       "Oceania          13774\n",
       "Europe           12260\n",
       "Africa           10925\n",
       "South America    10675\n",
       "Name: count, dtype: int64"
      ]
     },
     "execution_count": 32,
     "metadata": {},
     "output_type": "execute_result"
    }
   ],
   "source": [
    "# Obersevamos los valores de ['Continents'].\n",
    "\n",
    "df_copy['Continents'].value_counts()"
   ]
  },
  {
   "cell_type": "code",
   "execution_count": 33,
   "id": "bb73c98b",
   "metadata": {},
   "outputs": [
    {
     "data": {
      "text/plain": [
       "Continents\n",
       "North America    10642\n",
       "Asia              6214\n",
       "Oceania           4590\n",
       "Europe            4073\n",
       "Africa            3628\n",
       "South America     3623\n",
       "Name: count, dtype: int64"
      ]
     },
     "execution_count": 33,
     "metadata": {},
     "output_type": "execute_result"
    }
   ],
   "source": [
    "# Creamos la variable ['cancelled_continents_counts'] para comprobar si aproximadamente la relación 1/3 que se presenta en líneas generales en los valores totales de cancelled con respecto a filled. Confirmamos que es correcto.\n",
    "\n",
    "cancelled_continents_counts = df_copy[df_copy['Status Target'] == 1]['Continents'].value_counts()\n",
    "cancelled_continents_counts"
   ]
  },
  {
   "cell_type": "code",
   "execution_count": 34,
   "id": "f794828e",
   "metadata": {},
   "outputs": [
    {
     "data": {
      "image/png": "[encoded data removed]",
      "text/plain": [
       "<Figure size 1000x600 with 1 Axes>"
      ]
     },
     "metadata": {},
     "output_type": "display_data"
    }
   ],
   "source": [
    "# Visualizamos la cantidad de vuelos por continente para empezar a entender el comportamiento de esta variable.\n",
    "\n",
    "colors = {'North America': 'red', 'Asia': 'yellow', 'Oceania': 'darkcyan', 'Europe': 'green', 'Africa': 'black', 'South America': 'orange'}\n",
    "\n",
    "continents_counts = df_copy['Continents'].value_counts()\n",
    "\n",
    "plt.figure(figsize=(10, 6))\n",
    "sns.barplot(x=continents_counts.index, y=continents_counts, palette=colors)\n",
    "plt.xlabel('Continent')\n",
    "plt.ylabel('Count')\n",
    "plt.title('Number of Flights per Continent')\n",
    "plt.show()"
   ]
  },
  {
   "cell_type": "code",
   "execution_count": 35,
   "id": "a72e878b",
   "metadata": {},
   "outputs": [
    {
     "data": {
      "text/plain": [
       "Continents\n",
       "North America    2678\n",
       "Asia             1677\n",
       "Oceania          1263\n",
       "Europe           1053\n",
       "Africa            982\n",
       "South America     846\n",
       "Name: Arrival Airport, dtype: int64"
      ]
     },
     "execution_count": 35,
     "metadata": {},
     "output_type": "execute_result"
    }
   ],
   "source": [
    "# Creamos variable ['airports_per_continent'] para confirmar que efectivamente existe una relación directa en la cantidad de vuelos que realiza un continente, con respecto a la cantidad de aeropuertos que contiene cada uno.\n",
    "\n",
    "airports_per_continent = df_copy.groupby('Continents')['Arrival Airport'].nunique().sort_values(ascending=False)\n",
    "airports_per_continent"
   ]
  },
  {
   "cell_type": "markdown",
   "id": "3e480ddb",
   "metadata": {},
   "source": [
    "Hasta este punto, inicialmente evalué la cantidad total de vuelos por continente. Posteriormente, examiné si la cantidad de aeropuertos se correlaciona positivamente con la cantidad de vuelos, confirmando esta relación. Finalmente, verifiqué que la proporción de cancelaciones con respecto a los vuelos completados, que se mantiene en aproximadamente 1/3, sigue siendo consistente sin anomalías detectadas. Todos los resultados obtenidos hasta el momento son coherentes con las expectativas establecidas."
   ]
  },
  {
   "cell_type": "code",
   "execution_count": 36,
   "id": "99412709",
   "metadata": {},
   "outputs": [
    {
     "data": {
      "image/png": "[encoded data removed]",
      "text/plain": [
       "<Figure size 1200x800 with 1 Axes>"
      ]
     },
     "metadata": {},
     "output_type": "display_data"
    }
   ],
   "source": [
    "# Grafiquemos ahora la relación ['Gender'] y ['Continents'], en buscas de anomalías.\n",
    "\n",
    "\n",
    "plt.figure(figsize=(12, 8))\n",
    "sns.countplot(x='Continents', hue='Gender', data=df_copy, hue_order=['Male', 'Female'], palette={'Male': 'blue', 'Female': 'pink'}, dodge=True)\n",
    "plt.xlabel('Continente')\n",
    "plt.ylabel('Cantidad')\n",
    "plt.title('Distribución de Gender por Continente')\n",
    "plt.legend(title='Gender')\n",
    "plt.show()"
   ]
  },
  {
   "cell_type": "code",
   "execution_count": 37,
   "id": "e73d6503",
   "metadata": {},
   "outputs": [
    {
     "data": {
      "image/png": "[encoded data removed]",
      "text/plain": [
       "<Figure size 1200x800 with 1 Axes>"
      ]
     },
     "metadata": {},
     "output_type": "display_data"
    }
   ],
   "source": [
    "# Ahora observemos si sigue manteniendo la misma relación en los casos donde ['Status Flight'] es 1.\n",
    "\n",
    "\n",
    "df_status_1 = df_copy[df_copy['Status Target'] == 1]\n",
    "\n",
    "plt.figure(figsize=(12, 8))\n",
    "sns.countplot(x='Continents', hue='Gender', data=df_status_1, hue_order=['Male', 'Female'], palette={'Male': 'blue', 'Female': 'pink'}, dodge=True)\n",
    "plt.xlabel('Continente')\n",
    "plt.ylabel('Cantidad')\n",
    "plt.title('Distribución de Gender por Continente con Status Target = 1')\n",
    "plt.legend(title='Gender')\n",
    "plt.show()"
   ]
  },
  {
   "cell_type": "markdown",
   "id": "042a9828",
   "metadata": {},
   "source": [
    "- No observamos algún tipo de comportamiento significativo para el modelo predictivo entre dichas variables. Si bien North America presenta una diferencia, no considero que sea una tendencia óptima para considerar."
   ]
  },
  {
   "cell_type": "markdown",
   "id": "1c35fe59",
   "metadata": {},
   "source": [
    "___"
   ]
  },
  {
   "cell_type": "code",
   "execution_count": 38,
   "id": "5d065e8e",
   "metadata": {},
   "outputs": [
    {
     "data": {
      "text/html": [
       "<div>\n",
       "<style scoped>\n",
       "    .dataframe tbody tr th:only-of-type {\n",
       "        vertical-align: middle;\n",
       "    }\n",
       "\n",
       "    .dataframe tbody tr th {\n",
       "        vertical-align: top;\n",
       "    }\n",
       "\n",
       "    .dataframe thead th {\n",
       "        text-align: right;\n",
       "    }\n",
       "</style>\n",
       "<table border=\"1\" class=\"dataframe\">\n",
       "  <thead>\n",
       "    <tr style=\"text-align: right;\">\n",
       "      <th></th>\n",
       "      <th>Passenger ID</th>\n",
       "      <th>Gender</th>\n",
       "      <th>Age</th>\n",
       "      <th>Nationality</th>\n",
       "      <th>Airport Name</th>\n",
       "      <th>Country</th>\n",
       "      <th>Continents</th>\n",
       "      <th>Departure Date</th>\n",
       "      <th>Status Target</th>\n",
       "      <th>Arrival Airport</th>\n",
       "      <th>Cancellation Percentage per Airport</th>\n",
       "    </tr>\n",
       "  </thead>\n",
       "  <tbody>\n",
       "    <tr>\n",
       "      <th>0</th>\n",
       "      <td>1</td>\n",
       "      <td>Female</td>\n",
       "      <td>62</td>\n",
       "      <td>Japan</td>\n",
       "      <td>Coldfoot Airport</td>\n",
       "      <td>United States</td>\n",
       "      <td>North America</td>\n",
       "      <td>6/28/2022</td>\n",
       "      <td>0</td>\n",
       "      <td>Coldfoot</td>\n",
       "      <td>18.18</td>\n",
       "    </tr>\n",
       "    <tr>\n",
       "      <th>1</th>\n",
       "      <td>2</td>\n",
       "      <td>Male</td>\n",
       "      <td>62</td>\n",
       "      <td>Nicaragua</td>\n",
       "      <td>Kugluktuk Airport</td>\n",
       "      <td>Canada</td>\n",
       "      <td>North America</td>\n",
       "      <td>12/26/2022</td>\n",
       "      <td>0</td>\n",
       "      <td>Kugluktuk Airport</td>\n",
       "      <td>22.22</td>\n",
       "    </tr>\n",
       "    <tr>\n",
       "      <th>2</th>\n",
       "      <td>3</td>\n",
       "      <td>Male</td>\n",
       "      <td>67</td>\n",
       "      <td>Russia</td>\n",
       "      <td>Grenoble-Isère Airport</td>\n",
       "      <td>France</td>\n",
       "      <td>Europe</td>\n",
       "      <td>1/18/2022</td>\n",
       "      <td>0</td>\n",
       "      <td>Grenoble-Isere Airport</td>\n",
       "      <td>26.67</td>\n",
       "    </tr>\n",
       "    <tr>\n",
       "      <th>3</th>\n",
       "      <td>4</td>\n",
       "      <td>Female</td>\n",
       "      <td>71</td>\n",
       "      <td>China</td>\n",
       "      <td>Ottawa / Gatineau Airport</td>\n",
       "      <td>Canada</td>\n",
       "      <td>North America</td>\n",
       "      <td>9/16/2022</td>\n",
       "      <td>0</td>\n",
       "      <td>Gatineau Airport</td>\n",
       "      <td>42.86</td>\n",
       "    </tr>\n",
       "    <tr>\n",
       "      <th>4</th>\n",
       "      <td>5</td>\n",
       "      <td>Male</td>\n",
       "      <td>21</td>\n",
       "      <td>China</td>\n",
       "      <td>Gillespie Field</td>\n",
       "      <td>United States</td>\n",
       "      <td>North America</td>\n",
       "      <td>2/25/2022</td>\n",
       "      <td>0</td>\n",
       "      <td>Gillespie Field</td>\n",
       "      <td>45.45</td>\n",
       "    </tr>\n",
       "    <tr>\n",
       "      <th>...</th>\n",
       "      <td>...</td>\n",
       "      <td>...</td>\n",
       "      <td>...</td>\n",
       "      <td>...</td>\n",
       "      <td>...</td>\n",
       "      <td>...</td>\n",
       "      <td>...</td>\n",
       "      <td>...</td>\n",
       "      <td>...</td>\n",
       "      <td>...</td>\n",
       "      <td>...</td>\n",
       "    </tr>\n",
       "    <tr>\n",
       "      <th>98614</th>\n",
       "      <td>98615</td>\n",
       "      <td>Male</td>\n",
       "      <td>85</td>\n",
       "      <td>China</td>\n",
       "      <td>Hasvik Airport</td>\n",
       "      <td>Norway</td>\n",
       "      <td>Europe</td>\n",
       "      <td>12/11/2022</td>\n",
       "      <td>1</td>\n",
       "      <td>Hasvik Airport</td>\n",
       "      <td>22.22</td>\n",
       "    </tr>\n",
       "    <tr>\n",
       "      <th>98615</th>\n",
       "      <td>98616</td>\n",
       "      <td>Female</td>\n",
       "      <td>19</td>\n",
       "      <td>Russia</td>\n",
       "      <td>Ampampamena Airport</td>\n",
       "      <td>Madagascar</td>\n",
       "      <td>Africa</td>\n",
       "      <td>10/30/2022</td>\n",
       "      <td>1</td>\n",
       "      <td>Ambanja</td>\n",
       "      <td>21.43</td>\n",
       "    </tr>\n",
       "    <tr>\n",
       "      <th>98616</th>\n",
       "      <td>98617</td>\n",
       "      <td>Male</td>\n",
       "      <td>65</td>\n",
       "      <td>Indonesia</td>\n",
       "      <td>Albacete-Los Llanos Airport</td>\n",
       "      <td>Spain</td>\n",
       "      <td>Europe</td>\n",
       "      <td>9/10/2022</td>\n",
       "      <td>0</td>\n",
       "      <td>Los Llanos</td>\n",
       "      <td>46.15</td>\n",
       "    </tr>\n",
       "    <tr>\n",
       "      <th>98617</th>\n",
       "      <td>98618</td>\n",
       "      <td>Female</td>\n",
       "      <td>34</td>\n",
       "      <td>China</td>\n",
       "      <td>Gagnoa Airport</td>\n",
       "      <td>Côte d'Ivoire</td>\n",
       "      <td>Africa</td>\n",
       "      <td>10/26/2022</td>\n",
       "      <td>1</td>\n",
       "      <td>Gagnoa</td>\n",
       "      <td>20.00</td>\n",
       "    </tr>\n",
       "    <tr>\n",
       "      <th>98618</th>\n",
       "      <td>98619</td>\n",
       "      <td>Female</td>\n",
       "      <td>10</td>\n",
       "      <td>Poland</td>\n",
       "      <td>Yoshkar-Ola Airport</td>\n",
       "      <td>Russian Federation</td>\n",
       "      <td>Europe</td>\n",
       "      <td>4/16/2022</td>\n",
       "      <td>0</td>\n",
       "      <td>Yoshkar-Ola Airport</td>\n",
       "      <td>33.33</td>\n",
       "    </tr>\n",
       "  </tbody>\n",
       "</table>\n",
       "<p>98073 rows × 11 columns</p>\n",
       "</div>"
      ],
      "text/plain": [
       "       Passenger ID  Gender  Age Nationality                 Airport Name  \\\n",
       "0                 1  Female   62       Japan             Coldfoot Airport   \n",
       "1                 2    Male   62   Nicaragua            Kugluktuk Airport   \n",
       "2                 3    Male   67      Russia       Grenoble-Isère Airport   \n",
       "3                 4  Female   71       China    Ottawa / Gatineau Airport   \n",
       "4                 5    Male   21       China              Gillespie Field   \n",
       "...             ...     ...  ...         ...                          ...   \n",
       "98614         98615    Male   85       China               Hasvik Airport   \n",
       "98615         98616  Female   19      Russia          Ampampamena Airport   \n",
       "98616         98617    Male   65   Indonesia  Albacete-Los Llanos Airport   \n",
       "98617         98618  Female   34       China               Gagnoa Airport   \n",
       "98618         98619  Female   10      Poland          Yoshkar-Ola Airport   \n",
       "\n",
       "                  Country     Continents Departure Date  Status Target  \\\n",
       "0           United States  North America      6/28/2022              0   \n",
       "1                  Canada  North America     12/26/2022              0   \n",
       "2                  France         Europe      1/18/2022              0   \n",
       "3                  Canada  North America      9/16/2022              0   \n",
       "4           United States  North America      2/25/2022              0   \n",
       "...                   ...            ...            ...            ...   \n",
       "98614              Norway         Europe     12/11/2022              1   \n",
       "98615          Madagascar         Africa     10/30/2022              1   \n",
       "98616               Spain         Europe      9/10/2022              0   \n",
       "98617       Côte d'Ivoire         Africa     10/26/2022              1   \n",
       "98618  Russian Federation         Europe      4/16/2022              0   \n",
       "\n",
       "              Arrival Airport  Cancellation Percentage per Airport  \n",
       "0                    Coldfoot                                18.18  \n",
       "1           Kugluktuk Airport                                22.22  \n",
       "2      Grenoble-Isere Airport                                26.67  \n",
       "3            Gatineau Airport                                42.86  \n",
       "4             Gillespie Field                                45.45  \n",
       "...                       ...                                  ...  \n",
       "98614          Hasvik Airport                                22.22  \n",
       "98615                 Ambanja                                21.43  \n",
       "98616              Los Llanos                                46.15  \n",
       "98617                  Gagnoa                                20.00  \n",
       "98618     Yoshkar-Ola Airport                                33.33  \n",
       "\n",
       "[98073 rows x 11 columns]"
      ]
     },
     "execution_count": 38,
     "metadata": {},
     "output_type": "execute_result"
    }
   ],
   "source": [
    "df_copy"
   ]
  },
  {
   "cell_type": "markdown",
   "id": "9867a6f2",
   "metadata": {},
   "source": [
    "___"
   ]
  },
  {
   "cell_type": "markdown",
   "id": "b807bbb9",
   "metadata": {},
   "source": [
    "<h3 align=\"center\">Segmento variable ['Gender']</h3>\n"
   ]
  },
  {
   "cell_type": "markdown",
   "id": "51dcc7d6",
   "metadata": {},
   "source": [
    "___"
   ]
  },
  {
   "cell_type": "code",
   "execution_count": 39,
   "id": "9bd7b161",
   "metadata": {},
   "outputs": [
    {
     "data": {
      "image/png": "[encoded data removed]",
      "text/plain": [
       "<Figure size 800x600 with 1 Axes>"
      ]
     },
     "metadata": {},
     "output_type": "display_data"
    }
   ],
   "source": [
    "# Visualizamos el patrón que presenta la distribución de los casos presentes en df_copy. \n",
    "\n",
    "colores_genero = {'Female': 'pink', 'Male': 'blue'}\n",
    "\n",
    "plt.figure(figsize=(8, 6))\n",
    "sns.countplot(x='Gender', data=df_copy, palette=colores_genero)\n",
    "plt.xlabel('Género')\n",
    "plt.ylabel('Cantidad')\n",
    "plt.title('Distribución de Género')\n",
    "plt.show()"
   ]
  },
  {
   "cell_type": "markdown",
   "id": "b447b080",
   "metadata": {},
   "source": [
    "- Observamos una dristribución bastante simétrica entre una y otra, no vemos patrones significativos."
   ]
  },
  {
   "cell_type": "code",
   "execution_count": 40,
   "id": "668c8565",
   "metadata": {},
   "outputs": [
    {
     "data": {
      "image/png": "[encoded data removed]",
      "text/plain": [
       "<Figure size 1000x600 with 1 Axes>"
      ]
     },
     "metadata": {},
     "output_type": "display_data"
    }
   ],
   "source": [
    "# Buscamos realizar un análisis bivariado entre ['Gender'] y nuestro Target. \n",
    "\n",
    "plt.figure(figsize=(10, 6))\n",
    "sns.countplot(x='Gender', hue='Status Target', data=df_copy, palette={0: 'green', 1: 'red'})\n",
    "\n",
    "plt.xlabel('Género')\n",
    "plt.ylabel('Cantidad')\n",
    "plt.title('Distribución de Género según Status Target')\n",
    "plt.legend(title='Status Target', loc='upper right', labels=['Filled', 'Cancelled'])\n",
    "plt.show()\n"
   ]
  },
  {
   "cell_type": "markdown",
   "id": "e365a9fd",
   "metadata": {},
   "source": [
    "- Podemos establecer que de manera directa la variable ['Gender'] por si sola, no presenta patrones significativos para nuestro algoritmo. Quizás desglozada con otras variables adquiera mas sentido."
   ]
  },
  {
   "cell_type": "code",
   "execution_count": 41,
   "id": "72e6df66",
   "metadata": {},
   "outputs": [
    {
     "data": {
      "image/png": "[encoded data removed]",
      "text/plain": [
       "<Figure size 1200x800 with 1 Axes>"
      ]
     },
     "metadata": {},
     "output_type": "display_data"
    }
   ],
   "source": [
    "# Graficamos el comportamiento de ['Gender'] con respecto a ['Airport Name'] para entender el comportamiento de estas varibables entre sí.\n",
    "\n",
    "top_airports = df_copy['Airport Name'].value_counts().head(10).index\n",
    "\n",
    "df_top_airports = df_copy[df_copy['Airport Name'].isin(top_airports)]\n",
    "\n",
    "plt.figure(figsize=(12, 8))\n",
    "sns.countplot(x='Airport Name', hue='Gender', data=df_top_airports, palette={'Male': 'blue', 'Female': 'pink'})\n",
    "plt.xlabel('Aeropuerto')\n",
    "plt.ylabel('Cantidad')\n",
    "plt.title('Distribución de Gender por Top 10 de Airport Name')\n",
    "plt.legend(title='Gender', loc='upper right')\n",
    "plt.xticks(rotation=45, ha='right')\n",
    "plt.show()"
   ]
  },
  {
   "cell_type": "code",
   "execution_count": 42,
   "id": "4b456b1f",
   "metadata": {},
   "outputs": [
    {
     "data": {
      "image/png": "[encoded data removed]",
      "text/plain": [
       "<Figure size 1200x800 with 1 Axes>"
      ]
     },
     "metadata": {},
     "output_type": "display_data"
    }
   ],
   "source": [
    "# Ahora procedemos a obervar si existe patrón entre ambas cuando ['Status Target'] es 1.\n",
    "\n",
    "\n",
    "df_status_1 = df_copy[df_copy['Status Target'] == 1]\n",
    "\n",
    "top_airports_status_1 = df_status_1['Airport Name'].value_counts().head(10).index\n",
    "\n",
    "df_top_airports_status_1 = df_copy[(df_copy['Airport Name'].isin(top_airports_status_1)) & (df_copy['Status Target'] == 1)]\n",
    "\n",
    "plt.figure(figsize=(12, 8))\n",
    "sns.countplot(x='Airport Name', hue='Gender', data=df_top_airports_status_1, palette={'Male': 'blue', 'Female': 'pink'})\n",
    "plt.xlabel('Aeropuerto')\n",
    "plt.ylabel('Cantidad')\n",
    "plt.title('Distribución de Gender por Top 10 de Airport Name (Status Target = 1)')\n",
    "plt.legend(title='Gender', loc='upper right')\n",
    "plt.xticks(rotation=45, ha='right')\n",
    "plt.show()"
   ]
  },
  {
   "cell_type": "markdown",
   "id": "7651ab38",
   "metadata": {},
   "source": [
    "- Observamos que existe mayor variación que en otros casos cuando ['Status Traget'] es 1. Podría ser un factor a incluir en el modelo predictivo ya que, hay Airports en donde el mayor número de cancelaciones es female, y otros donde es male, por ende se puede decir que dependiendo el ['Arrival Airport'] existe un % de probabilidad de cancelled dependiendo el género."
   ]
  },
  {
   "cell_type": "code",
   "execution_count": 43,
   "id": "bbd9792c",
   "metadata": {},
   "outputs": [],
   "source": [
    "# Crearemos dos columnas en nuestro df_copy, las cuales senrán ['Cancellation Percentage Female'] y ['Cancellation Percentage Male']\n",
    "# Para ello calculamos el total de vuelos y el total de vuelos cancelados para cada aeropuerto.\n",
    "# Dividimos el total de vuelos cancelados por género entre el total de vuelos para obtener el porcentaje. \n",
    "\n",
    "\n",
    "total_flights = df_copy.groupby(['Airport Name', 'Gender']).size().unstack(fill_value=0)\n",
    "total_cancelled_flights = df_copy[df_copy['Status Target'] == 1].groupby(['Airport Name', 'Gender']).size().unstack(fill_value=0)\n",
    "\n",
    "cancellation_percentage_by_gender = (total_cancelled_flights / total_flights) * 100\n",
    "cancellation_percentage_by_gender = cancellation_percentage_by_gender.reset_index()\n",
    "\n",
    "df_copy = pd.merge(df_copy, cancellation_percentage_by_gender, on=['Airport Name'], how='left')\n",
    "\n",
    "df_copy = df_copy.rename(columns={'Female': 'Cancellation Percentage Female', 'Male': 'Cancellation Percentage Male'})"
   ]
  },
  {
   "cell_type": "code",
   "execution_count": 44,
   "id": "02269864",
   "metadata": {},
   "outputs": [
    {
     "data": {
      "text/html": [
       "<div>\n",
       "<style scoped>\n",
       "    .dataframe tbody tr th:only-of-type {\n",
       "        vertical-align: middle;\n",
       "    }\n",
       "\n",
       "    .dataframe tbody tr th {\n",
       "        vertical-align: top;\n",
       "    }\n",
       "\n",
       "    .dataframe thead th {\n",
       "        text-align: right;\n",
       "    }\n",
       "</style>\n",
       "<table border=\"1\" class=\"dataframe\">\n",
       "  <thead>\n",
       "    <tr style=\"text-align: right;\">\n",
       "      <th></th>\n",
       "      <th>Passenger ID</th>\n",
       "      <th>Gender</th>\n",
       "      <th>Age</th>\n",
       "      <th>Nationality</th>\n",
       "      <th>Airport Name</th>\n",
       "      <th>Country</th>\n",
       "      <th>Continents</th>\n",
       "      <th>Departure Date</th>\n",
       "      <th>Status Target</th>\n",
       "      <th>Arrival Airport</th>\n",
       "      <th>Cancellation Percentage per Airport</th>\n",
       "      <th>Cancellation Percentage Female</th>\n",
       "      <th>Cancellation Percentage Male</th>\n",
       "    </tr>\n",
       "  </thead>\n",
       "  <tbody>\n",
       "    <tr>\n",
       "      <th>0</th>\n",
       "      <td>1</td>\n",
       "      <td>Female</td>\n",
       "      <td>62</td>\n",
       "      <td>Japan</td>\n",
       "      <td>Coldfoot Airport</td>\n",
       "      <td>United States</td>\n",
       "      <td>North America</td>\n",
       "      <td>6/28/2022</td>\n",
       "      <td>0</td>\n",
       "      <td>Coldfoot</td>\n",
       "      <td>18.18</td>\n",
       "      <td>16.666667</td>\n",
       "      <td>20.000000</td>\n",
       "    </tr>\n",
       "    <tr>\n",
       "      <th>1</th>\n",
       "      <td>2</td>\n",
       "      <td>Male</td>\n",
       "      <td>62</td>\n",
       "      <td>Nicaragua</td>\n",
       "      <td>Kugluktuk Airport</td>\n",
       "      <td>Canada</td>\n",
       "      <td>North America</td>\n",
       "      <td>12/26/2022</td>\n",
       "      <td>0</td>\n",
       "      <td>Kugluktuk Airport</td>\n",
       "      <td>22.22</td>\n",
       "      <td>0.000000</td>\n",
       "      <td>33.333333</td>\n",
       "    </tr>\n",
       "    <tr>\n",
       "      <th>2</th>\n",
       "      <td>3</td>\n",
       "      <td>Male</td>\n",
       "      <td>67</td>\n",
       "      <td>Russia</td>\n",
       "      <td>Grenoble-Isère Airport</td>\n",
       "      <td>France</td>\n",
       "      <td>Europe</td>\n",
       "      <td>1/18/2022</td>\n",
       "      <td>0</td>\n",
       "      <td>Grenoble-Isere Airport</td>\n",
       "      <td>26.67</td>\n",
       "      <td>20.000000</td>\n",
       "      <td>30.000000</td>\n",
       "    </tr>\n",
       "    <tr>\n",
       "      <th>3</th>\n",
       "      <td>4</td>\n",
       "      <td>Female</td>\n",
       "      <td>71</td>\n",
       "      <td>China</td>\n",
       "      <td>Ottawa / Gatineau Airport</td>\n",
       "      <td>Canada</td>\n",
       "      <td>North America</td>\n",
       "      <td>9/16/2022</td>\n",
       "      <td>0</td>\n",
       "      <td>Gatineau Airport</td>\n",
       "      <td>42.86</td>\n",
       "      <td>75.000000</td>\n",
       "      <td>0.000000</td>\n",
       "    </tr>\n",
       "    <tr>\n",
       "      <th>4</th>\n",
       "      <td>5</td>\n",
       "      <td>Male</td>\n",
       "      <td>21</td>\n",
       "      <td>China</td>\n",
       "      <td>Gillespie Field</td>\n",
       "      <td>United States</td>\n",
       "      <td>North America</td>\n",
       "      <td>2/25/2022</td>\n",
       "      <td>0</td>\n",
       "      <td>Gillespie Field</td>\n",
       "      <td>45.45</td>\n",
       "      <td>100.000000</td>\n",
       "      <td>25.000000</td>\n",
       "    </tr>\n",
       "  </tbody>\n",
       "</table>\n",
       "</div>"
      ],
      "text/plain": [
       "   Passenger ID  Gender  Age Nationality               Airport Name  \\\n",
       "0             1  Female   62       Japan           Coldfoot Airport   \n",
       "1             2    Male   62   Nicaragua          Kugluktuk Airport   \n",
       "2             3    Male   67      Russia     Grenoble-Isère Airport   \n",
       "3             4  Female   71       China  Ottawa / Gatineau Airport   \n",
       "4             5    Male   21       China            Gillespie Field   \n",
       "\n",
       "         Country     Continents Departure Date  Status Target  \\\n",
       "0  United States  North America      6/28/2022              0   \n",
       "1         Canada  North America     12/26/2022              0   \n",
       "2         France         Europe      1/18/2022              0   \n",
       "3         Canada  North America      9/16/2022              0   \n",
       "4  United States  North America      2/25/2022              0   \n",
       "\n",
       "          Arrival Airport  Cancellation Percentage per Airport  \\\n",
       "0                Coldfoot                                18.18   \n",
       "1       Kugluktuk Airport                                22.22   \n",
       "2  Grenoble-Isere Airport                                26.67   \n",
       "3        Gatineau Airport                                42.86   \n",
       "4         Gillespie Field                                45.45   \n",
       "\n",
       "   Cancellation Percentage Female  Cancellation Percentage Male  \n",
       "0                       16.666667                     20.000000  \n",
       "1                        0.000000                     33.333333  \n",
       "2                       20.000000                     30.000000  \n",
       "3                       75.000000                      0.000000  \n",
       "4                      100.000000                     25.000000  "
      ]
     },
     "execution_count": 44,
     "metadata": {},
     "output_type": "execute_result"
    }
   ],
   "source": [
    "df_copy.head()"
   ]
  },
  {
   "cell_type": "markdown",
   "id": "d7075f0c",
   "metadata": {},
   "source": [
    "Aquí hacemos una breve intervención para acotar de que al parecer hay aeropuertos donde el ['Cancellation Percentage Female'] y ['Cancellation Percentage Male'] resulta en 0. Buscaremos indagar un poco más sobre esto, dado que podría hacer alusión a algún tipo de patrón."
   ]
  },
  {
   "cell_type": "code",
   "execution_count": 45,
   "id": "0e5da9c2",
   "metadata": {},
   "outputs": [
    {
     "data": {
      "text/plain": [
       "(1174, 1151)"
      ]
     },
     "execution_count": 45,
     "metadata": {},
     "output_type": "execute_result"
    }
   ],
   "source": [
    "# Bien acá vamos a ver la cantidad de aeropuertos en donde estás dos nuevas variables son 0 %, como vistazo general.\n",
    "\n",
    "count_female_zero = df_copy[df_copy['Cancellation Percentage Female'] == 0]['Airport Name'].nunique()\n",
    "\n",
    "count_male_zero = df_copy[df_copy['Cancellation Percentage Male'] == 0]['Airport Name'].nunique()\n",
    "\n",
    "count_female_zero, count_male_zero"
   ]
  },
  {
   "cell_type": "markdown",
   "id": "47f2b80d",
   "metadata": {},
   "source": [
    "___"
   ]
  },
  {
   "cell_type": "code",
   "execution_count": 46,
   "id": "8628bcc3",
   "metadata": {},
   "outputs": [
    {
     "data": {
      "text/html": [
       "<div>\n",
       "<style scoped>\n",
       "    .dataframe tbody tr th:only-of-type {\n",
       "        vertical-align: middle;\n",
       "    }\n",
       "\n",
       "    .dataframe tbody tr th {\n",
       "        vertical-align: top;\n",
       "    }\n",
       "\n",
       "    .dataframe thead th {\n",
       "        text-align: right;\n",
       "    }\n",
       "</style>\n",
       "<table border=\"1\" class=\"dataframe\">\n",
       "  <thead>\n",
       "    <tr style=\"text-align: right;\">\n",
       "      <th></th>\n",
       "      <th>Passenger ID</th>\n",
       "      <th>Gender</th>\n",
       "      <th>Age</th>\n",
       "      <th>Nationality</th>\n",
       "      <th>Airport Name</th>\n",
       "      <th>Country</th>\n",
       "      <th>Continents</th>\n",
       "      <th>Departure Date</th>\n",
       "      <th>Status Target</th>\n",
       "      <th>Arrival Airport</th>\n",
       "      <th>Cancellation Percentage per Airport</th>\n",
       "      <th>Cancellation Percentage Female</th>\n",
       "      <th>Cancellation Percentage Male</th>\n",
       "    </tr>\n",
       "  </thead>\n",
       "  <tbody>\n",
       "    <tr>\n",
       "      <th>0</th>\n",
       "      <td>1</td>\n",
       "      <td>Female</td>\n",
       "      <td>62</td>\n",
       "      <td>Japan</td>\n",
       "      <td>Coldfoot Airport</td>\n",
       "      <td>United States</td>\n",
       "      <td>North America</td>\n",
       "      <td>6/28/2022</td>\n",
       "      <td>0</td>\n",
       "      <td>Coldfoot</td>\n",
       "      <td>18.18</td>\n",
       "      <td>16.666667</td>\n",
       "      <td>20.000000</td>\n",
       "    </tr>\n",
       "    <tr>\n",
       "      <th>1</th>\n",
       "      <td>2</td>\n",
       "      <td>Male</td>\n",
       "      <td>62</td>\n",
       "      <td>Nicaragua</td>\n",
       "      <td>Kugluktuk Airport</td>\n",
       "      <td>Canada</td>\n",
       "      <td>North America</td>\n",
       "      <td>12/26/2022</td>\n",
       "      <td>0</td>\n",
       "      <td>Kugluktuk Airport</td>\n",
       "      <td>22.22</td>\n",
       "      <td>0.000000</td>\n",
       "      <td>33.333333</td>\n",
       "    </tr>\n",
       "    <tr>\n",
       "      <th>2</th>\n",
       "      <td>3</td>\n",
       "      <td>Male</td>\n",
       "      <td>67</td>\n",
       "      <td>Russia</td>\n",
       "      <td>Grenoble-Isère Airport</td>\n",
       "      <td>France</td>\n",
       "      <td>Europe</td>\n",
       "      <td>1/18/2022</td>\n",
       "      <td>0</td>\n",
       "      <td>Grenoble-Isere Airport</td>\n",
       "      <td>26.67</td>\n",
       "      <td>20.000000</td>\n",
       "      <td>30.000000</td>\n",
       "    </tr>\n",
       "    <tr>\n",
       "      <th>3</th>\n",
       "      <td>4</td>\n",
       "      <td>Female</td>\n",
       "      <td>71</td>\n",
       "      <td>China</td>\n",
       "      <td>Ottawa / Gatineau Airport</td>\n",
       "      <td>Canada</td>\n",
       "      <td>North America</td>\n",
       "      <td>9/16/2022</td>\n",
       "      <td>0</td>\n",
       "      <td>Gatineau Airport</td>\n",
       "      <td>42.86</td>\n",
       "      <td>75.000000</td>\n",
       "      <td>0.000000</td>\n",
       "    </tr>\n",
       "    <tr>\n",
       "      <th>4</th>\n",
       "      <td>5</td>\n",
       "      <td>Male</td>\n",
       "      <td>21</td>\n",
       "      <td>China</td>\n",
       "      <td>Gillespie Field</td>\n",
       "      <td>United States</td>\n",
       "      <td>North America</td>\n",
       "      <td>2/25/2022</td>\n",
       "      <td>0</td>\n",
       "      <td>Gillespie Field</td>\n",
       "      <td>45.45</td>\n",
       "      <td>100.000000</td>\n",
       "      <td>25.000000</td>\n",
       "    </tr>\n",
       "    <tr>\n",
       "      <th>...</th>\n",
       "      <td>...</td>\n",
       "      <td>...</td>\n",
       "      <td>...</td>\n",
       "      <td>...</td>\n",
       "      <td>...</td>\n",
       "      <td>...</td>\n",
       "      <td>...</td>\n",
       "      <td>...</td>\n",
       "      <td>...</td>\n",
       "      <td>...</td>\n",
       "      <td>...</td>\n",
       "      <td>...</td>\n",
       "      <td>...</td>\n",
       "    </tr>\n",
       "    <tr>\n",
       "      <th>98068</th>\n",
       "      <td>98615</td>\n",
       "      <td>Male</td>\n",
       "      <td>85</td>\n",
       "      <td>China</td>\n",
       "      <td>Hasvik Airport</td>\n",
       "      <td>Norway</td>\n",
       "      <td>Europe</td>\n",
       "      <td>12/11/2022</td>\n",
       "      <td>1</td>\n",
       "      <td>Hasvik Airport</td>\n",
       "      <td>22.22</td>\n",
       "      <td>25.000000</td>\n",
       "      <td>20.000000</td>\n",
       "    </tr>\n",
       "    <tr>\n",
       "      <th>98069</th>\n",
       "      <td>98616</td>\n",
       "      <td>Female</td>\n",
       "      <td>19</td>\n",
       "      <td>Russia</td>\n",
       "      <td>Ampampamena Airport</td>\n",
       "      <td>Madagascar</td>\n",
       "      <td>Africa</td>\n",
       "      <td>10/30/2022</td>\n",
       "      <td>1</td>\n",
       "      <td>Ambanja</td>\n",
       "      <td>21.43</td>\n",
       "      <td>16.666667</td>\n",
       "      <td>25.000000</td>\n",
       "    </tr>\n",
       "    <tr>\n",
       "      <th>98070</th>\n",
       "      <td>98617</td>\n",
       "      <td>Male</td>\n",
       "      <td>65</td>\n",
       "      <td>Indonesia</td>\n",
       "      <td>Albacete-Los Llanos Airport</td>\n",
       "      <td>Spain</td>\n",
       "      <td>Europe</td>\n",
       "      <td>9/10/2022</td>\n",
       "      <td>0</td>\n",
       "      <td>Los Llanos</td>\n",
       "      <td>46.15</td>\n",
       "      <td>75.000000</td>\n",
       "      <td>33.333333</td>\n",
       "    </tr>\n",
       "    <tr>\n",
       "      <th>98071</th>\n",
       "      <td>98618</td>\n",
       "      <td>Female</td>\n",
       "      <td>34</td>\n",
       "      <td>China</td>\n",
       "      <td>Gagnoa Airport</td>\n",
       "      <td>Côte d'Ivoire</td>\n",
       "      <td>Africa</td>\n",
       "      <td>10/26/2022</td>\n",
       "      <td>1</td>\n",
       "      <td>Gagnoa</td>\n",
       "      <td>20.00</td>\n",
       "      <td>40.000000</td>\n",
       "      <td>0.000000</td>\n",
       "    </tr>\n",
       "    <tr>\n",
       "      <th>98072</th>\n",
       "      <td>98619</td>\n",
       "      <td>Female</td>\n",
       "      <td>10</td>\n",
       "      <td>Poland</td>\n",
       "      <td>Yoshkar-Ola Airport</td>\n",
       "      <td>Russian Federation</td>\n",
       "      <td>Europe</td>\n",
       "      <td>4/16/2022</td>\n",
       "      <td>0</td>\n",
       "      <td>Yoshkar-Ola Airport</td>\n",
       "      <td>33.33</td>\n",
       "      <td>25.000000</td>\n",
       "      <td>100.000000</td>\n",
       "    </tr>\n",
       "  </tbody>\n",
       "</table>\n",
       "<p>98073 rows × 13 columns</p>\n",
       "</div>"
      ],
      "text/plain": [
       "       Passenger ID  Gender  Age Nationality                 Airport Name  \\\n",
       "0                 1  Female   62       Japan             Coldfoot Airport   \n",
       "1                 2    Male   62   Nicaragua            Kugluktuk Airport   \n",
       "2                 3    Male   67      Russia       Grenoble-Isère Airport   \n",
       "3                 4  Female   71       China    Ottawa / Gatineau Airport   \n",
       "4                 5    Male   21       China              Gillespie Field   \n",
       "...             ...     ...  ...         ...                          ...   \n",
       "98068         98615    Male   85       China               Hasvik Airport   \n",
       "98069         98616  Female   19      Russia          Ampampamena Airport   \n",
       "98070         98617    Male   65   Indonesia  Albacete-Los Llanos Airport   \n",
       "98071         98618  Female   34       China               Gagnoa Airport   \n",
       "98072         98619  Female   10      Poland          Yoshkar-Ola Airport   \n",
       "\n",
       "                  Country     Continents Departure Date  Status Target  \\\n",
       "0           United States  North America      6/28/2022              0   \n",
       "1                  Canada  North America     12/26/2022              0   \n",
       "2                  France         Europe      1/18/2022              0   \n",
       "3                  Canada  North America      9/16/2022              0   \n",
       "4           United States  North America      2/25/2022              0   \n",
       "...                   ...            ...            ...            ...   \n",
       "98068              Norway         Europe     12/11/2022              1   \n",
       "98069          Madagascar         Africa     10/30/2022              1   \n",
       "98070               Spain         Europe      9/10/2022              0   \n",
       "98071       Côte d'Ivoire         Africa     10/26/2022              1   \n",
       "98072  Russian Federation         Europe      4/16/2022              0   \n",
       "\n",
       "              Arrival Airport  Cancellation Percentage per Airport  \\\n",
       "0                    Coldfoot                                18.18   \n",
       "1           Kugluktuk Airport                                22.22   \n",
       "2      Grenoble-Isere Airport                                26.67   \n",
       "3            Gatineau Airport                                42.86   \n",
       "4             Gillespie Field                                45.45   \n",
       "...                       ...                                  ...   \n",
       "98068          Hasvik Airport                                22.22   \n",
       "98069                 Ambanja                                21.43   \n",
       "98070              Los Llanos                                46.15   \n",
       "98071                  Gagnoa                                20.00   \n",
       "98072     Yoshkar-Ola Airport                                33.33   \n",
       "\n",
       "       Cancellation Percentage Female  Cancellation Percentage Male  \n",
       "0                           16.666667                     20.000000  \n",
       "1                            0.000000                     33.333333  \n",
       "2                           20.000000                     30.000000  \n",
       "3                           75.000000                      0.000000  \n",
       "4                          100.000000                     25.000000  \n",
       "...                               ...                           ...  \n",
       "98068                       25.000000                     20.000000  \n",
       "98069                       16.666667                     25.000000  \n",
       "98070                       75.000000                     33.333333  \n",
       "98071                       40.000000                      0.000000  \n",
       "98072                       25.000000                    100.000000  \n",
       "\n",
       "[98073 rows x 13 columns]"
      ]
     },
     "execution_count": 46,
     "metadata": {},
     "output_type": "execute_result"
    }
   ],
   "source": [
    "df_copy"
   ]
  },
  {
   "cell_type": "markdown",
   "id": "27ae5b42",
   "metadata": {},
   "source": [
    "___"
   ]
  },
  {
   "cell_type": "markdown",
   "id": "663d5ad0",
   "metadata": {},
   "source": [
    "<h3 align=\"center\">Segmento variable ['Age']</h3>\n"
   ]
  },
  {
   "cell_type": "markdown",
   "id": "f12a99e2",
   "metadata": {},
   "source": [
    "___"
   ]
  },
  {
   "cell_type": "code",
   "execution_count": 47,
   "id": "4f6ebabe",
   "metadata": {},
   "outputs": [
    {
     "data": {
      "image/png": "[encoded data removed]",
      "text/plain": [
       "<Figure size 1200x600 with 1 Axes>"
      ]
     },
     "metadata": {},
     "output_type": "display_data"
    }
   ],
   "source": [
    "# Procedemos a graficar ['Age'] de manera univariada, para empezar a tener una idea sobre como se comporta dicha variable.\n",
    "\n",
    "df_copy['Age Segment'] = pd.cut(df_copy['Age'], bins=range(0, 101, 10), right=False, labels=[f'{i}-{i+9}' for i in range(0, 100, 10)])\n",
    "\n",
    "plt.figure(figsize=(12, 6))\n",
    "sns.countplot(x='Age Segment', data=df_copy, palette='Blues')\n",
    "plt.xlabel('Segmento de Edad')\n",
    "plt.ylabel('Cantidad')\n",
    "plt.title('Distribución de Edades en Segmentos de 10 años')\n",
    "plt.show()\n",
    "\n",
    "\n",
    "df_copy.drop('Age Segment', axis=1, inplace=True)"
   ]
  },
  {
   "cell_type": "markdown",
   "id": "9f22644a",
   "metadata": {},
   "source": [
    "- Observamos que ['Age'] por si sola, solo presenta una variación en el segmento entre 90 y 100 pero solo por la escasez de casos que existen en ese rango, no por otras cuestiones. "
   ]
  },
  {
   "cell_type": "code",
   "execution_count": 48,
   "id": "16717b63",
   "metadata": {},
   "outputs": [
    {
     "data": {
      "image/png": "[encoded data removed]",
      "text/plain": [
       "<Figure size 1200x600 with 1 Axes>"
      ]
     },
     "metadata": {},
     "output_type": "display_data"
    }
   ],
   "source": [
    "# Análisis bivariado de ['Age'] vs ['Status Target'], para corroborar si existen anomalías.\n",
    "\n",
    "plt.figure(figsize=(12, 6))\n",
    "sns.boxplot(x='Status Target', y='Age', data=df_copy, palette={0: 'green', 1: 'red'})\n",
    "plt.xlabel('Status Target')\n",
    "plt.ylabel('Edad')\n",
    "plt.title('Distribución de Edades según Status Target')\n",
    "plt.show()"
   ]
  },
  {
   "cell_type": "markdown",
   "id": "0562bb67",
   "metadata": {},
   "source": [
    "- En el caso del análisis bivariado de ['Age'] vs ['Status Target'], vemos que no presenta anomalías de ningún tipo tampoco. Por ende la variable por si sola carece de impacto en el modelo predictivo. Deberíamos tratar de mezclarlas con otras para ver si le agregamos valor."
   ]
  },
  {
   "cell_type": "markdown",
   "id": "825bac58",
   "metadata": {},
   "source": [
    "___"
   ]
  },
  {
   "cell_type": "markdown",
   "id": "d7634dab",
   "metadata": {},
   "source": [
    "<h3 align=\"center\">Segmento variable ['Nationality']</h3>\n"
   ]
  },
  {
   "cell_type": "markdown",
   "id": "a3747393",
   "metadata": {},
   "source": [
    "___"
   ]
  },
  {
   "cell_type": "code",
   "execution_count": 49,
   "id": "9345f01f",
   "metadata": {},
   "outputs": [
    {
     "data": {
      "text/plain": [
       "240"
      ]
     },
     "execution_count": 49,
     "metadata": {},
     "output_type": "execute_result"
    }
   ],
   "source": [
    "# Observamos un total de 240 Nacionalidades alojadas en el data set.\n",
    "\n",
    "df_copy['Nationality'].nunique()"
   ]
  },
  {
   "cell_type": "code",
   "execution_count": 50,
   "id": "3e105077",
   "metadata": {},
   "outputs": [
    {
     "data": {
      "image/png": "[encoded data removed]",
      "text/plain": [
       "<Figure size 1200x600 with 1 Axes>"
      ]
     },
     "metadata": {},
     "output_type": "display_data"
    }
   ],
   "source": [
    "# Creamos un Top 10 de ['Nationality'] y lo trasladamos a un gráfico de barras, para empezar a entender sobre el comportamiento de dicha variable.\n",
    "\n",
    "top_nationalities = df_copy['Nationality'].value_counts().nlargest(10).index\n",
    "\n",
    "df_top_nationalities = df_copy[df_copy['Nationality'].isin(top_nationalities)]\n",
    "\n",
    "plt.figure(figsize=(12, 6))\n",
    "sns.countplot(x='Nationality', hue='Status Target', data=df_top_nationalities, palette={0: 'green', 1: 'red'}, order=top_nationalities)\n",
    "plt.xlabel('Nacionalidad')\n",
    "plt.ylabel('Cantidad')\n",
    "plt.title('Distribución de Nacionalidades según Status Target (Top 10)')\n",
    "plt.xticks(rotation=45)\n",
    "plt.legend(title='Status Target', loc='upper right')\n",
    "plt.show()\n"
   ]
  },
  {
   "cell_type": "markdown",
   "id": "81face23",
   "metadata": {},
   "source": [
    "- A grandes rasgos se puede observar como una tendencia 1/2 de Filled con respecto de Cancelled. Parece a modo de vista general que los casos cancelled son tendencialmente a ser aproximadamente 1/2 de los filled."
   ]
  },
  {
   "cell_type": "code",
   "execution_count": 51,
   "id": "b563257d",
   "metadata": {},
   "outputs": [
    {
     "data": {
      "text/html": [
       "<div>\n",
       "<style scoped>\n",
       "    .dataframe tbody tr th:only-of-type {\n",
       "        vertical-align: middle;\n",
       "    }\n",
       "\n",
       "    .dataframe tbody tr th {\n",
       "        vertical-align: top;\n",
       "    }\n",
       "\n",
       "    .dataframe thead th {\n",
       "        text-align: right;\n",
       "    }\n",
       "</style>\n",
       "<table border=\"1\" class=\"dataframe\">\n",
       "  <thead>\n",
       "    <tr style=\"text-align: right;\">\n",
       "      <th></th>\n",
       "      <th>Nationality</th>\n",
       "      <th>Status Target</th>\n",
       "    </tr>\n",
       "  </thead>\n",
       "  <tbody>\n",
       "    <tr>\n",
       "      <th>0</th>\n",
       "      <td>Afghanistan</td>\n",
       "      <td>True</td>\n",
       "    </tr>\n",
       "    <tr>\n",
       "      <th>1</th>\n",
       "      <td>Aland Islands</td>\n",
       "      <td>True</td>\n",
       "    </tr>\n",
       "    <tr>\n",
       "      <th>2</th>\n",
       "      <td>Albania</td>\n",
       "      <td>True</td>\n",
       "    </tr>\n",
       "    <tr>\n",
       "      <th>3</th>\n",
       "      <td>Algeria</td>\n",
       "      <td>True</td>\n",
       "    </tr>\n",
       "    <tr>\n",
       "      <th>4</th>\n",
       "      <td>American Samoa</td>\n",
       "      <td>True</td>\n",
       "    </tr>\n",
       "    <tr>\n",
       "      <th>...</th>\n",
       "      <td>...</td>\n",
       "      <td>...</td>\n",
       "    </tr>\n",
       "    <tr>\n",
       "      <th>235</th>\n",
       "      <td>Wallis and Futuna</td>\n",
       "      <td>True</td>\n",
       "    </tr>\n",
       "    <tr>\n",
       "      <th>236</th>\n",
       "      <td>Western Sahara</td>\n",
       "      <td>True</td>\n",
       "    </tr>\n",
       "    <tr>\n",
       "      <th>237</th>\n",
       "      <td>Yemen</td>\n",
       "      <td>True</td>\n",
       "    </tr>\n",
       "    <tr>\n",
       "      <th>238</th>\n",
       "      <td>Zambia</td>\n",
       "      <td>True</td>\n",
       "    </tr>\n",
       "    <tr>\n",
       "      <th>239</th>\n",
       "      <td>Zimbabwe</td>\n",
       "      <td>True</td>\n",
       "    </tr>\n",
       "  </tbody>\n",
       "</table>\n",
       "<p>240 rows × 2 columns</p>\n",
       "</div>"
      ],
      "text/plain": [
       "           Nationality  Status Target\n",
       "0          Afghanistan           True\n",
       "1        Aland Islands           True\n",
       "2              Albania           True\n",
       "3              Algeria           True\n",
       "4       American Samoa           True\n",
       "..                 ...            ...\n",
       "235  Wallis and Futuna           True\n",
       "236     Western Sahara           True\n",
       "237              Yemen           True\n",
       "238             Zambia           True\n",
       "239           Zimbabwe           True\n",
       "\n",
       "[240 rows x 2 columns]"
      ]
     },
     "execution_count": 51,
     "metadata": {},
     "output_type": "execute_result"
    }
   ],
   "source": [
    "# Realizamos un sondeo para encontrar anomalías con respecto al comportamiento que describimos 1/2 de filled vs cancelled. \n",
    "\n",
    "half_filled_count = df_copy[df_copy['Status Target'] == 0].shape[0] / 2\n",
    "\n",
    "error_margin_percentage = 7  # Pusimos un 7% de margen de error, para intentar contemplar lo más mínimo.\n",
    "\n",
    "lower_bound = half_filled_count - (half_filled_count * error_margin_percentage / 100)\n",
    "upper_bound = half_filled_count + (half_filled_count * error_margin_percentage / 100)\n",
    "\n",
    "df_filtered = df_copy.groupby('Nationality')['Status Target'].apply(lambda x: np.logical_or(x.sum() < lower_bound, x.sum() > upper_bound)).reset_index()\n",
    "\n",
    "nationalities_out_of_range = df_filtered[df_filtered['Status Target']]\n",
    "\n",
    "nationalities_out_of_range"
   ]
  },
  {
   "cell_type": "markdown",
   "id": "ce5ba723",
   "metadata": {},
   "source": [
    "- Encontramos que en 240 filas el patrón 1/2 aprox entre filled vs cancelled parece no presentarse."
   ]
  },
  {
   "cell_type": "code",
   "execution_count": 52,
   "id": "203aea5f",
   "metadata": {},
   "outputs": [
    {
     "name": "stdout",
     "output_type": "stream",
     "text": [
      "Nacionalidades donde la relación es mayor al 50% con margen de error:\n",
      "                   Nationality  Status Target\n",
      "3                      Algeria       0.666667\n",
      "23                     Bermuda       0.714286\n",
      "30      British Virgin Islands       1.000000\n",
      "48                Cook Islands       1.000000\n",
      "123                      Macao       1.000000\n",
      "132                 Martinique       0.571429\n",
      "147                      Nauru       0.571429\n",
      "155                       Niue       0.666667\n",
      "183  Saint Pierre and Miquelon       0.750000\n",
      "193                  Singapore       0.666667\n",
      "\n",
      "Nacionalidades donde la relación es menor al 50% con margen de error:\n",
      "           Nationality  Status Target\n",
      "0          Afghanistan       0.352792\n",
      "1        Aland Islands       0.250000\n",
      "2              Albania       0.337130\n",
      "4       American Samoa       0.230769\n",
      "5              Andorra       0.444444\n",
      "..                 ...            ...\n",
      "235  Wallis and Futuna       0.125000\n",
      "236     Western Sahara       0.200000\n",
      "237              Yemen       0.326633\n",
      "238             Zambia       0.337209\n",
      "239           Zimbabwe       0.317308\n",
      "\n",
      "[217 rows x 2 columns]\n"
     ]
    }
   ],
   "source": [
    "# Creamos una división de la variable ['nationalities_out_of_range'] en donde por un lado buscaremos los valores donde los cancellados superan la relación 1/2 y los que no, en ambos casos contemplando un margen de error del 8%.\n",
    "\n",
    "df_ratios = df_copy.groupby('Nationality')['Status Target'].mean().reset_index()\n",
    "\n",
    "\n",
    "error_margin_percentage = 7  \n",
    "\n",
    "lower_bound = 0.5 - (0.5 * error_margin_percentage / 100)\n",
    "upper_bound = 0.5 + (0.5 * error_margin_percentage / 100)\n",
    "\n",
    "nationalities_greater_than_50  = df_ratios[df_ratios['Status Target'] > upper_bound]\n",
    "\n",
    "nationalities_less_than_50  = df_ratios[df_ratios['Status Target'] < lower_bound]\n",
    "\n",
    "print(\"Nacionalidades donde la relación es mayor al 50% con margen de error:\")\n",
    "print(nationalities_greater_than_50 )\n",
    "\n",
    "print(\"\\nNacionalidades donde la relación es menor al 50% con margen de error:\")\n",
    "print(nationalities_less_than_50 )\n"
   ]
  },
  {
   "cell_type": "code",
   "execution_count": 53,
   "id": "937ab5f5",
   "metadata": {},
   "outputs": [
    {
     "data": {
      "text/plain": [
       "10"
      ]
     },
     "execution_count": 53,
     "metadata": {},
     "output_type": "execute_result"
    }
   ],
   "source": [
    "nationalities_greater_than_50 .value_counts().sum()"
   ]
  },
  {
   "cell_type": "code",
   "execution_count": 54,
   "id": "ff0b39b5",
   "metadata": {},
   "outputs": [
    {
     "data": {
      "text/plain": [
       "217"
      ]
     },
     "execution_count": 54,
     "metadata": {},
     "output_type": "execute_result"
    }
   ],
   "source": [
    "nationalities_less_than_50 .value_counts().sum()"
   ]
  },
  {
   "cell_type": "markdown",
   "id": "c91a90b9",
   "metadata": {},
   "source": [
    "- Con esto notamos que hay 10 Nacionalidades con una tendencia a tener mayor % de cancelaciones por sobre el resto. En contra parte vemos como también existen 216 que se comportan de manera contraria, con una tendencia bajista en este área. Es un patrón considerable a la hora de construir nuestro modelo predictivo."
   ]
  },
  {
   "cell_type": "code",
   "execution_count": 55,
   "id": "f49918e9",
   "metadata": {},
   "outputs": [
    {
     "data": {
      "text/html": [
       "<div>\n",
       "<style scoped>\n",
       "    .dataframe tbody tr th:only-of-type {\n",
       "        vertical-align: middle;\n",
       "    }\n",
       "\n",
       "    .dataframe tbody tr th {\n",
       "        vertical-align: top;\n",
       "    }\n",
       "\n",
       "    .dataframe thead th {\n",
       "        text-align: right;\n",
       "    }\n",
       "</style>\n",
       "<table border=\"1\" class=\"dataframe\">\n",
       "  <thead>\n",
       "    <tr style=\"text-align: right;\">\n",
       "      <th></th>\n",
       "      <th>Nationality</th>\n",
       "      <th>Status Target</th>\n",
       "    </tr>\n",
       "  </thead>\n",
       "  <tbody>\n",
       "    <tr>\n",
       "      <th>3</th>\n",
       "      <td>Algeria</td>\n",
       "      <td>0.666667</td>\n",
       "    </tr>\n",
       "    <tr>\n",
       "      <th>23</th>\n",
       "      <td>Bermuda</td>\n",
       "      <td>0.714286</td>\n",
       "    </tr>\n",
       "    <tr>\n",
       "      <th>30</th>\n",
       "      <td>British Virgin Islands</td>\n",
       "      <td>1.000000</td>\n",
       "    </tr>\n",
       "    <tr>\n",
       "      <th>48</th>\n",
       "      <td>Cook Islands</td>\n",
       "      <td>1.000000</td>\n",
       "    </tr>\n",
       "    <tr>\n",
       "      <th>123</th>\n",
       "      <td>Macao</td>\n",
       "      <td>1.000000</td>\n",
       "    </tr>\n",
       "    <tr>\n",
       "      <th>155</th>\n",
       "      <td>Niue</td>\n",
       "      <td>0.666667</td>\n",
       "    </tr>\n",
       "    <tr>\n",
       "      <th>183</th>\n",
       "      <td>Saint Pierre and Miquelon</td>\n",
       "      <td>0.750000</td>\n",
       "    </tr>\n",
       "    <tr>\n",
       "      <th>193</th>\n",
       "      <td>Singapore</td>\n",
       "      <td>0.666667</td>\n",
       "    </tr>\n",
       "  </tbody>\n",
       "</table>\n",
       "</div>"
      ],
      "text/plain": [
       "                   Nationality  Status Target\n",
       "3                      Algeria       0.666667\n",
       "23                     Bermuda       0.714286\n",
       "30      British Virgin Islands       1.000000\n",
       "48                Cook Islands       1.000000\n",
       "123                      Macao       1.000000\n",
       "155                       Niue       0.666667\n",
       "183  Saint Pierre and Miquelon       0.750000\n",
       "193                  Singapore       0.666667"
      ]
     },
     "execution_count": 55,
     "metadata": {},
     "output_type": "execute_result"
    }
   ],
   "source": [
    "# Filtramos las Nacionalidades que estén por debajo de un 0.6 % en Status Target.\n",
    "\n",
    "nationalities_greater_than_60 = nationalities_greater_than_50[nationalities_greater_than_50['Status Target'] > 0.6].copy()\n",
    "\n",
    "nationalities_greater_than_60"
   ]
  },
  {
   "cell_type": "markdown",
   "id": "0dda3b69",
   "metadata": {},
   "source": [
    "Posiblemente esta sea una variable a insertar en nuestro algoritmo predictivo."
   ]
  },
  {
   "cell_type": "code",
   "execution_count": 56,
   "id": "977ea21a",
   "metadata": {},
   "outputs": [],
   "source": [
    "# Agrupamos por nacionalidad y calculamos el porcentaje de vuelos cancelados. Luego creamos una nueva columna en df_copy con los porcentajes calculados.\n",
    "\n",
    "nationality_cancelled_percentage = df_copy.groupby('Nationality')['Status Target'].mean() * 100\n",
    "\n",
    "df_copy['nationality_cancelled_percentage'] = df_copy['Nationality'].map(nationality_cancelled_percentage)"
   ]
  },
  {
   "cell_type": "markdown",
   "id": "a31bf4d5",
   "metadata": {},
   "source": [
    "___"
   ]
  },
  {
   "cell_type": "markdown",
   "id": "476c3dea",
   "metadata": {},
   "source": [
    "<center>\n",
    "\n",
    "### Segmento variable ['Country']\n",
    "\n",
    "</center>\n"
   ]
  },
  {
   "cell_type": "markdown",
   "id": "e9e8bb50",
   "metadata": {},
   "source": [
    "___"
   ]
  },
  {
   "cell_type": "code",
   "execution_count": 57,
   "id": "8aaddab3",
   "metadata": {},
   "outputs": [
    {
     "data": {
      "text/plain": [
       "234"
      ]
     },
     "execution_count": 57,
     "metadata": {},
     "output_type": "execute_result"
    }
   ],
   "source": [
    "# Controlamos la cantidad de Paises contemplados en nuestro data set.\n",
    "\n",
    "df_copy['Country'].nunique()"
   ]
  },
  {
   "cell_type": "code",
   "execution_count": 58,
   "id": "2d8003ea",
   "metadata": {},
   "outputs": [
    {
     "data": {
      "image/png": "[encoded data removed]",
      "text/plain": [
       "<Figure size 1200x600 with 1 Axes>"
      ]
     },
     "metadata": {},
     "output_type": "display_data"
    }
   ],
   "source": [
    "# Crearemos un top 10 de ['Country'] para posteriormente graficarlo y empezar a tener una comprensión del comportamiento de dicha variable con respecto al Target.\n",
    "\n",
    "top_countries = df_copy['Country'].value_counts().head(10).index\n",
    "\n",
    "df_top_countries = df_copy[df_copy['Country'].isin(top_countries)]\n",
    "\n",
    "custom_palette = {0: 'green', 1: 'red'}\n",
    "\n",
    "plt.figure(figsize=(12, 6))\n",
    "sns.countplot(x='Country', hue='Status Target', data=df_top_countries, palette=custom_palette)\n",
    "plt.xlabel('País')\n",
    "plt.ylabel('Cantidad')\n",
    "plt.title('Distribución de Status Target para Top 10 Países')\n",
    "plt.legend(title='Status Target')\n",
    "plt.xticks(rotation=45, ha='right')\n",
    "plt.show()\n"
   ]
  },
  {
   "cell_type": "code",
   "execution_count": 59,
   "id": "4e1e7022",
   "metadata": {},
   "outputs": [
    {
     "data": {
      "text/plain": [
       "3"
      ]
     },
     "execution_count": 59,
     "metadata": {},
     "output_type": "execute_result"
    }
   ],
   "source": [
    "# Veamos ahora la lista de países en donde la cantidad de cancelled supera la cantidad de filled.\n",
    "\n",
    "df_cancelled_vs_filled = df_copy.groupby('Country')['Status Target'].value_counts().unstack().fillna(0)\n",
    "\n",
    "countries_more_cancelled_than_filled = df_cancelled_vs_filled[df_cancelled_vs_filled[1] > df_cancelled_vs_filled[0]]\n",
    "\n",
    "num_countries_more_cancelled_than_filled = len(countries_more_cancelled_than_filled)\n",
    "\n",
    "num_countries_more_cancelled_than_filled"
   ]
  },
  {
   "cell_type": "markdown",
   "id": "ef80f361",
   "metadata": {},
   "source": [
    "- Considerando que el df aloja la información acerca de 235 países, no es necesario profundizar en aquellos casos en donde la cantidad de cancelled es mayor a los filled, dado que solo representa un 1,27 % del total. No es una variable muy óptima para incluir en el modelo. Buscaremos desglozar ['Country'] con otro tipo de variables."
   ]
  },
  {
   "cell_type": "code",
   "execution_count": 60,
   "id": "f6421b16",
   "metadata": {},
   "outputs": [
    {
     "data": {
      "image/png": "[encoded data removed]",
      "text/plain": [
       "<Figure size 1200x800 with 1 Axes>"
      ]
     },
     "metadata": {},
     "output_type": "display_data"
    }
   ],
   "source": [
    "# Obervemos el patrón que puede presentar la variable ['Country'] con respecto a ['Gender'] en busca de anomalías.\n",
    "\n",
    "colors = {'Male': 'blue', 'Female': 'pink'}\n",
    "\n",
    "\n",
    "plt.figure(figsize=(12, 8))\n",
    "sns.countplot(x='Country', hue='Gender', data=df_top_countries, palette=colors, dodge=True)\n",
    "plt.xlabel('País')\n",
    "plt.ylabel('Cantidad')\n",
    "plt.title('Distribución de Gender para Top 10 Países')\n",
    "plt.legend(title='Gender')\n",
    "plt.xticks(rotation=45, ha='right')\n",
    "plt.show()"
   ]
  },
  {
   "cell_type": "markdown",
   "id": "4cc021b3",
   "metadata": {},
   "source": [
    "- No observamos anomalías significativas para incluir en el modelo predictivo."
   ]
  },
  {
   "cell_type": "markdown",
   "id": "754a3298",
   "metadata": {},
   "source": [
    "___"
   ]
  },
  {
   "cell_type": "code",
   "execution_count": 61,
   "id": "d260d5a8",
   "metadata": {},
   "outputs": [
    {
     "data": {
      "text/html": [
       "<div>\n",
       "<style scoped>\n",
       "    .dataframe tbody tr th:only-of-type {\n",
       "        vertical-align: middle;\n",
       "    }\n",
       "\n",
       "    .dataframe tbody tr th {\n",
       "        vertical-align: top;\n",
       "    }\n",
       "\n",
       "    .dataframe thead th {\n",
       "        text-align: right;\n",
       "    }\n",
       "</style>\n",
       "<table border=\"1\" class=\"dataframe\">\n",
       "  <thead>\n",
       "    <tr style=\"text-align: right;\">\n",
       "      <th></th>\n",
       "      <th>Passenger ID</th>\n",
       "      <th>Gender</th>\n",
       "      <th>Age</th>\n",
       "      <th>Nationality</th>\n",
       "      <th>Airport Name</th>\n",
       "      <th>Country</th>\n",
       "      <th>Continents</th>\n",
       "      <th>Departure Date</th>\n",
       "      <th>Status Target</th>\n",
       "      <th>Arrival Airport</th>\n",
       "      <th>Cancellation Percentage per Airport</th>\n",
       "      <th>Cancellation Percentage Female</th>\n",
       "      <th>Cancellation Percentage Male</th>\n",
       "      <th>nationality_cancelled_percentage</th>\n",
       "    </tr>\n",
       "  </thead>\n",
       "  <tbody>\n",
       "    <tr>\n",
       "      <th>0</th>\n",
       "      <td>1</td>\n",
       "      <td>Female</td>\n",
       "      <td>62</td>\n",
       "      <td>Japan</td>\n",
       "      <td>Coldfoot Airport</td>\n",
       "      <td>United States</td>\n",
       "      <td>North America</td>\n",
       "      <td>6/28/2022</td>\n",
       "      <td>0</td>\n",
       "      <td>Coldfoot</td>\n",
       "      <td>18.18</td>\n",
       "      <td>16.666667</td>\n",
       "      <td>20.000000</td>\n",
       "      <td>33.074362</td>\n",
       "    </tr>\n",
       "    <tr>\n",
       "      <th>1</th>\n",
       "      <td>2</td>\n",
       "      <td>Male</td>\n",
       "      <td>62</td>\n",
       "      <td>Nicaragua</td>\n",
       "      <td>Kugluktuk Airport</td>\n",
       "      <td>Canada</td>\n",
       "      <td>North America</td>\n",
       "      <td>12/26/2022</td>\n",
       "      <td>0</td>\n",
       "      <td>Kugluktuk Airport</td>\n",
       "      <td>22.22</td>\n",
       "      <td>0.000000</td>\n",
       "      <td>33.333333</td>\n",
       "      <td>34.825871</td>\n",
       "    </tr>\n",
       "    <tr>\n",
       "      <th>2</th>\n",
       "      <td>3</td>\n",
       "      <td>Male</td>\n",
       "      <td>67</td>\n",
       "      <td>Russia</td>\n",
       "      <td>Grenoble-Isère Airport</td>\n",
       "      <td>France</td>\n",
       "      <td>Europe</td>\n",
       "      <td>1/18/2022</td>\n",
       "      <td>0</td>\n",
       "      <td>Grenoble-Isere Airport</td>\n",
       "      <td>26.67</td>\n",
       "      <td>20.000000</td>\n",
       "      <td>30.000000</td>\n",
       "      <td>33.474651</td>\n",
       "    </tr>\n",
       "    <tr>\n",
       "      <th>3</th>\n",
       "      <td>4</td>\n",
       "      <td>Female</td>\n",
       "      <td>71</td>\n",
       "      <td>China</td>\n",
       "      <td>Ottawa / Gatineau Airport</td>\n",
       "      <td>Canada</td>\n",
       "      <td>North America</td>\n",
       "      <td>9/16/2022</td>\n",
       "      <td>0</td>\n",
       "      <td>Gatineau Airport</td>\n",
       "      <td>42.86</td>\n",
       "      <td>75.000000</td>\n",
       "      <td>0.000000</td>\n",
       "      <td>33.509090</td>\n",
       "    </tr>\n",
       "    <tr>\n",
       "      <th>4</th>\n",
       "      <td>5</td>\n",
       "      <td>Male</td>\n",
       "      <td>21</td>\n",
       "      <td>China</td>\n",
       "      <td>Gillespie Field</td>\n",
       "      <td>United States</td>\n",
       "      <td>North America</td>\n",
       "      <td>2/25/2022</td>\n",
       "      <td>0</td>\n",
       "      <td>Gillespie Field</td>\n",
       "      <td>45.45</td>\n",
       "      <td>100.000000</td>\n",
       "      <td>25.000000</td>\n",
       "      <td>33.509090</td>\n",
       "    </tr>\n",
       "    <tr>\n",
       "      <th>...</th>\n",
       "      <td>...</td>\n",
       "      <td>...</td>\n",
       "      <td>...</td>\n",
       "      <td>...</td>\n",
       "      <td>...</td>\n",
       "      <td>...</td>\n",
       "      <td>...</td>\n",
       "      <td>...</td>\n",
       "      <td>...</td>\n",
       "      <td>...</td>\n",
       "      <td>...</td>\n",
       "      <td>...</td>\n",
       "      <td>...</td>\n",
       "      <td>...</td>\n",
       "    </tr>\n",
       "    <tr>\n",
       "      <th>98068</th>\n",
       "      <td>98615</td>\n",
       "      <td>Male</td>\n",
       "      <td>85</td>\n",
       "      <td>China</td>\n",
       "      <td>Hasvik Airport</td>\n",
       "      <td>Norway</td>\n",
       "      <td>Europe</td>\n",
       "      <td>12/11/2022</td>\n",
       "      <td>1</td>\n",
       "      <td>Hasvik Airport</td>\n",
       "      <td>22.22</td>\n",
       "      <td>25.000000</td>\n",
       "      <td>20.000000</td>\n",
       "      <td>33.509090</td>\n",
       "    </tr>\n",
       "    <tr>\n",
       "      <th>98069</th>\n",
       "      <td>98616</td>\n",
       "      <td>Female</td>\n",
       "      <td>19</td>\n",
       "      <td>Russia</td>\n",
       "      <td>Ampampamena Airport</td>\n",
       "      <td>Madagascar</td>\n",
       "      <td>Africa</td>\n",
       "      <td>10/30/2022</td>\n",
       "      <td>1</td>\n",
       "      <td>Ambanja</td>\n",
       "      <td>21.43</td>\n",
       "      <td>16.666667</td>\n",
       "      <td>25.000000</td>\n",
       "      <td>33.474651</td>\n",
       "    </tr>\n",
       "    <tr>\n",
       "      <th>98070</th>\n",
       "      <td>98617</td>\n",
       "      <td>Male</td>\n",
       "      <td>65</td>\n",
       "      <td>Indonesia</td>\n",
       "      <td>Albacete-Los Llanos Airport</td>\n",
       "      <td>Spain</td>\n",
       "      <td>Europe</td>\n",
       "      <td>9/10/2022</td>\n",
       "      <td>0</td>\n",
       "      <td>Los Llanos</td>\n",
       "      <td>46.15</td>\n",
       "      <td>75.000000</td>\n",
       "      <td>33.333333</td>\n",
       "      <td>33.307927</td>\n",
       "    </tr>\n",
       "    <tr>\n",
       "      <th>98071</th>\n",
       "      <td>98618</td>\n",
       "      <td>Female</td>\n",
       "      <td>34</td>\n",
       "      <td>China</td>\n",
       "      <td>Gagnoa Airport</td>\n",
       "      <td>Côte d'Ivoire</td>\n",
       "      <td>Africa</td>\n",
       "      <td>10/26/2022</td>\n",
       "      <td>1</td>\n",
       "      <td>Gagnoa</td>\n",
       "      <td>20.00</td>\n",
       "      <td>40.000000</td>\n",
       "      <td>0.000000</td>\n",
       "      <td>33.509090</td>\n",
       "    </tr>\n",
       "    <tr>\n",
       "      <th>98072</th>\n",
       "      <td>98619</td>\n",
       "      <td>Female</td>\n",
       "      <td>10</td>\n",
       "      <td>Poland</td>\n",
       "      <td>Yoshkar-Ola Airport</td>\n",
       "      <td>Russian Federation</td>\n",
       "      <td>Europe</td>\n",
       "      <td>4/16/2022</td>\n",
       "      <td>0</td>\n",
       "      <td>Yoshkar-Ola Airport</td>\n",
       "      <td>33.33</td>\n",
       "      <td>25.000000</td>\n",
       "      <td>100.000000</td>\n",
       "      <td>34.180353</td>\n",
       "    </tr>\n",
       "  </tbody>\n",
       "</table>\n",
       "<p>98073 rows × 14 columns</p>\n",
       "</div>"
      ],
      "text/plain": [
       "       Passenger ID  Gender  Age Nationality                 Airport Name  \\\n",
       "0                 1  Female   62       Japan             Coldfoot Airport   \n",
       "1                 2    Male   62   Nicaragua            Kugluktuk Airport   \n",
       "2                 3    Male   67      Russia       Grenoble-Isère Airport   \n",
       "3                 4  Female   71       China    Ottawa / Gatineau Airport   \n",
       "4                 5    Male   21       China              Gillespie Field   \n",
       "...             ...     ...  ...         ...                          ...   \n",
       "98068         98615    Male   85       China               Hasvik Airport   \n",
       "98069         98616  Female   19      Russia          Ampampamena Airport   \n",
       "98070         98617    Male   65   Indonesia  Albacete-Los Llanos Airport   \n",
       "98071         98618  Female   34       China               Gagnoa Airport   \n",
       "98072         98619  Female   10      Poland          Yoshkar-Ola Airport   \n",
       "\n",
       "                  Country     Continents Departure Date  Status Target  \\\n",
       "0           United States  North America      6/28/2022              0   \n",
       "1                  Canada  North America     12/26/2022              0   \n",
       "2                  France         Europe      1/18/2022              0   \n",
       "3                  Canada  North America      9/16/2022              0   \n",
       "4           United States  North America      2/25/2022              0   \n",
       "...                   ...            ...            ...            ...   \n",
       "98068              Norway         Europe     12/11/2022              1   \n",
       "98069          Madagascar         Africa     10/30/2022              1   \n",
       "98070               Spain         Europe      9/10/2022              0   \n",
       "98071       Côte d'Ivoire         Africa     10/26/2022              1   \n",
       "98072  Russian Federation         Europe      4/16/2022              0   \n",
       "\n",
       "              Arrival Airport  Cancellation Percentage per Airport  \\\n",
       "0                    Coldfoot                                18.18   \n",
       "1           Kugluktuk Airport                                22.22   \n",
       "2      Grenoble-Isere Airport                                26.67   \n",
       "3            Gatineau Airport                                42.86   \n",
       "4             Gillespie Field                                45.45   \n",
       "...                       ...                                  ...   \n",
       "98068          Hasvik Airport                                22.22   \n",
       "98069                 Ambanja                                21.43   \n",
       "98070              Los Llanos                                46.15   \n",
       "98071                  Gagnoa                                20.00   \n",
       "98072     Yoshkar-Ola Airport                                33.33   \n",
       "\n",
       "       Cancellation Percentage Female  Cancellation Percentage Male  \\\n",
       "0                           16.666667                     20.000000   \n",
       "1                            0.000000                     33.333333   \n",
       "2                           20.000000                     30.000000   \n",
       "3                           75.000000                      0.000000   \n",
       "4                          100.000000                     25.000000   \n",
       "...                               ...                           ...   \n",
       "98068                       25.000000                     20.000000   \n",
       "98069                       16.666667                     25.000000   \n",
       "98070                       75.000000                     33.333333   \n",
       "98071                       40.000000                      0.000000   \n",
       "98072                       25.000000                    100.000000   \n",
       "\n",
       "       nationality_cancelled_percentage  \n",
       "0                             33.074362  \n",
       "1                             34.825871  \n",
       "2                             33.474651  \n",
       "3                             33.509090  \n",
       "4                             33.509090  \n",
       "...                                 ...  \n",
       "98068                         33.509090  \n",
       "98069                         33.474651  \n",
       "98070                         33.307927  \n",
       "98071                         33.509090  \n",
       "98072                         34.180353  \n",
       "\n",
       "[98073 rows x 14 columns]"
      ]
     },
     "execution_count": 61,
     "metadata": {},
     "output_type": "execute_result"
    }
   ],
   "source": [
    "df_copy"
   ]
  },
  {
   "cell_type": "markdown",
   "id": "e244e3c8",
   "metadata": {},
   "source": [
    "___"
   ]
  },
  {
   "cell_type": "markdown",
   "id": "f72efd79",
   "metadata": {},
   "source": [
    "# Segmento variable ['Departure Date']"
   ]
  },
  {
   "cell_type": "markdown",
   "id": "2d98b1a5",
   "metadata": {},
   "source": [
    "___"
   ]
  },
  {
   "cell_type": "markdown",
   "id": "bdcb39a5",
   "metadata": {},
   "source": [
    "Primero que nada, vamos a convertir la columna al tipo datetime y crear tres columnas temporales en df_copy que son: 'Month', 'Week' y 'DayOfWeek' (Year no la incluimos dado que el df solo consta con información referida al 2022). Visualizaremos a groso modo el comportamiento de dichas columnas para observar algún tipo de indicio inicial."
   ]
  },
  {
   "cell_type": "code",
   "execution_count": 68,
   "id": "6539af17",
   "metadata": {},
   "outputs": [
    {
     "data": {
      "image/png": "[encoded data removed]",
      "text/plain": [
       "<Figure size 1000x600 with 1 Axes>"
      ]
     },
     "metadata": {},
     "output_type": "display_data"
    },
    {
     "data": {
      "image/png": "[encoded data removed]",
      "text/plain": [
       "<Figure size 1400x600 with 1 Axes>"
      ]
     },
     "metadata": {},
     "output_type": "display_data"
    },
    {
     "data": {
      "image/png": "[encoded data removed]",
      "text/plain": [
       "<Figure size 1000x600 with 1 Axes>"
      ]
     },
     "metadata": {},
     "output_type": "display_data"
    }
   ],
   "source": [
    "df_copy['Departure Date'] = pd.to_datetime(df_copy['Departure Date'])\n",
    "\n",
    "df_copy['Month'] = df_copy['Departure Date'].dt.month\n",
    "df_copy['Week'] = df_copy['Departure Date'].dt.isocalendar().week\n",
    "df_copy['DayOfWeek'] = df_copy['Departure Date'].dt.dayofweek\n",
    "\n",
    "plt.figure(figsize=(10, 6))\n",
    "sns.countplot(x='Month', hue='Status Target', data=df_copy, palette={0: 'lightblue', 1: 'darkblue'})\n",
    "plt.title('Número de vuelos por mes')\n",
    "plt.show()\n",
    "\n",
    "\n",
    "plt.figure(figsize=(14, 6))\n",
    "sns.countplot(x='Week', data=df_copy, hue='Status Target', palette={0: 'lightblue', 1: 'darkblue'})\n",
    "plt.title('Número de vuelos por semana con casos cancelados')\n",
    "plt.show()\n",
    "\n",
    "\n",
    "plt.figure(figsize=(10, 6))\n",
    "sns.countplot(x='DayOfWeek', data=df_copy, hue='Status Target', palette={0: 'lightblue', 1: 'darkblue'})\n",
    "plt.title('Número de vuelos por día de la semana con casos cancelados')\n",
    "plt.show()"
   ]
  },
  {
   "cell_type": "code",
   "execution_count": 76,
   "id": "97681774",
   "metadata": {},
   "outputs": [
    {
     "data": {
      "text/html": [
       "<div>\n",
       "<style scoped>\n",
       "    .dataframe tbody tr th:only-of-type {\n",
       "        vertical-align: middle;\n",
       "    }\n",
       "\n",
       "    .dataframe tbody tr th {\n",
       "        vertical-align: top;\n",
       "    }\n",
       "\n",
       "    .dataframe thead th {\n",
       "        text-align: right;\n",
       "    }\n",
       "</style>\n",
       "<table border=\"1\" class=\"dataframe\">\n",
       "  <thead>\n",
       "    <tr style=\"text-align: right;\">\n",
       "      <th></th>\n",
       "      <th>Month</th>\n",
       "      <th>Not Cancelled</th>\n",
       "      <th>Cancelled</th>\n",
       "    </tr>\n",
       "  </thead>\n",
       "  <tbody>\n",
       "    <tr>\n",
       "      <th>0</th>\n",
       "      <td>1</td>\n",
       "      <td>5640</td>\n",
       "      <td>2738</td>\n",
       "    </tr>\n",
       "    <tr>\n",
       "      <th>1</th>\n",
       "      <td>2</td>\n",
       "      <td>5058</td>\n",
       "      <td>2557</td>\n",
       "    </tr>\n",
       "    <tr>\n",
       "      <th>2</th>\n",
       "      <td>3</td>\n",
       "      <td>5627</td>\n",
       "      <td>2755</td>\n",
       "    </tr>\n",
       "    <tr>\n",
       "      <th>3</th>\n",
       "      <td>4</td>\n",
       "      <td>5289</td>\n",
       "      <td>2632</td>\n",
       "    </tr>\n",
       "    <tr>\n",
       "      <th>4</th>\n",
       "      <td>5</td>\n",
       "      <td>5615</td>\n",
       "      <td>2832</td>\n",
       "    </tr>\n",
       "    <tr>\n",
       "      <th>5</th>\n",
       "      <td>6</td>\n",
       "      <td>5334</td>\n",
       "      <td>2736</td>\n",
       "    </tr>\n",
       "    <tr>\n",
       "      <th>6</th>\n",
       "      <td>7</td>\n",
       "      <td>5620</td>\n",
       "      <td>2790</td>\n",
       "    </tr>\n",
       "    <tr>\n",
       "      <th>7</th>\n",
       "      <td>8</td>\n",
       "      <td>5654</td>\n",
       "      <td>2847</td>\n",
       "    </tr>\n",
       "    <tr>\n",
       "      <th>8</th>\n",
       "      <td>9</td>\n",
       "      <td>5345</td>\n",
       "      <td>2749</td>\n",
       "    </tr>\n",
       "    <tr>\n",
       "      <th>9</th>\n",
       "      <td>10</td>\n",
       "      <td>5589</td>\n",
       "      <td>2784</td>\n",
       "    </tr>\n",
       "    <tr>\n",
       "      <th>10</th>\n",
       "      <td>11</td>\n",
       "      <td>5340</td>\n",
       "      <td>2669</td>\n",
       "    </tr>\n",
       "    <tr>\n",
       "      <th>11</th>\n",
       "      <td>12</td>\n",
       "      <td>5192</td>\n",
       "      <td>2681</td>\n",
       "    </tr>\n",
       "  </tbody>\n",
       "</table>\n",
       "</div>"
      ],
      "text/plain": [
       "    Month  Not Cancelled  Cancelled\n",
       "0       1           5640       2738\n",
       "1       2           5058       2557\n",
       "2       3           5627       2755\n",
       "3       4           5289       2632\n",
       "4       5           5615       2832\n",
       "5       6           5334       2736\n",
       "6       7           5620       2790\n",
       "7       8           5654       2847\n",
       "8       9           5345       2749\n",
       "9      10           5589       2784\n",
       "10     11           5340       2669\n",
       "11     12           5192       2681"
      ]
     },
     "execution_count": 76,
     "metadata": {},
     "output_type": "execute_result"
    }
   ],
   "source": [
    "# Agrupamos por mes y calculamos la cantidad de vuelos y cancelados.\n",
    "\n",
    "df_grouped = df_copy.groupby(['Month', 'Status Target']).size().unstack().reset_index()\n",
    "\n",
    "df_grouped.columns = ['Month', 'Not Cancelled', 'Cancelled']\n",
    "df_grouped"
   ]
  },
  {
   "cell_type": "code",
   "execution_count": 72,
   "id": "7ed7d964",
   "metadata": {},
   "outputs": [
    {
     "name": "stdout",
     "output_type": "stream",
     "text": [
      "Cantidad de vuelos y cancelados por semana:\n",
      "    Week  Not Cancelled  Cancelled\n",
      "0      1           1218        637\n",
      "1      2           1338        622\n",
      "2      3           1283        654\n",
      "3      4           1290        564\n",
      "4      5           1243        630\n",
      "5      6           1265        627\n",
      "6      7           1293        671\n",
      "7      8           1254        630\n",
      "8      9           1239        621\n",
      "9     10           1261        634\n",
      "10    11           1341        618\n",
      "11    12           1286        592\n",
      "12    13           1201        655\n",
      "13    14           1297        599\n",
      "14    15           1243        636\n",
      "15    16           1222        608\n",
      "16    17           1210        599\n",
      "17    18           1283        638\n",
      "18    19           1274        594\n",
      "19    20           1199        649\n",
      "20    21           1315        664\n",
      "21    22           1201        627\n",
      "22    23           1269        672\n",
      "23    24           1265        618\n",
      "24    25           1242        667\n",
      "25    26           1258        623\n",
      "26    27           1247        641\n",
      "27    28           1232        612\n",
      "28    29           1352        604\n",
      "29    30           1223        659\n",
      "30    31           1309        635\n",
      "31    32           1254        648\n",
      "32    33           1290        659\n",
      "33    34           1247        633\n",
      "34    35           1256        620\n",
      "35    36           1275        655\n",
      "36    37           1248        687\n",
      "37    38           1220        588\n",
      "38    39           1269        639\n",
      "39    40           1238        613\n",
      "40    41           1290        645\n",
      "41    42           1260        646\n",
      "42    43           1241        615\n",
      "43    44           1242        646\n",
      "44    45           1278        637\n",
      "45    46           1220        587\n",
      "46    47           1236        620\n",
      "47    48           1237        615\n",
      "48    49           1230        686\n",
      "49    50           1225        630\n",
      "50    51           1239        604\n",
      "51    52           1155        597\n"
     ]
    }
   ],
   "source": [
    "# Agrupamos por semana y calculamos la cantidad de vuelos y cancelados\n",
    "\n",
    "df_week_grouped = df_copy.groupby(['Week', 'Status Target']).size().unstack().reset_index()\n",
    "df_week_grouped.columns = ['Week', 'Not Cancelled', 'Cancelled']\n",
    "\n",
    "df_week_grouped"
   ]
  },
  {
   "cell_type": "code",
   "execution_count": 78,
   "id": "991d677d",
   "metadata": {},
   "outputs": [
    {
     "data": {
      "text/plain": [
       "Week             52\n",
       "Not Cancelled    40\n",
       "Cancelled        40\n",
       "dtype: int64"
      ]
     },
     "execution_count": 78,
     "metadata": {},
     "output_type": "execute_result"
    }
   ],
   "source": [
    "# Controlamos totales.\n",
    "\n",
    "df_week_grouped.nunique()"
   ]
  },
  {
   "cell_type": "code",
   "execution_count": 77,
   "id": "7420b39e",
   "metadata": {},
   "outputs": [
    {
     "data": {
      "text/plain": [
       "Week             28\n",
       "Not Cancelled    22\n",
       "Cancelled        23\n",
       "dtype: int64"
      ]
     },
     "execution_count": 77,
     "metadata": {},
     "output_type": "execute_result"
    }
   ],
   "source": [
    "# Filtramos las semanas donde la cantidad de no cancelados dividida por 2 es menor que la cantidad de cancelados, para saber cuantas semanas en total superan la mitad de los vuelos totales.\n",
    "\n",
    "filtered_weeks = df_week_grouped[df_week_grouped['Not Cancelled'] / 2 < df_week_grouped['Cancelled']]\n",
    "\n",
    "filtered_weeks.nunique()"
   ]
  },
  {
   "cell_type": "markdown",
   "id": "b8cea84a",
   "metadata": {},
   "source": [
    "Por el momento no encontramos una variabilidad significativa para incorporar. Si bien vimos que hay 23 semanas las cuales el número de cancelled es mayor a filled, no son diferencias significativas que demuestren un patrón solido que incorporar. Por lo pronto profundizaremos mas en el desgloce por día, u incorporacion de estaciones climáticas."
   ]
  },
  {
   "cell_type": "markdown",
   "id": "0a081a20",
   "metadata": {},
   "source": [
    "___"
   ]
  },
  {
   "cell_type": "markdown",
   "id": "210d6ef7",
   "metadata": {},
   "source": [
    "<h1 align=\"center\" style=\"font-size: 36px;\">DecisionTree</h1>\n"
   ]
  },
  {
   "cell_type": "markdown",
   "id": "8e41b336",
   "metadata": {},
   "source": [
    "___"
   ]
  },
  {
   "cell_type": "markdown",
   "id": "1bbbbfe8",
   "metadata": {},
   "source": [
    "Elegimos nuestro modelo y procedemos a seleccionar las columnas necesarias y crear un nuevo DataFrame dichas columnas. Posteriormente dividimos df_copy en conjunto de entrenamiento y prueba para definir las variables independientes (X) y la variable dependiente (y) en el mismo. Por último creamos el modelo de árbol de decisiones con los hiperparámetros específicos, creamos el pipeline que incluye el preprocesamiento y el modelo, ajustamos el modelo al conjunto de entrenamiento, realizamos predicciones en el conjunto de prueba y presentamos en pantalla el rendimiento del modelo."
   ]
  },
  {
   "cell_type": "code",
   "execution_count": 79,
   "id": "d52035e8",
   "metadata": {},
   "outputs": [
    {
     "name": "stdout",
     "output_type": "stream",
     "text": [
      "Accuracy: 0.6846800917665052\n",
      "\n",
      "Classification Report:\n",
      "               precision    recall  f1-score   support\n",
      "\n",
      "           0       0.71      0.90      0.79     13044\n",
      "           1       0.56      0.27      0.36      6571\n",
      "\n",
      "    accuracy                           0.68     19615\n",
      "   macro avg       0.63      0.58      0.58     19615\n",
      "weighted avg       0.66      0.68      0.65     19615\n",
      "\n",
      "Confusion Matrix:\n",
      " [[11675  1369]\n",
      " [ 4816  1755]]\n"
     ]
    }
   ],
   "source": [
    "from sklearn.model_selection import train_test_split\n",
    "from sklearn.tree import DecisionTreeClassifier\n",
    "from sklearn.pipeline import Pipeline\n",
    "from sklearn.compose import ColumnTransformer\n",
    "from sklearn.preprocessing import StandardScaler, OneHotEncoder\n",
    "from sklearn.impute import SimpleImputer\n",
    "\n",
    "selected_columns = ['Passenger ID', 'Gender', 'Nationality', 'Airport Name', 'Country', \n",
    "                    'Continents', 'Status Target', 'Cancellation Percentage per Airport', \n",
    "                    'Cancellation Percentage Female', 'Cancellation Percentage Male']\n",
    "\n",
    "df_selected = df_copy[selected_columns].copy()\n",
    "\n",
    "df_train, df_test = train_test_split(df_selected, test_size=0.2, random_state=42)\n",
    "\n",
    "X_train_tree = df_train.drop('Status Target', axis=1)\n",
    "y_train_tree = df_train['Status Target']\n",
    "\n",
    "X_test_tree = df_test.drop('Status Target', axis=1)\n",
    "y_test_tree = df_test['Status Target']\n",
    "\n",
    "numeric_features = ['Passenger ID', 'Cancellation Percentage per Airport', \n",
    "                    'Cancellation Percentage Female', 'Cancellation Percentage Male']\n",
    "numeric_transformer = Pipeline(steps=[\n",
    "    ('imputer', SimpleImputer(strategy='median')),\n",
    "    ('scaler', StandardScaler())\n",
    "])\n",
    "\n",
    "categorical_features = ['Gender', 'Nationality', 'Airport Name', 'Country', 'Continents']\n",
    "categorical_transformer = Pipeline(steps=[\n",
    "    ('imputer', SimpleImputer(strategy='constant', fill_value='missing')),\n",
    "    ('onehot', OneHotEncoder(handle_unknown='ignore'))\n",
    "])\n",
    "\n",
    "preprocessor = ColumnTransformer(\n",
    "    transformers=[\n",
    "        ('num', numeric_transformer, numeric_features),\n",
    "        ('cat', categorical_transformer, categorical_features)\n",
    "    ])\n",
    "\n",
    "tree_model = DecisionTreeClassifier(criterion='entropy', max_depth=5, min_samples_leaf=4, min_samples_split=2, random_state=42)\n",
    "\n",
    "pipeline_tree = Pipeline(steps=[('preprocessor', preprocessor),\n",
    "                                 ('classifier', tree_model)])\n",
    "\n",
    "pipeline_tree.fit(X_train_tree, y_train_tree)\n",
    "\n",
    "y_pred_tree = pipeline_tree.predict(X_test_tree)\n",
    "\n",
    "from sklearn.metrics import accuracy_score, classification_report, confusion_matrix\n",
    "\n",
    "accuracy_tree = accuracy_score(y_test_tree, y_pred_tree)\n",
    "classification_report_tree = classification_report(y_test_tree, y_pred_tree)\n",
    "confusion_matrix_tree = confusion_matrix(y_test_tree, y_pred_tree)\n",
    "\n",
    "print(\"Accuracy:\", accuracy_tree)\n",
    "print(\"\\nClassification Report:\\n\", classification_report_tree)\n",
    "print(\"Confusion Matrix:\\n\", confusion_matrix_tree)\n"
   ]
  },
  {
   "cell_type": "markdown",
   "id": "f4a2cee0",
   "metadata": {},
   "source": [
    "Recall y f1-score presentan valores muy bajos, es necesario mejorar las features del modelo para aumentar sus valores.\n"
   ]
  },
  {
   "cell_type": "code",
   "execution_count": 80,
   "id": "223149b3",
   "metadata": {},
   "outputs": [
    {
     "name": "stdout",
     "output_type": "stream",
     "text": [
      "Mejores parámetros encontrados:\n",
      "{'classifier__max_depth': 3, 'classifier__min_samples_leaf': 1, 'classifier__min_samples_split': 2}\n",
      "\n",
      "Precisión del mejor modelo en el conjunto de prueba: 0.6845271475911292\n"
     ]
    }
   ],
   "source": [
    "# A través de GridSearch volvemos a intentar una mejora de modelo con nuevos parámetros y comparamos con los resultados obtenidos.\n",
    "\n",
    "from sklearn.model_selection import GridSearchCV\n",
    "\n",
    "param_grid = {\n",
    "    'classifier__max_depth': [3, 5, 7],\n",
    "    'classifier__min_samples_split': [2, 5, 10],\n",
    "    'classifier__min_samples_leaf': [1, 2, 4]\n",
    "}\n",
    "\n",
    "grid_search = GridSearchCV(pipeline_tree, param_grid, cv=5, scoring='accuracy')\n",
    "\n",
    "grid_search.fit(X_train_tree, y_train_tree)\n",
    "\n",
    "best_params = grid_search.best_params_\n",
    "best_estimator = grid_search.best_estimator_\n",
    "\n",
    "print(\"Mejores parámetros encontrados:\")\n",
    "print(best_params)\n",
    "\n",
    "y_pred_best = best_estimator.predict(X_test_tree)\n",
    "\n",
    "accuracy_best = accuracy_score(y_test_tree, y_pred_best)\n",
    "print(\"\\nPrecisión del mejor modelo en el conjunto de prueba:\", accuracy_best)"
   ]
  },
  {
   "cell_type": "code",
   "execution_count": 82,
   "id": "d9111f42",
   "metadata": {},
   "outputs": [
    {
     "name": "stdout",
     "output_type": "stream",
     "text": [
      "Accuracy: 0.6845271475911292\n",
      "\n",
      "Classification Report:\n",
      "               precision    recall  f1-score   support\n",
      "\n",
      "           0       0.71      0.89      0.79     13044\n",
      "           1       0.56      0.27      0.36      6571\n",
      "\n",
      "    accuracy                           0.68     19615\n",
      "   macro avg       0.63      0.58      0.58     19615\n",
      "weighted avg       0.66      0.68      0.65     19615\n",
      "\n",
      "Confusion Matrix:\n",
      " [[11672  1372]\n",
      " [ 4816  1755]]\n"
     ]
    }
   ],
   "source": [
    "# Aplicamos parámetros y checkeamos resultados.\n",
    "\n",
    "pipeline_tree.set_params(classifier__max_depth=3, classifier__min_samples_leaf=1, classifier__min_samples_split=2)\n",
    "\n",
    "pipeline_tree.fit(X_train_tree, y_train_tree)\n",
    "\n",
    "y_pred_tree = pipeline_tree.predict(X_test_tree)\n",
    "\n",
    "accuracy_tree = accuracy_score(y_test_tree, y_pred_tree)\n",
    "classification_report_tree = classification_report(y_test_tree, y_pred_tree)\n",
    "confusion_matrix_tree = confusion_matrix(y_test_tree, y_pred_tree)\n",
    "\n",
    "print(\"Accuracy:\", accuracy_tree)\n",
    "print(\"\\nClassification Report:\\n\", classification_report_tree)\n",
    "print(\"Confusion Matrix:\\n\", confusion_matrix_tree)\n"
   ]
  },
  {
   "cell_type": "markdown",
   "id": "429481bb",
   "metadata": {},
   "source": [
    "Volvemos a obtener un recall y f1-score bajos para detectar Status Target 1. Será de suma importancia encontrar features más sólidas a la hora del aporte para el modelo. Necesitaremos trabajar mejor en la columna ['Departure Date'], ver si combinada con alguna otra variable más, conseguimos profundizar en estos valores obtenidos. Por otra parte ['Arrival Airport'] y ['Age'] son columnas que estoy analizando descartarlas en el uso del modelo. No encontré valor significativo en ambas aún. "
   ]
  },
  {
   "cell_type": "code",
   "execution_count": null,
   "id": "7ddf1d4b",
   "metadata": {},
   "outputs": [],
   "source": []
  }
 ],
 "metadata": {
  "kernelspec": {
   "display_name": "Python 3 (ipykernel)",
   "language": "python",
   "name": "python3"
  },
  "language_info": {
   "codemirror_mode": {
    "name": "ipython",
    "version": 3
   },
   "file_extension": ".py",
   "mimetype": "text/x-python",
   "name": "python",
   "nbconvert_exporter": "python",
   "pygments_lexer": "ipython3",
   "version": "3.11.5"
  }
 },
 "nbformat": 4,
 "nbformat_minor": 5
}
