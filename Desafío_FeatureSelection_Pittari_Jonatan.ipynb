{
 "cells": [
  {
   "cell_type": "code",
   "execution_count": 1,
   "id": "226644ab",
   "metadata": {},
   "outputs": [],
   "source": [
    "import pandas as pd\n",
    "import numpy as np\n",
    "import matplotlib as mlp\n",
    "import matplotlib.pyplot as plt\n",
    "import seaborn as sns\n",
    "import os\n",
    "from sklearn.preprocessing import LabelEncoder\n",
    "from scipy.stats import chi2_contingency\n",
    "import warnings\n",
    "warnings.simplefilter(action='ignore', category=FutureWarning)\n",
    "from sklearn.model_selection import train_test_split\n",
    "from sklearn.metrics import matthews_corrcoef\n"
   ]
  },
  {
   "cell_type": "code",
   "execution_count": 2,
   "id": "decd6267",
   "metadata": {},
   "outputs": [],
   "source": [
    "url = 'https://raw.githubusercontent.com/PittariJonatan/Data-Sets/main/Airline%20Dataset%20Updated.csv'\n",
    "df = pd.read_csv(url, sep = ',')"
   ]
  },
  {
   "cell_type": "markdown",
   "id": "3ae7630f",
   "metadata": {},
   "source": [
    "__________________________________________________________________________________________________________________"
   ]
  },
  {
   "cell_type": "markdown",
   "id": "18cc7e0b",
   "metadata": {},
   "source": [
    "# Objetivo\n",
    "## Desarrollar un modelo predictivo para reducir el riesgo de cancelaciones, entonces \"Flight Status\" será la variable \"target\", y específicamente, vamos a querer predecir cuando un vuelo  tiene tendencia a ser del tipo de estado \"Cancelled\"."
   ]
  },
  {
   "cell_type": "markdown",
   "id": "aa7be117",
   "metadata": {},
   "source": [
    "### Contexto comercial\n",
    "\n",
    "Los datos de las aerolíneas tienen una inmensa importancia ya que ofrecen información sobre el funcionamiento y la eficiencia de la industria de la aviación. Proporciona información valiosa sobre rutas de vuelo, horarios, datos demográficos de los pasajeros y preferencias, que las aerolíneas pueden aprovechar para optimizar sus operaciones y mejorar las experiencias de los clientes. Al analizar datos sobre retrasos, cancelaciones y puntualidad, las aerolíneas pueden identificar tendencias e implementar estrategias para mejorar la puntualidad y mitigar las interrupciones. Además, los organismos reguladores y los encargados de formular políticas dependen de estos datos para garantizar los estándares de seguridad, hacer cumplir las regulaciones y tomar decisiones informadas sobre las políticas de aviación."
   ]
  },
  {
   "cell_type": "markdown",
   "id": "35971263",
   "metadata": {},
   "source": [
    "### Problema comercial\n",
    "\n",
    "Las cancelaciones de vuelos son un problema clave en la industria de la aviación. Los datos de las aerolíneas son esenciales para abordar este desafío y mejorar la eficiencia operativa, además de ser cruciales para reguladores, formuladores de políticas y analistas que buscan la seguridad y la toma de decisiones informadas."
   ]
  },
  {
   "cell_type": "markdown",
   "id": "a920085a",
   "metadata": {},
   "source": [
    "### Contexto analítico\n",
    "\n",
    "El data set posee información sobre 98619 filas, las cuales corresponden a un vuelo y pasajero específico, y 15 columnas las cuales detallamos brevemente a continuación:\n",
    "\n",
    "- Passenger ID: Identificador único para cada pasajero.\n",
    "- First Name: Nombre del pasajero.\n",
    "- Last Name: Apellido del pasajero.\n",
    "- Gender: Género del pasajero (por ejemplo, Masculino, Femenino).\n",
    "- Age: Edad del pasajero.\n",
    "- Nationality: Nacionalidad del pasajero.\n",
    "- Airport Name: Nombre del aeropuerto desde donde el pasajero abordó el vuelo.\n",
    "- Airport Country Code: Código del país donde se encuentra el aeropuerto.\n",
    "- Country Name: Nombre del país donde se encuentra el aeropuerto.\n",
    "- Airport Continent: Continente donde está situado el aeropuerto.\n",
    "- Continents: Continentes involucrados en la ruta del vuelo.\n",
    "- Departure Date: Fecha en que el vuelo partió.\n",
    "- Arrival Airport: Aeropuerto de destino del vuelo.\n",
    "- Pilot Name: Nombre del piloto que opera el vuelo.\n",
    "- Flight Status: Estado actual del vuelo (por ejemplo, a tiempo, retrasado, cancelado)."
   ]
  },
  {
   "cell_type": "code",
   "execution_count": 3,
   "id": "825f00b6",
   "metadata": {},
   "outputs": [
    {
     "data": {
      "text/html": [
       "<div>\n",
       "<style scoped>\n",
       "    .dataframe tbody tr th:only-of-type {\n",
       "        vertical-align: middle;\n",
       "    }\n",
       "\n",
       "    .dataframe tbody tr th {\n",
       "        vertical-align: top;\n",
       "    }\n",
       "\n",
       "    .dataframe thead th {\n",
       "        text-align: right;\n",
       "    }\n",
       "</style>\n",
       "<table border=\"1\" class=\"dataframe\">\n",
       "  <thead>\n",
       "    <tr style=\"text-align: right;\">\n",
       "      <th></th>\n",
       "      <th>Passenger ID</th>\n",
       "      <th>First Name</th>\n",
       "      <th>Last Name</th>\n",
       "      <th>Gender</th>\n",
       "      <th>Age</th>\n",
       "      <th>Nationality</th>\n",
       "      <th>Airport Name</th>\n",
       "      <th>Airport Country Code</th>\n",
       "      <th>Country Name</th>\n",
       "      <th>Airport Continent</th>\n",
       "      <th>Continents</th>\n",
       "      <th>Departure Date</th>\n",
       "      <th>Arrival Airport</th>\n",
       "      <th>Pilot Name</th>\n",
       "      <th>Flight Status</th>\n",
       "    </tr>\n",
       "  </thead>\n",
       "  <tbody>\n",
       "    <tr>\n",
       "      <th>0</th>\n",
       "      <td>ABVWIg</td>\n",
       "      <td>Edithe</td>\n",
       "      <td>Leggis</td>\n",
       "      <td>Female</td>\n",
       "      <td>62</td>\n",
       "      <td>Japan</td>\n",
       "      <td>Coldfoot Airport</td>\n",
       "      <td>US</td>\n",
       "      <td>United States</td>\n",
       "      <td>NAM</td>\n",
       "      <td>North America</td>\n",
       "      <td>6/28/2022</td>\n",
       "      <td>CXF</td>\n",
       "      <td>Edithe Leggis</td>\n",
       "      <td>On Time</td>\n",
       "    </tr>\n",
       "    <tr>\n",
       "      <th>1</th>\n",
       "      <td>jkXXAX</td>\n",
       "      <td>Elwood</td>\n",
       "      <td>Catt</td>\n",
       "      <td>Male</td>\n",
       "      <td>62</td>\n",
       "      <td>Nicaragua</td>\n",
       "      <td>Kugluktuk Airport</td>\n",
       "      <td>CA</td>\n",
       "      <td>Canada</td>\n",
       "      <td>NAM</td>\n",
       "      <td>North America</td>\n",
       "      <td>12/26/2022</td>\n",
       "      <td>YCO</td>\n",
       "      <td>Elwood Catt</td>\n",
       "      <td>On Time</td>\n",
       "    </tr>\n",
       "    <tr>\n",
       "      <th>2</th>\n",
       "      <td>CdUz2g</td>\n",
       "      <td>Darby</td>\n",
       "      <td>Felgate</td>\n",
       "      <td>Male</td>\n",
       "      <td>67</td>\n",
       "      <td>Russia</td>\n",
       "      <td>Grenoble-Isère Airport</td>\n",
       "      <td>FR</td>\n",
       "      <td>France</td>\n",
       "      <td>EU</td>\n",
       "      <td>Europe</td>\n",
       "      <td>1/18/2022</td>\n",
       "      <td>GNB</td>\n",
       "      <td>Darby Felgate</td>\n",
       "      <td>On Time</td>\n",
       "    </tr>\n",
       "    <tr>\n",
       "      <th>3</th>\n",
       "      <td>BRS38V</td>\n",
       "      <td>Dominica</td>\n",
       "      <td>Pyle</td>\n",
       "      <td>Female</td>\n",
       "      <td>71</td>\n",
       "      <td>China</td>\n",
       "      <td>Ottawa / Gatineau Airport</td>\n",
       "      <td>CA</td>\n",
       "      <td>Canada</td>\n",
       "      <td>NAM</td>\n",
       "      <td>North America</td>\n",
       "      <td>9/16/2022</td>\n",
       "      <td>YND</td>\n",
       "      <td>Dominica Pyle</td>\n",
       "      <td>Delayed</td>\n",
       "    </tr>\n",
       "    <tr>\n",
       "      <th>4</th>\n",
       "      <td>9kvTLo</td>\n",
       "      <td>Bay</td>\n",
       "      <td>Pencost</td>\n",
       "      <td>Male</td>\n",
       "      <td>21</td>\n",
       "      <td>China</td>\n",
       "      <td>Gillespie Field</td>\n",
       "      <td>US</td>\n",
       "      <td>United States</td>\n",
       "      <td>NAM</td>\n",
       "      <td>North America</td>\n",
       "      <td>2/25/2022</td>\n",
       "      <td>SEE</td>\n",
       "      <td>Bay Pencost</td>\n",
       "      <td>On Time</td>\n",
       "    </tr>\n",
       "  </tbody>\n",
       "</table>\n",
       "</div>"
      ],
      "text/plain": [
       "  Passenger ID First Name Last Name  Gender  Age Nationality  \\\n",
       "0       ABVWIg     Edithe    Leggis  Female   62       Japan   \n",
       "1       jkXXAX     Elwood      Catt    Male   62   Nicaragua   \n",
       "2       CdUz2g      Darby   Felgate    Male   67      Russia   \n",
       "3       BRS38V   Dominica      Pyle  Female   71       China   \n",
       "4       9kvTLo        Bay   Pencost    Male   21       China   \n",
       "\n",
       "                Airport Name Airport Country Code   Country Name  \\\n",
       "0           Coldfoot Airport                   US  United States   \n",
       "1          Kugluktuk Airport                   CA         Canada   \n",
       "2     Grenoble-Isère Airport                   FR         France   \n",
       "3  Ottawa / Gatineau Airport                   CA         Canada   \n",
       "4            Gillespie Field                   US  United States   \n",
       "\n",
       "  Airport Continent     Continents Departure Date Arrival Airport  \\\n",
       "0               NAM  North America      6/28/2022             CXF   \n",
       "1               NAM  North America     12/26/2022             YCO   \n",
       "2                EU         Europe      1/18/2022             GNB   \n",
       "3               NAM  North America      9/16/2022             YND   \n",
       "4               NAM  North America      2/25/2022             SEE   \n",
       "\n",
       "      Pilot Name Flight Status  \n",
       "0  Edithe Leggis       On Time  \n",
       "1    Elwood Catt       On Time  \n",
       "2  Darby Felgate       On Time  \n",
       "3  Dominica Pyle       Delayed  \n",
       "4    Bay Pencost       On Time  "
      ]
     },
     "execution_count": 3,
     "metadata": {},
     "output_type": "execute_result"
    }
   ],
   "source": [
    "df.head()"
   ]
  },
  {
   "cell_type": "markdown",
   "id": "3968260d",
   "metadata": {},
   "source": [
    "# Interrogantes\n",
    "\n",
    "- ¿Cuál es la tasa general de cancelación de vuelos en el conjunto de datos?\n",
    "\n",
    "- ¿Existen tendencias o patrones evidentes en las cancelaciones respecto a otras categorías de vuelo?\n",
    "\n",
    "- ¿Existe una relación entre la nacionalidad de los pasajeros y la frecuencia de cancelaciones de vuelos?\n",
    "\n",
    "- ¿El país donde se encuentra el aeropuerto de origen afecta la probabilidad de cancelación de vuelos?\n",
    "\n",
    "- ¿Hay alguna influencia de la edad o género de los pasajeros en la cancelación de vuelos?\n",
    "\n",
    "- ¿Existen diferencias significativas en la tendencia de cancelaciones entre los continentes involucrados en la ruta del vuelo?\n",
    "\n",
    "- ¿Las cancelaciones tienden a ocurrir en ciertas fechas o períodos específicos?\n",
    "\n",
    "- ¿Hay alguna relación entre el piloto a cargo y la probabilidad de cancelación de vuelos?\n",
    "\n",
    "- ¿El tamaño o la categoría del aeropuerto tienen impacto en la frecuencia de cancelaciones?"
   ]
  },
  {
   "cell_type": "markdown",
   "id": "6106f96c",
   "metadata": {},
   "source": [
    "_____________________________________________________________________________________________________"
   ]
  },
  {
   "cell_type": "markdown",
   "id": "bb389a7e",
   "metadata": {},
   "source": [
    "# Análisis Exploratorio\n",
    "\n",
    "### Distribución de Estados de Vuelo\n",
    "\n",
    "Utilizamos gráficos para visualizar la distribución de los estados de vuelo, como 'On Time', 'Delayed' y 'Cancelled'. Esto nos ofrece una perspectiva inicial sobre la frecuencia de cancelaciones en relación con otros estados."
   ]
  },
  {
   "cell_type": "code",
   "execution_count": 4,
   "id": "29857046",
   "metadata": {},
   "outputs": [
    {
     "data": {
      "text/plain": [
       "Flight Status\n",
       "Cancelled    32942\n",
       "On Time      32846\n",
       "Delayed      32831\n",
       "Name: count, dtype: int64"
      ]
     },
     "execution_count": 4,
     "metadata": {},
     "output_type": "execute_result"
    }
   ],
   "source": [
    "flight_status_total = df['Flight Status'].value_counts()\n",
    "flight_status_total"
   ]
  },
  {
   "cell_type": "markdown",
   "id": "0a493ca4",
   "metadata": {},
   "source": [
    "- La distribución de los 3 estados de vuelo contemplados en el df nos muestra un equilibrio numérico un tanto peculiar, ya que presenta cantidades cuantitativamente muy similares. Normal?"
   ]
  },
  {
   "cell_type": "code",
   "execution_count": 5,
   "id": "24a11909",
   "metadata": {},
   "outputs": [
    {
     "data": {
      "image/png": "[encoded data removed]",
      "text/plain": [
       "<Figure size 800x600 with 1 Axes>"
      ]
     },
     "metadata": {},
     "output_type": "display_data"
    }
   ],
   "source": [
    "custom_colors = {'On Time': 'green', 'Delayed': 'yellow', 'Cancelled': 'red'}\n",
    "\n",
    "plt.figure(figsize=(8, 6))\n",
    "\n",
    "# Utilizar la paleta 'Set2' y asignar colores directamente\n",
    "sns.countplot(x='Flight Status', data=df, order=df['Flight Status'].value_counts().index, palette=['red', 'green', 'yellow'])\n",
    "\n",
    "plt.title('Distribución de Estados de Vuelo')\n",
    "plt.xlabel('Estado del Vuelo')\n",
    "plt.ylabel('Cantidad')\n",
    "\n",
    "plt.show()"
   ]
  },
  {
   "cell_type": "markdown",
   "id": "6c8635f2",
   "metadata": {},
   "source": [
    "### Distribución por Género"
   ]
  },
  {
   "cell_type": "code",
   "execution_count": 6,
   "id": "7eed86c9",
   "metadata": {},
   "outputs": [
    {
     "data": {
      "text/plain": [
       "Gender\n",
       "Male      49598\n",
       "Female    49021\n",
       "Name: count, dtype: int64"
      ]
     },
     "execution_count": 6,
     "metadata": {},
     "output_type": "execute_result"
    }
   ],
   "source": [
    "gender_counts = df['Gender'].value_counts()\n",
    "gender_counts"
   ]
  },
  {
   "cell_type": "markdown",
   "id": "31cfb029",
   "metadata": {},
   "source": [
    "- Podemos observar una distribución demasiado simétrica entre ambas clasificaciones, dejandonos así solo una infima diferencia de 577 personas por sobre un total de 98619, es decir, apenas un 0,58 % del total."
   ]
  },
  {
   "cell_type": "code",
   "execution_count": 7,
   "id": "864b1901",
   "metadata": {},
   "outputs": [
    {
     "data": {
      "image/png": "[encoded data removed]",
      "text/plain": [
       "<Figure size 800x600 with 1 Axes>"
      ]
     },
     "metadata": {},
     "output_type": "display_data"
    }
   ],
   "source": [
    "plt.figure(figsize=(8, 6))\n",
    "gender_counts.plot(kind='bar', color=['blue', 'pink'], alpha=1)\n",
    "plt.title('Distribución de Género en el Conjunto de Datos')\n",
    "plt.xlabel('Género')\n",
    "plt.ylabel('Número de Personas')\n",
    "plt.show()"
   ]
  },
  {
   "cell_type": "markdown",
   "id": "db67b19b",
   "metadata": {},
   "source": [
    "### Distribución por rango de edades\n",
    "\n",
    "Buscaremos agrupar en 5 categorías la cantidad de pasajeros:\n",
    " - rango 1 de 0 a 20\n",
    " - rango 2 de 20 a 40\n",
    " - rango 3 de 40 a 60\n",
    " - rango 4 de 60 a 80\n",
    " - rango 5 de 80 a 100"
   ]
  },
  {
   "cell_type": "code",
   "execution_count": 8,
   "id": "b30cdb9c",
   "metadata": {},
   "outputs": [
    {
     "data": {
      "image/png": "[encoded data removed]",
      "text/plain": [
       "<Figure size 1000x600 with 1 Axes>"
      ]
     },
     "metadata": {},
     "output_type": "display_data"
    }
   ],
   "source": [
    "plt.figure(figsize=(10, 6))\n",
    "\n",
    "bins = [0, 20, 40, 60, 80, 100]\n",
    "\n",
    "plt.hist(df['Age'], bins=bins, color='blue', edgecolor='black')\n",
    "\n",
    "plt.title('Distribución de Edades en Rangos')\n",
    "plt.xlabel('Edad')\n",
    "plt.ylabel('Cantidad de Pasajeros')\n",
    "plt.show()"
   ]
  },
  {
   "cell_type": "markdown",
   "id": "4955efb8",
   "metadata": {},
   "source": [
    "- Como podemos observar la distribución de edades presenta un emparejamiento cuantitativo bastante similar, el cual ya observarmos en antiguos desglozamientos. El único rango que nos presento variación significativa es el 5 (el cual posee edades de 80 a 100) pero solo se presenta porque la cantidad de personas dentro del mismo  es menor, dado que solo aloja registros hasta 90 como máximo. Entonces el rango 5 es utilizado solo a la mitad de su capacidad, y el número que nos presenta esta categoría coincide aproximadamente con la mitad de los restantes. Curioso equilibrio.\n",
    "\n"
   ]
  },
  {
   "cell_type": "code",
   "execution_count": 9,
   "id": "4f196ff9",
   "metadata": {},
   "outputs": [
    {
     "data": {
      "text/plain": [
       "90"
      ]
     },
     "execution_count": 9,
     "metadata": {},
     "output_type": "execute_result"
    }
   ],
   "source": [
    "df['Age'].max()"
   ]
  },
  {
   "cell_type": "code",
   "execution_count": 10,
   "id": "92142d54",
   "metadata": {},
   "outputs": [
    {
     "data": {
      "text/plain": [
       "Age Group\n",
       "(40, 60]     22145\n",
       "(20, 40]     21882\n",
       "(60, 80]     21854\n",
       "(0, 20]      21820\n",
       "(80, 100]    10918\n",
       "Name: count, dtype: int64"
      ]
     },
     "execution_count": 10,
     "metadata": {},
     "output_type": "execute_result"
    }
   ],
   "source": [
    "df['Age Group'] = pd.cut(df['Age'], bins=bins)\n",
    "age_group_counts = df['Age Group'].value_counts()\n",
    "age_group_counts"
   ]
  },
  {
   "cell_type": "markdown",
   "id": "9e4cd3ca",
   "metadata": {},
   "source": [
    "# Observación importante\n",
    "\n",
    "Nótese, tanto gráfica como cuantitativamente, que el conjunto de datos exhibe un equilibrio demasiado simétrico en sus variables. Observamos una distribución muy similar en relación con el estado del vuelo (Flight Status), la edad (Age) y el género (Gender). Esto me lleva a reflexionar que tal vez estemos frente a un DataFrame manipulado con fines específicos, similar a un ejercicio particular (como la mecánica de una búsqueda del tesoro, por ejemplo, donde el mapa presenta diferentes caminos, pero el creador solo pretende que tomemos uno en particular para llegar al destino). No considero que sea un DataFrame basado en datos reales que pueda coincidir con la extracción de información externa de una API."
   ]
  },
  {
   "cell_type": "markdown",
   "id": "06b36855",
   "metadata": {},
   "source": [
    "____________________________________________________________________________________________________________"
   ]
  },
  {
   "cell_type": "markdown",
   "id": "5efa8458",
   "metadata": {},
   "source": [
    "## Limpieza y Preprocesamiento de Datos\n",
    "\n",
    "Abordamos valores faltantes y duplicados para garantizar la integridad de nuestros análisis. Además, normalizamos los datos y nos aseguramos de que estén listos para ser utilizados en nuestro estudio."
   ]
  },
  {
   "cell_type": "markdown",
   "id": "08cf1ce2",
   "metadata": {},
   "source": [
    "#### Eliminamos las columnas First Name, Last Name y Pilot Name ya que no hay personas, ni pilotos con más de dos vuelos registrados. Son columnas que no agregaran un valor significativo a nuestro modelo predictivo. También dropeamos Airport Country Code y Airport Continent por una cuestión de redundancia con respecto a Country Name y Continents."
   ]
  },
  {
   "cell_type": "code",
   "execution_count": 11,
   "id": "e3bbd52c",
   "metadata": {},
   "outputs": [],
   "source": [
    "df = df.drop(columns= ['First Name', 'Last Name', 'Pilot Name', 'Airport Country Code', 'Airport Continent'])"
   ]
  },
  {
   "cell_type": "markdown",
   "id": "c1c29913",
   "metadata": {},
   "source": [
    "#### Convertimos la variable Departure Date a formato tiempo."
   ]
  },
  {
   "cell_type": "code",
   "execution_count": 12,
   "id": "638f487b",
   "metadata": {},
   "outputs": [],
   "source": [
    "df['Departure Date'] = pd.to_datetime(df['Departure Date'])"
   ]
  },
  {
   "cell_type": "markdown",
   "id": "eb01a3dd",
   "metadata": {},
   "source": [
    "#### Cambiamos la numeración de Passenger ID de un formato con código asignado para el registro del aeropuerto a un rango de números mas legibles y de fácil procesamiento en caso de ser requerido."
   ]
  },
  {
   "cell_type": "code",
   "execution_count": 13,
   "id": "9fb8d1a9",
   "metadata": {},
   "outputs": [],
   "source": [
    "df['Passenger ID'] = range(0, len(df))"
   ]
  },
  {
   "cell_type": "markdown",
   "id": "5cec9fc3",
   "metadata": {},
   "source": [
    "####  Primero, debemos separar el data set en una parte para entrenamiento del algoritmo (df_train) y otra para el testeo del mismo (df_test). Como pretendemos realizar una regresión logística para predecir una posible cancelación en este conjuntos de datos, tomamos Flight Status la convertimos en una variable binaria. Dado que solo apuntamos a los cancelados ( == 1 ), tomaremos los On Time y Delayed como un mismo conjunto ( == 0 ). Posteriormente dividimos los datos en conjuntos de entrenamiento y prueba."
   ]
  },
  {
   "cell_type": "code",
   "execution_count": 14,
   "id": "1efb0275",
   "metadata": {},
   "outputs": [],
   "source": [
    "df['Flight Status'] = df['Flight Status'].apply(lambda x: 1 if x == 'Cancelled' else 0)\n",
    "\n",
    "df_train, df_test = train_test_split(df, test_size=0.3, random_state=42)"
   ]
  },
  {
   "cell_type": "code",
   "execution_count": 15,
   "id": "b270353b",
   "metadata": {},
   "outputs": [
    {
     "data": {
      "text/html": [
       "<div>\n",
       "<style scoped>\n",
       "    .dataframe tbody tr th:only-of-type {\n",
       "        vertical-align: middle;\n",
       "    }\n",
       "\n",
       "    .dataframe tbody tr th {\n",
       "        vertical-align: top;\n",
       "    }\n",
       "\n",
       "    .dataframe thead th {\n",
       "        text-align: right;\n",
       "    }\n",
       "</style>\n",
       "<table border=\"1\" class=\"dataframe\">\n",
       "  <thead>\n",
       "    <tr style=\"text-align: right;\">\n",
       "      <th></th>\n",
       "      <th>Passenger ID</th>\n",
       "      <th>Gender</th>\n",
       "      <th>Age</th>\n",
       "      <th>Nationality</th>\n",
       "      <th>Airport Name</th>\n",
       "      <th>Country Name</th>\n",
       "      <th>Continents</th>\n",
       "      <th>Departure Date</th>\n",
       "      <th>Arrival Airport</th>\n",
       "      <th>Flight Status</th>\n",
       "      <th>Age Group</th>\n",
       "    </tr>\n",
       "  </thead>\n",
       "  <tbody>\n",
       "    <tr>\n",
       "      <th>28204</th>\n",
       "      <td>28204</td>\n",
       "      <td>Male</td>\n",
       "      <td>61</td>\n",
       "      <td>Russia</td>\n",
       "      <td>Kabri Dehar Airport</td>\n",
       "      <td>Ethiopia</td>\n",
       "      <td>Africa</td>\n",
       "      <td>2022-09-07</td>\n",
       "      <td>ABK</td>\n",
       "      <td>0</td>\n",
       "      <td>(60, 80]</td>\n",
       "    </tr>\n",
       "    <tr>\n",
       "      <th>6048</th>\n",
       "      <td>6048</td>\n",
       "      <td>Female</td>\n",
       "      <td>11</td>\n",
       "      <td>Portugal</td>\n",
       "      <td>Mornington Island Airport</td>\n",
       "      <td>Australia</td>\n",
       "      <td>Oceania</td>\n",
       "      <td>2022-02-15</td>\n",
       "      <td>ONG</td>\n",
       "      <td>1</td>\n",
       "      <td>(0, 20]</td>\n",
       "    </tr>\n",
       "    <tr>\n",
       "      <th>67079</th>\n",
       "      <td>67079</td>\n",
       "      <td>Male</td>\n",
       "      <td>62</td>\n",
       "      <td>China</td>\n",
       "      <td>Dallas Fort Worth International Airport</td>\n",
       "      <td>United States</td>\n",
       "      <td>North America</td>\n",
       "      <td>2022-03-09</td>\n",
       "      <td>DFW</td>\n",
       "      <td>0</td>\n",
       "      <td>(60, 80]</td>\n",
       "    </tr>\n",
       "    <tr>\n",
       "      <th>65825</th>\n",
       "      <td>65825</td>\n",
       "      <td>Female</td>\n",
       "      <td>49</td>\n",
       "      <td>Syria</td>\n",
       "      <td>Vinh Airport</td>\n",
       "      <td>Viet Nam</td>\n",
       "      <td>Asia</td>\n",
       "      <td>2022-07-10</td>\n",
       "      <td>VII</td>\n",
       "      <td>1</td>\n",
       "      <td>(40, 60]</td>\n",
       "    </tr>\n",
       "    <tr>\n",
       "      <th>11010</th>\n",
       "      <td>11010</td>\n",
       "      <td>Female</td>\n",
       "      <td>72</td>\n",
       "      <td>Colombia</td>\n",
       "      <td>Jose Maria Velasco Ibarra Airport</td>\n",
       "      <td>Ecuador</td>\n",
       "      <td>South America</td>\n",
       "      <td>2022-01-20</td>\n",
       "      <td>MRR</td>\n",
       "      <td>1</td>\n",
       "      <td>(60, 80]</td>\n",
       "    </tr>\n",
       "    <tr>\n",
       "      <th>...</th>\n",
       "      <td>...</td>\n",
       "      <td>...</td>\n",
       "      <td>...</td>\n",
       "      <td>...</td>\n",
       "      <td>...</td>\n",
       "      <td>...</td>\n",
       "      <td>...</td>\n",
       "      <td>...</td>\n",
       "      <td>...</td>\n",
       "      <td>...</td>\n",
       "      <td>...</td>\n",
       "    </tr>\n",
       "    <tr>\n",
       "      <th>6265</th>\n",
       "      <td>6265</td>\n",
       "      <td>Male</td>\n",
       "      <td>86</td>\n",
       "      <td>China</td>\n",
       "      <td>Moolawatana Airport</td>\n",
       "      <td>Australia</td>\n",
       "      <td>Oceania</td>\n",
       "      <td>2022-02-12</td>\n",
       "      <td>MWT</td>\n",
       "      <td>0</td>\n",
       "      <td>(80, 100]</td>\n",
       "    </tr>\n",
       "    <tr>\n",
       "      <th>54886</th>\n",
       "      <td>54886</td>\n",
       "      <td>Male</td>\n",
       "      <td>43</td>\n",
       "      <td>Portugal</td>\n",
       "      <td>Minhas Air Base</td>\n",
       "      <td>Pakistan</td>\n",
       "      <td>Asia</td>\n",
       "      <td>2022-12-19</td>\n",
       "      <td>ATG</td>\n",
       "      <td>1</td>\n",
       "      <td>(40, 60]</td>\n",
       "    </tr>\n",
       "    <tr>\n",
       "      <th>76820</th>\n",
       "      <td>76820</td>\n",
       "      <td>Female</td>\n",
       "      <td>15</td>\n",
       "      <td>Portugal</td>\n",
       "      <td>Boundary Airport</td>\n",
       "      <td>United States</td>\n",
       "      <td>North America</td>\n",
       "      <td>2022-06-26</td>\n",
       "      <td>BYA</td>\n",
       "      <td>0</td>\n",
       "      <td>(0, 20]</td>\n",
       "    </tr>\n",
       "    <tr>\n",
       "      <th>860</th>\n",
       "      <td>860</td>\n",
       "      <td>Male</td>\n",
       "      <td>28</td>\n",
       "      <td>Indonesia</td>\n",
       "      <td>Sandstone Airport</td>\n",
       "      <td>Australia</td>\n",
       "      <td>Oceania</td>\n",
       "      <td>2022-01-03</td>\n",
       "      <td>NDS</td>\n",
       "      <td>0</td>\n",
       "      <td>(20, 40]</td>\n",
       "    </tr>\n",
       "    <tr>\n",
       "      <th>15795</th>\n",
       "      <td>15795</td>\n",
       "      <td>Male</td>\n",
       "      <td>28</td>\n",
       "      <td>China</td>\n",
       "      <td>Ozona Municipal Airport</td>\n",
       "      <td>United States</td>\n",
       "      <td>North America</td>\n",
       "      <td>2022-11-29</td>\n",
       "      <td>OZA</td>\n",
       "      <td>0</td>\n",
       "      <td>(20, 40]</td>\n",
       "    </tr>\n",
       "  </tbody>\n",
       "</table>\n",
       "<p>69033 rows × 11 columns</p>\n",
       "</div>"
      ],
      "text/plain": [
       "       Passenger ID  Gender  Age Nationality  \\\n",
       "28204         28204    Male   61      Russia   \n",
       "6048           6048  Female   11    Portugal   \n",
       "67079         67079    Male   62       China   \n",
       "65825         65825  Female   49       Syria   \n",
       "11010         11010  Female   72    Colombia   \n",
       "...             ...     ...  ...         ...   \n",
       "6265           6265    Male   86       China   \n",
       "54886         54886    Male   43    Portugal   \n",
       "76820         76820  Female   15    Portugal   \n",
       "860             860    Male   28   Indonesia   \n",
       "15795         15795    Male   28       China   \n",
       "\n",
       "                                  Airport Name   Country Name     Continents  \\\n",
       "28204                      Kabri Dehar Airport       Ethiopia         Africa   \n",
       "6048                 Mornington Island Airport      Australia        Oceania   \n",
       "67079  Dallas Fort Worth International Airport  United States  North America   \n",
       "65825                             Vinh Airport       Viet Nam           Asia   \n",
       "11010        Jose Maria Velasco Ibarra Airport        Ecuador  South America   \n",
       "...                                        ...            ...            ...   \n",
       "6265                       Moolawatana Airport      Australia        Oceania   \n",
       "54886                          Minhas Air Base       Pakistan           Asia   \n",
       "76820                         Boundary Airport  United States  North America   \n",
       "860                          Sandstone Airport      Australia        Oceania   \n",
       "15795                  Ozona Municipal Airport  United States  North America   \n",
       "\n",
       "      Departure Date Arrival Airport  Flight Status  Age Group  \n",
       "28204     2022-09-07             ABK              0   (60, 80]  \n",
       "6048      2022-02-15             ONG              1    (0, 20]  \n",
       "67079     2022-03-09             DFW              0   (60, 80]  \n",
       "65825     2022-07-10             VII              1   (40, 60]  \n",
       "11010     2022-01-20             MRR              1   (60, 80]  \n",
       "...              ...             ...            ...        ...  \n",
       "6265      2022-02-12             MWT              0  (80, 100]  \n",
       "54886     2022-12-19             ATG              1   (40, 60]  \n",
       "76820     2022-06-26             BYA              0    (0, 20]  \n",
       "860       2022-01-03             NDS              0   (20, 40]  \n",
       "15795     2022-11-29             OZA              0   (20, 40]  \n",
       "\n",
       "[69033 rows x 11 columns]"
      ]
     },
     "execution_count": 15,
     "metadata": {},
     "output_type": "execute_result"
    }
   ],
   "source": [
    "df_train"
   ]
  },
  {
   "cell_type": "markdown",
   "id": "a51bf069",
   "metadata": {},
   "source": [
    "#### Calculamos el valor de la correlación entre 'Age' y 'Flight Status'. El resultado es -0.003967036762306412, lo que indica que no hay una correlación lineal significativa entre la edad de los pasajeros y la probabilidad de que sus vuelos sean cancelados."
   ]
  },
  {
   "cell_type": "code",
   "execution_count": 16,
   "id": "bbb50c7d",
   "metadata": {},
   "outputs": [
    {
     "data": {
      "text/plain": [
       "-0.003967036762306412"
      ]
     },
     "execution_count": 16,
     "metadata": {},
     "output_type": "execute_result"
    }
   ],
   "source": [
    "correlation_matrix = df_train[['Age', 'Flight Status']].corr()\n",
    "correlation_age_target = correlation_matrix.loc['Age', 'Flight Status']\n",
    "correlation_age_target"
   ]
  },
  {
   "cell_type": "markdown",
   "id": "00d0bb62",
   "metadata": {},
   "source": [
    "#### Convertimos la variable Gender a formato binario para su posterior evaluación del coeficiente de correlación de Matthews con respecto a Flight Status. El resultado es un valor muy cercano a cero. Esto indica que, al menos dentro del conjunto de datos de entrenamiento, no hay una asociación significativa entre el género del pasajero y la probabilidad de que su vuelo sea cancelado."
   ]
  },
  {
   "cell_type": "code",
   "execution_count": 17,
   "id": "e4ee6fa1",
   "metadata": {},
   "outputs": [
    {
     "data": {
      "text/plain": [
       "0.0010416881963464795"
      ]
     },
     "execution_count": 17,
     "metadata": {},
     "output_type": "execute_result"
    }
   ],
   "source": [
    "df_train['Gender Encoded'] = df_train['Gender'].apply(lambda x: 1 if x == 'Female' else 0)\n",
    "\n",
    "phi_coefficient = matthews_corrcoef(df_train['Gender Encoded'], df_train['Flight Status'])\n",
    "phi_coefficient"
   ]
  },
  {
   "cell_type": "markdown",
   "id": "110beb30",
   "metadata": {},
   "source": [
    "#### Primero calculamos la tasa de cancelación por aeropuerto en el conj. entrenamiento. Posteriormente mapeamos la tasa de cancelaciones y calculamos la correlación existente entre la variable Airport Cancellation Rate con respecto a nuestro Target, es decir, Flight Status."
   ]
  },
  {
   "cell_type": "code",
   "execution_count": 18,
   "id": "e0c991b2",
   "metadata": {},
   "outputs": [
    {
     "data": {
      "text/plain": [
       "0.36304321806028744"
      ]
     },
     "execution_count": 18,
     "metadata": {},
     "output_type": "execute_result"
    }
   ],
   "source": [
    "airport_cancellation_rates = df_train.groupby('Airport Name')['Flight Status'].mean()\n",
    "\n",
    "df_train['Airport Cancellation Rate'] = df_train['Airport Name'].map(airport_cancellation_rates)\n",
    "\n",
    "correlation_airport_cancellation = df_train['Airport Cancellation Rate'].corr(df_train['Flight Status'])\n",
    "\n",
    "correlation_airport_cancellation"
   ]
  },
  {
   "cell_type": "markdown",
   "id": "5d72880b",
   "metadata": {},
   "source": [
    "#### Vemos una relación positiva moderada. Esto sugiere que existe una asociación estadísticamente significativa entre el aeropuerto de donde parte el vuelo y la probabilidad de que el vuelo sea cancelado. Airport Cancellation Rate podría ser un predictor útil para incluir en el modelo de regresión logística."
   ]
  },
  {
   "cell_type": "markdown",
   "id": "50960819",
   "metadata": {},
   "source": [
    "#### Procedemos a indagar la correlación entre Country Name y nuestra variable Target [Flight Status], para ello en una primera instancia calculamos la tasa de cancelación por país en df_train. Posteriormente mapeamos dicha tasa en una variable llamada [Country Cancellation Rate] y como último paso, calculamos la relacion entre dicha columna y nuestro objetivo."
   ]
  },
  {
   "cell_type": "code",
   "execution_count": 19,
   "id": "f0f9b9e0",
   "metadata": {},
   "outputs": [
    {
     "data": {
      "text/plain": [
       "0.05431774887736149"
      ]
     },
     "execution_count": 19,
     "metadata": {},
     "output_type": "execute_result"
    }
   ],
   "source": [
    "country_cancellation_rates = df_train.groupby('Country Name')['Flight Status'].mean()\n",
    "\n",
    "df_train['Country Cancellation Rate'] = df_train['Country Name'].map(country_cancellation_rates)\n",
    "\n",
    "correlation_country_cancellation = df_train['Country Cancellation Rate'].corr(df_train['Flight Status'])\n",
    "correlation_country_cancellation"
   ]
  },
  {
   "cell_type": "markdown",
   "id": "ada7bc00",
   "metadata": {},
   "source": [
    "#### El valor de correlación de 0.054, indica una correlación positiva, aunque bastante débil. Esto sugiere que hay una leve asociación entre el país desde el cual opera el vuelo y la probabilidad de que el vuelo sea cancelado. Aunque la tasa de cancelación de vuelos de un país tiene algún grado de relación con las cancelaciones de vuelos, no es un predictor fuerte por sí mismo."
   ]
  },
  {
   "cell_type": "markdown",
   "id": "8209fac1",
   "metadata": {},
   "source": [
    "#### Procedemos a indagar la correlación entre Continents y nuestra variable Target [Flight Status], para ello en una primera instancia calculamos la tasa de cancelación por país en df_train. Posteriormente mapeamos dicha tasa en una variable llamada [Continents Cancellation Rate] y como último paso, calculamos la relacion entre dicha columna y nuestro objetivo."
   ]
  },
  {
   "cell_type": "code",
   "execution_count": 20,
   "id": "b8ccdb75",
   "metadata": {},
   "outputs": [
    {
     "ename": "ValueError",
     "evalue": "Could not interpret value `Continents Cancellation Rate` for parameter `x`",
     "output_type": "error",
     "traceback": [
      "\u001b[1;31m---------------------------------------------------------------------------\u001b[0m",
      "\u001b[1;31mValueError\u001b[0m                                Traceback (most recent call last)",
      "Cell \u001b[1;32mIn[20], line 2\u001b[0m\n\u001b[0;32m      1\u001b[0m plt\u001b[38;5;241m.\u001b[39mfigure(figsize\u001b[38;5;241m=\u001b[39m(\u001b[38;5;241m8\u001b[39m, \u001b[38;5;241m6\u001b[39m))\n\u001b[1;32m----> 2\u001b[0m sns\u001b[38;5;241m.\u001b[39mscatterplot(x\u001b[38;5;241m=\u001b[39m\u001b[38;5;124m'\u001b[39m\u001b[38;5;124mContinents Cancellation Rate\u001b[39m\u001b[38;5;124m'\u001b[39m, y\u001b[38;5;241m=\u001b[39m\u001b[38;5;124m'\u001b[39m\u001b[38;5;124mFlight Status\u001b[39m\u001b[38;5;124m'\u001b[39m, data\u001b[38;5;241m=\u001b[39mdf_train)\n\u001b[0;32m      3\u001b[0m plt\u001b[38;5;241m.\u001b[39mtitle(\u001b[38;5;124m'\u001b[39m\u001b[38;5;124mRelación entre Tasa de Cancelación por Continente y Flight Status\u001b[39m\u001b[38;5;124m'\u001b[39m)\n\u001b[0;32m      4\u001b[0m plt\u001b[38;5;241m.\u001b[39mxlabel(\u001b[38;5;124m'\u001b[39m\u001b[38;5;124mTasa de Cancelación por Continente\u001b[39m\u001b[38;5;124m'\u001b[39m)\n",
      "File \u001b[1;32m~\\miniconda3\\Lib\\site-packages\\seaborn\\relational.py:742\u001b[0m, in \u001b[0;36mscatterplot\u001b[1;34m(data, x, y, hue, size, style, palette, hue_order, hue_norm, sizes, size_order, size_norm, markers, style_order, legend, ax, **kwargs)\u001b[0m\n\u001b[0;32m    732\u001b[0m \u001b[38;5;28;01mdef\u001b[39;00m \u001b[38;5;21mscatterplot\u001b[39m(\n\u001b[0;32m    733\u001b[0m     data\u001b[38;5;241m=\u001b[39m\u001b[38;5;28;01mNone\u001b[39;00m, \u001b[38;5;241m*\u001b[39m,\n\u001b[0;32m    734\u001b[0m     x\u001b[38;5;241m=\u001b[39m\u001b[38;5;28;01mNone\u001b[39;00m, y\u001b[38;5;241m=\u001b[39m\u001b[38;5;28;01mNone\u001b[39;00m, hue\u001b[38;5;241m=\u001b[39m\u001b[38;5;28;01mNone\u001b[39;00m, size\u001b[38;5;241m=\u001b[39m\u001b[38;5;28;01mNone\u001b[39;00m, style\u001b[38;5;241m=\u001b[39m\u001b[38;5;28;01mNone\u001b[39;00m,\n\u001b[1;32m   (...)\u001b[0m\n\u001b[0;32m    738\u001b[0m     \u001b[38;5;241m*\u001b[39m\u001b[38;5;241m*\u001b[39mkwargs\n\u001b[0;32m    739\u001b[0m ):\n\u001b[0;32m    741\u001b[0m     variables \u001b[38;5;241m=\u001b[39m _ScatterPlotter\u001b[38;5;241m.\u001b[39mget_semantics(\u001b[38;5;28mlocals\u001b[39m())\n\u001b[1;32m--> 742\u001b[0m     p \u001b[38;5;241m=\u001b[39m _ScatterPlotter(data\u001b[38;5;241m=\u001b[39mdata, variables\u001b[38;5;241m=\u001b[39mvariables, legend\u001b[38;5;241m=\u001b[39mlegend)\n\u001b[0;32m    744\u001b[0m     p\u001b[38;5;241m.\u001b[39mmap_hue(palette\u001b[38;5;241m=\u001b[39mpalette, order\u001b[38;5;241m=\u001b[39mhue_order, norm\u001b[38;5;241m=\u001b[39mhue_norm)\n\u001b[0;32m    745\u001b[0m     p\u001b[38;5;241m.\u001b[39mmap_size(sizes\u001b[38;5;241m=\u001b[39msizes, order\u001b[38;5;241m=\u001b[39msize_order, norm\u001b[38;5;241m=\u001b[39msize_norm)\n",
      "File \u001b[1;32m~\\miniconda3\\Lib\\site-packages\\seaborn\\relational.py:538\u001b[0m, in \u001b[0;36m_ScatterPlotter.__init__\u001b[1;34m(self, data, variables, legend)\u001b[0m\n\u001b[0;32m    529\u001b[0m \u001b[38;5;28;01mdef\u001b[39;00m \u001b[38;5;21m__init__\u001b[39m(\u001b[38;5;28mself\u001b[39m, \u001b[38;5;241m*\u001b[39m, data\u001b[38;5;241m=\u001b[39m\u001b[38;5;28;01mNone\u001b[39;00m, variables\u001b[38;5;241m=\u001b[39m{}, legend\u001b[38;5;241m=\u001b[39m\u001b[38;5;28;01mNone\u001b[39;00m):\n\u001b[0;32m    530\u001b[0m \n\u001b[0;32m    531\u001b[0m     \u001b[38;5;66;03m# TODO this is messy, we want the mapping to be agnostic about\u001b[39;00m\n\u001b[0;32m    532\u001b[0m     \u001b[38;5;66;03m# the kind of plot to draw, but for the time being we need to set\u001b[39;00m\n\u001b[0;32m    533\u001b[0m     \u001b[38;5;66;03m# this information so the SizeMapping can use it\u001b[39;00m\n\u001b[0;32m    534\u001b[0m     \u001b[38;5;28mself\u001b[39m\u001b[38;5;241m.\u001b[39m_default_size_range \u001b[38;5;241m=\u001b[39m (\n\u001b[0;32m    535\u001b[0m         np\u001b[38;5;241m.\u001b[39mr_[\u001b[38;5;241m.5\u001b[39m, \u001b[38;5;241m2\u001b[39m] \u001b[38;5;241m*\u001b[39m np\u001b[38;5;241m.\u001b[39msquare(mpl\u001b[38;5;241m.\u001b[39mrcParams[\u001b[38;5;124m\"\u001b[39m\u001b[38;5;124mlines.markersize\u001b[39m\u001b[38;5;124m\"\u001b[39m])\n\u001b[0;32m    536\u001b[0m     )\n\u001b[1;32m--> 538\u001b[0m     \u001b[38;5;28msuper\u001b[39m()\u001b[38;5;241m.\u001b[39m\u001b[38;5;21m__init__\u001b[39m(data\u001b[38;5;241m=\u001b[39mdata, variables\u001b[38;5;241m=\u001b[39mvariables)\n\u001b[0;32m    540\u001b[0m     \u001b[38;5;28mself\u001b[39m\u001b[38;5;241m.\u001b[39mlegend \u001b[38;5;241m=\u001b[39m legend\n",
      "File \u001b[1;32m~\\miniconda3\\Lib\\site-packages\\seaborn\\_oldcore.py:640\u001b[0m, in \u001b[0;36mVectorPlotter.__init__\u001b[1;34m(self, data, variables)\u001b[0m\n\u001b[0;32m    635\u001b[0m \u001b[38;5;66;03m# var_ordered is relevant only for categorical axis variables, and may\u001b[39;00m\n\u001b[0;32m    636\u001b[0m \u001b[38;5;66;03m# be better handled by an internal axis information object that tracks\u001b[39;00m\n\u001b[0;32m    637\u001b[0m \u001b[38;5;66;03m# such information and is set up by the scale_* methods. The analogous\u001b[39;00m\n\u001b[0;32m    638\u001b[0m \u001b[38;5;66;03m# information for numeric axes would be information about log scales.\u001b[39;00m\n\u001b[0;32m    639\u001b[0m \u001b[38;5;28mself\u001b[39m\u001b[38;5;241m.\u001b[39m_var_ordered \u001b[38;5;241m=\u001b[39m {\u001b[38;5;124m\"\u001b[39m\u001b[38;5;124mx\u001b[39m\u001b[38;5;124m\"\u001b[39m: \u001b[38;5;28;01mFalse\u001b[39;00m, \u001b[38;5;124m\"\u001b[39m\u001b[38;5;124my\u001b[39m\u001b[38;5;124m\"\u001b[39m: \u001b[38;5;28;01mFalse\u001b[39;00m}  \u001b[38;5;66;03m# alt., used DefaultDict\u001b[39;00m\n\u001b[1;32m--> 640\u001b[0m \u001b[38;5;28mself\u001b[39m\u001b[38;5;241m.\u001b[39massign_variables(data, variables)\n\u001b[0;32m    642\u001b[0m \u001b[38;5;28;01mfor\u001b[39;00m var, \u001b[38;5;28mcls\u001b[39m \u001b[38;5;129;01min\u001b[39;00m \u001b[38;5;28mself\u001b[39m\u001b[38;5;241m.\u001b[39m_semantic_mappings\u001b[38;5;241m.\u001b[39mitems():\n\u001b[0;32m    643\u001b[0m \n\u001b[0;32m    644\u001b[0m     \u001b[38;5;66;03m# Create the mapping function\u001b[39;00m\n\u001b[0;32m    645\u001b[0m     map_func \u001b[38;5;241m=\u001b[39m partial(\u001b[38;5;28mcls\u001b[39m\u001b[38;5;241m.\u001b[39mmap, plotter\u001b[38;5;241m=\u001b[39m\u001b[38;5;28mself\u001b[39m)\n",
      "File \u001b[1;32m~\\miniconda3\\Lib\\site-packages\\seaborn\\_oldcore.py:701\u001b[0m, in \u001b[0;36mVectorPlotter.assign_variables\u001b[1;34m(self, data, variables)\u001b[0m\n\u001b[0;32m    699\u001b[0m \u001b[38;5;28;01melse\u001b[39;00m:\n\u001b[0;32m    700\u001b[0m     \u001b[38;5;28mself\u001b[39m\u001b[38;5;241m.\u001b[39minput_format \u001b[38;5;241m=\u001b[39m \u001b[38;5;124m\"\u001b[39m\u001b[38;5;124mlong\u001b[39m\u001b[38;5;124m\"\u001b[39m\n\u001b[1;32m--> 701\u001b[0m     plot_data, variables \u001b[38;5;241m=\u001b[39m \u001b[38;5;28mself\u001b[39m\u001b[38;5;241m.\u001b[39m_assign_variables_longform(\n\u001b[0;32m    702\u001b[0m         data, \u001b[38;5;241m*\u001b[39m\u001b[38;5;241m*\u001b[39mvariables,\n\u001b[0;32m    703\u001b[0m     )\n\u001b[0;32m    705\u001b[0m \u001b[38;5;28mself\u001b[39m\u001b[38;5;241m.\u001b[39mplot_data \u001b[38;5;241m=\u001b[39m plot_data\n\u001b[0;32m    706\u001b[0m \u001b[38;5;28mself\u001b[39m\u001b[38;5;241m.\u001b[39mvariables \u001b[38;5;241m=\u001b[39m variables\n",
      "File \u001b[1;32m~\\miniconda3\\Lib\\site-packages\\seaborn\\_oldcore.py:938\u001b[0m, in \u001b[0;36mVectorPlotter._assign_variables_longform\u001b[1;34m(self, data, **kwargs)\u001b[0m\n\u001b[0;32m    933\u001b[0m \u001b[38;5;28;01melif\u001b[39;00m \u001b[38;5;28misinstance\u001b[39m(val, (\u001b[38;5;28mstr\u001b[39m, \u001b[38;5;28mbytes\u001b[39m)):\n\u001b[0;32m    934\u001b[0m \n\u001b[0;32m    935\u001b[0m     \u001b[38;5;66;03m# This looks like a column name but we don't know what it means!\u001b[39;00m\n\u001b[0;32m    937\u001b[0m     err \u001b[38;5;241m=\u001b[39m \u001b[38;5;124mf\u001b[39m\u001b[38;5;124m\"\u001b[39m\u001b[38;5;124mCould not interpret value `\u001b[39m\u001b[38;5;132;01m{\u001b[39;00mval\u001b[38;5;132;01m}\u001b[39;00m\u001b[38;5;124m` for parameter `\u001b[39m\u001b[38;5;132;01m{\u001b[39;00mkey\u001b[38;5;132;01m}\u001b[39;00m\u001b[38;5;124m`\u001b[39m\u001b[38;5;124m\"\u001b[39m\n\u001b[1;32m--> 938\u001b[0m     \u001b[38;5;28;01mraise\u001b[39;00m \u001b[38;5;167;01mValueError\u001b[39;00m(err)\n\u001b[0;32m    940\u001b[0m \u001b[38;5;28;01melse\u001b[39;00m:\n\u001b[0;32m    941\u001b[0m \n\u001b[0;32m    942\u001b[0m     \u001b[38;5;66;03m# Otherwise, assume the value is itself data\u001b[39;00m\n\u001b[0;32m    943\u001b[0m \n\u001b[0;32m    944\u001b[0m     \u001b[38;5;66;03m# Raise when data object is present and a vector can't matched\u001b[39;00m\n\u001b[0;32m    945\u001b[0m     \u001b[38;5;28;01mif\u001b[39;00m \u001b[38;5;28misinstance\u001b[39m(data, pd\u001b[38;5;241m.\u001b[39mDataFrame) \u001b[38;5;129;01mand\u001b[39;00m \u001b[38;5;129;01mnot\u001b[39;00m \u001b[38;5;28misinstance\u001b[39m(val, pd\u001b[38;5;241m.\u001b[39mSeries):\n",
      "\u001b[1;31mValueError\u001b[0m: Could not interpret value `Continents Cancellation Rate` for parameter `x`"
     ]
    },
    {
     "data": {
      "text/plain": [
       "<Figure size 800x600 with 0 Axes>"
      ]
     },
     "metadata": {},
     "output_type": "display_data"
    }
   ],
   "source": [
    "plt.figure(figsize=(8, 6))\n",
    "sns.scatterplot(x='Continents Cancellation Rate', y='Flight Status', data=df_train)\n",
    "plt.title('Relación entre Tasa de Cancelación por Continente y Flight Status')\n",
    "plt.xlabel('Tasa de Cancelación por Continente')\n",
    "plt.ylabel('Flight Status')\n",
    "plt.show()"
   ]
  },
  {
   "cell_type": "code",
   "execution_count": null,
   "id": "2858f503",
   "metadata": {},
   "outputs": [],
   "source": [
    "continents_cancellation_rates = df_train.groupby('Continents')['Flight Status'].mean()\n",
    "\n",
    "df_train['Continents Cancellation Rate'] = df_train['Continents'].map(continents_cancellation_rates)\n",
    "\n",
    "correlation_continents_cancellation = df_train['Continents Cancellation Rate'].corr(df_train['Flight Status'])\n",
    "correlation_continents_cancellation"
   ]
  },
  {
   "cell_type": "markdown",
   "id": "749858dd",
   "metadata": {},
   "source": [
    "#### Una correlación de 0.0099 es muy cercana a cero, indicando que no hay una relación lineal fuerte entre el continente de salida del vuelo y la probabilidad de cancelación del vuelo según los datos del conjunto de entrenamiento."
   ]
  },
  {
   "cell_type": "markdown",
   "id": "8ce75abf",
   "metadata": {},
   "source": [
    "#### Evaluamos la correlación entre Nationality y nuestra variable Target [Flight Status], para ello en una primera instancia calculamos la tasa de cancelación por país en df_train. Posteriormente mapeamos dicha tasa en una variable llamada [Nationality Cancellation Rate] y como último paso, calculamos la relacion entre dicha columna y nuestro objetivo."
   ]
  },
  {
   "cell_type": "code",
   "execution_count": null,
   "id": "dd665b33",
   "metadata": {},
   "outputs": [],
   "source": [
    "nationality_cancellation_rates = df_train.groupby('Nationality')['Flight Status'].mean()\n",
    "\n",
    "df_train['Nationality Cancellation Rate'] = df_train['Nationality'].map(nationality_cancellation_rates)\n",
    "\n",
    "correlation_nationality_cancellation = df_train['Nationality Cancellation Rate'].corr(df_train['Flight Status'])\n",
    "correlation_nationality_cancellation"
   ]
  },
  {
   "cell_type": "markdown",
   "id": "efbb940a",
   "metadata": {},
   "source": [
    "#### Un coeficiente de correlación de 0.058 sugiere una correlación positiva muy débil. Esto implica que hay una leve relación entre la nacionalidad y la probabilidad de que un vuelo sea cancelado, pero no es una relación fuerte."
   ]
  },
  {
   "cell_type": "code",
   "execution_count": null,
   "id": "f15a039e",
   "metadata": {},
   "outputs": [],
   "source": [
    "df_train"
   ]
  },
  {
   "cell_type": "markdown",
   "id": "d9ce922a",
   "metadata": {},
   "source": [
    "#### Procedemos a combinar dos variables Nationality e Airport Name en una nueva Airport_Nationality. Posteriormente agrupamos dicha variable según el promedio de Flight Status y procedemos a mapear dicha variable en una columna llamada Airport_Nationality Cancellation Rate. Por último calculamos el coeficiente de correlación de dicha variable con respecto a nuestro target."
   ]
  },
  {
   "cell_type": "code",
   "execution_count": null,
   "id": "a5a62d2a",
   "metadata": {},
   "outputs": [],
   "source": [
    "df_train['Airport_Nationality'] = df_train['Airport Name'] + \"_\" + df_train['Nationality']\n",
    "\n",
    "airport_nationality_cancellation_rates = df_train.groupby('Airport_Nationality')['Flight Status'].mean()\n",
    "\n",
    "df_train['Airport_Nationality Cancellation Rate'] = df_train['Airport_Nationality'].map(airport_nationality_cancellation_rates)\n",
    "\n",
    "correlation_airport_nationality_cancellation = df_train['Airport_Nationality Cancellation Rate'].corr(df_train['Flight Status'])\n",
    "correlation_airport_nationality_cancellation"
   ]
  },
  {
   "cell_type": "markdown",
   "id": "e5d83d6f",
   "metadata": {},
   "source": [
    "#### Desglozamos la variable Departure Date en dos variables nuevas, la primera Month para ver por número de mes el movimiento, y la segunda Week (mismo procedimiento pero por número de semana)."
   ]
  },
  {
   "cell_type": "code",
   "execution_count": null,
   "id": "f5fc6ea3",
   "metadata": {},
   "outputs": [],
   "source": [
    "df_train['Departure Date'] = pd.to_datetime(df_train['Departure Date'])\n",
    "\n",
    "df_train['Month'] = df_train['Departure Date'].dt.month\n",
    "df_train['Week'] = df_train['Departure Date'].dt.isocalendar().week"
   ]
  },
  {
   "cell_type": "markdown",
   "id": "dd7d5b1a",
   "metadata": {},
   "source": [
    "#### Observamos la correlación directa que existe por un lado entre la variable Month y Flight Status, y luego el mismo procedimiento pero con Week y nuestro target."
   ]
  },
  {
   "cell_type": "code",
   "execution_count": null,
   "id": "898ebe91",
   "metadata": {},
   "outputs": [],
   "source": [
    "correlation_month_target = df_train['Month'].corr(df_train['Flight Status'])\n",
    "print(\"Correlation between Month and Flight Status:\", correlation_month_target)\n",
    "\n",
    "correlation_week_target = df_train['Week'].corr(df_train['Flight Status'])\n",
    "print(\"Correlation between Week and Flight Status:\", correlation_week_target)"
   ]
  },
  {
   "cell_type": "markdown",
   "id": "3093fbd8",
   "metadata": {},
   "source": [
    "#### Las correlaciones que has encontrado entre 'Month' y 'Flight Status' (aproximadamente 0.0049) y entre 'Week' y 'Flight Status' (aproximadamente 0.0061) son muy bajas. Estos valores indican que no hay una relación lineal fuerte entre el mes o la semana del año de la fecha de salida y la probabilidad de que un vuelo sea cancelado."
   ]
  },
  {
   "cell_type": "code",
   "execution_count": null,
   "id": "c2f1e4e0",
   "metadata": {},
   "outputs": [],
   "source": [
    "# Crear una nueva columna que combine 'Airport Name' y 'Week'\n",
    "df_train['Airport_Week'] = df_train['Airport Name'] + \"_\" + df_train['Week'].astype(str)\n",
    "\n",
    "# Calcular la tasa de cancelación para cada combinación única de 'Airport Name' y 'Week'\n",
    "airport_week_cancellation_rates = df_train.groupby('Airport_Week')['Flight Status'].mean()\n",
    "\n",
    "# Mapear la tasa de cancelación de vuelta al conjunto de entrenamiento\n",
    "df_train['Airport_Week Cancellation Rate'] = df_train['Airport_Week'].map(airport_week_cancellation_rates)\n",
    "\n",
    "# Calcular la correlación entre esta nueva característica y 'Flight Status'\n",
    "correlation_airport_week_cancellation = df_train['Airport_Week Cancellation Rate'].corr(df_train['Flight Status'])\n",
    "correlation_airport_week_cancellation"
   ]
  },
  {
   "cell_type": "code",
   "execution_count": null,
   "id": "d4a6a4ae",
   "metadata": {},
   "outputs": [],
   "source": [
    "from sklearn.model_selection import cross_val_score, KFold\n",
    "from sklearn.linear_model import LogisticRegression\n",
    "\n",
    "# Asumiendo que df_train ya está preparado con las características y la variable objetivo\n",
    "X = df_train[['Airport_Week Cancellation Rate']]  # las características\n",
    "y = df_train['Flight Status']  # la variable objetivo\n",
    "\n",
    "# Inicializar el modelo de regresión logística\n",
    "model = LogisticRegression()\n",
    "\n",
    "# Configurar la validación cruzada K-Fold\n",
    "kf = KFold(n_splits=5, shuffle=True, random_state=42)\n",
    "\n",
    "# Calcular la precisión (accuracy) en cada pliegue usando cross_val_score\n",
    "scores = cross_val_score(model, X, y, cv=kf, scoring='accuracy')\n",
    "\n",
    "# Calcular la media y la desviación estándar de la precisión\n",
    "mean_accuracy = scores.mean()\n",
    "std_accuracy = scores.std()\n",
    "\n",
    "print(f\"Mean Accuracy: {mean_accuracy}\")\n",
    "print(f\"Standard Deviation of Accuracy: {std_accuracy}\")\n"
   ]
  },
  {
   "cell_type": "code",
   "execution_count": null,
   "id": "8de5ba95",
   "metadata": {},
   "outputs": [],
   "source": [
    "# Entrenar el modelo en todo el conjunto de datos de entrenamiento después de realizar la validación cruzada\n",
    "model = LogisticRegression()\n",
    "model.fit(X, y)  # Ajustar el modelo con todos los datos de entrenamiento\n"
   ]
  },
  {
   "cell_type": "code",
   "execution_count": null,
   "id": "3e4f0f32",
   "metadata": {},
   "outputs": [],
   "source": [
    "import pandas as pd\n",
    "from sklearn.model_selection import train_test_split\n",
    "from sklearn.linear_model import LogisticRegression\n",
    "from sklearn.metrics import accuracy_score, roc_auc_score, classification_report\n",
    "\n",
    "# Asegúrate de convertir 'Departure Date' a datetime y extraer la semana en df_test\n",
    "df_test['Week'] = pd.to_datetime(df_test['Departure Date']).dt.isocalendar().week\n",
    "\n",
    "# Crear la característica combinada 'Airport_Week' en df_test\n",
    "df_test['Airport_Week'] = df_test['Airport Name'] + \"_\" + df_test['Week'].astype(str)\n",
    "\n",
    "# Mapear las tasas de cancelación de 'df_train' a 'df_test'\n",
    "# Asegúrate de que 'airport_week_cancellation_rates' ha sido calculado en df_train\n",
    "df_test['Airport_Week Cancellation Rate'] = df_test['Airport_Week'].map(airport_week_cancellation_rates)\n",
    "\n",
    "# Llenar los valores faltantes en 'Airport_Week Cancellation Rate' con la tasa media de 'df_train'\n",
    "df_test['Airport_Week Cancellation Rate'].fillna(df_train['Airport_Week Cancellation Rate'].mean(), inplace=True)\n",
    "\n",
    "# Las características y la variable objetivo para la predicción\n",
    "X_test = df_test[['Airport_Week Cancellation Rate']]\n",
    "y_test = df_test['Flight Status']\n",
    "\n",
    "# Realizar predicciones con el modelo ya entrenado\n",
    "y_pred = model.predict(X_test)\n",
    "y_pred_proba = model.predict_proba(X_test)[:, 1]\n",
    "\n",
    "# Calcular las métricas de rendimiento\n",
    "accuracy = accuracy_score(y_test, y_pred)\n",
    "roc_auc = roc_auc_score(y_test, y_pred_proba)\n",
    "report = classification_report(y_test, y_pred)\n",
    "\n",
    "# Imprimir las métricas de rendimiento\n",
    "print(f'Accuracy on test set: {accuracy}')\n",
    "print(f'ROC AUC on test set: {roc_auc}')\n",
    "print(report)\n"
   ]
  },
  {
   "cell_type": "markdown",
   "id": "c93ad8ee",
   "metadata": {},
   "source": [
    "##"
   ]
  },
  {
   "cell_type": "markdown",
   "id": "25e1db65",
   "metadata": {},
   "source": [
    "## Conclusiones y Recomendaciones\n",
    "\n",
    "Tras analizar los datos, observamos ciertos patrones interesantes. Por ejemplo, encontramos una relación entre ciertas nacionalidades y una mayor propensión a cancelaciones. Estos hallazgos podrían ser útiles para las aerolíneas al implementar estrategias para reducir el riesgo de cancelaciones.\n"
   ]
  },
  {
   "cell_type": "markdown",
   "id": "f2bf0f9e",
   "metadata": {},
   "source": [
    "## Próximos Pasos\n",
    "\n",
    "- Para mejorar este análisis, consideramos la posibilidad de incorporar más variables o aplicar técnicas de modelado predictivo para desarrollar un modelo robusto de predicción de cancelaciones de vuelos.\n",
    "\n",
    "\n",
    "- Este resumen representa una visión general de nuestro proceso de Data Storytelling basado en el análisis exploratorio de los datos. Se pueden añadir más detalles, visualizaciones y análisis específicos según la necesidad y los resultados obtenidos.\n"
   ]
  },
  {
   "cell_type": "code",
   "execution_count": null,
   "id": "8bc20ff4",
   "metadata": {},
   "outputs": [],
   "source": []
  }
 ],
 "metadata": {
  "kernelspec": {
   "display_name": "Python 3 (ipykernel)",
   "language": "python",
   "name": "python3"
  },
  "language_info": {
   "codemirror_mode": {
    "name": "ipython",
    "version": 3
   },
   "file_extension": ".py",
   "mimetype": "text/x-python",
   "name": "python",
   "nbconvert_exporter": "python",
   "pygments_lexer": "ipython3",
   "version": "3.11.5"
  }
 },
 "nbformat": 4,
 "nbformat_minor": 5
}
